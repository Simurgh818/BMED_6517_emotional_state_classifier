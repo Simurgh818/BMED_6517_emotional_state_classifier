{
 "cells": [
  {
   "cell_type": "markdown",
   "metadata": {
    "id": "VAW69IHlipWq"
   },
   "source": [
    "**References:** \n",
    "\n",
    "1. [DEAP: A Database for Emotion Analysis using Physiological Signals](https://www.eecs.qmul.ac.uk/mmv/datasets/deap/doc/tac_special_issue_2011.pdf)\n",
    "\n",
    "2. [Online Prediction of Driver Distraction Based on Brain Activity Patterns](https://www.researchgate.net/publication/267154789_Online_Prediction_of_Driver_Distraction_Based_on_Brain_Activity_Patterns)\n",
    "\n",
    "3. [Emotion Recognition with Machine Learning Using\n",
    "EEG Signals](https://arxiv.org/pdf/1903.07272.pdf)\n",
    "\n",
    "4. [EEG Correlates of Different Emotional States Elicited during Watching Music Videos](https://www.researchgate.net/publication/221622214_EEG_Correlates_of_Different_Emotional_States_Elicited_during_Watching_Music_Videos)\n",
    "\n",
    "5. [The Effect of Transcranial Magnetic Stimulation on Brain Electrical Activity](https://www.researchgate.net/publication/267811728_THE_EFFECT_OF_TRANSCRANIAL_MAGNETIC_STIMULATION_ON_BRAIN_BIOELECTRICAL_ACTIVITY)"
   ]
  },
  {
   "cell_type": "markdown",
   "metadata": {
    "id": "fjrx_Svjz4i4"
   },
   "source": [
    "**Original dataset:** \n",
    "\n",
    "The dataset is mounted from our Google Drive and could be downloaded [here](https://www.eecs.qmul.ac.uk/mmv/datasets/deap/download.html). "
   ]
  },
  {
   "cell_type": "code",
   "execution_count": 3,
   "metadata": {
    "colab": {
     "base_uri": "https://localhost:8080/"
    },
    "id": "Vyf3uMJNv4Co",
    "outputId": "b0449c75-2650-45de-8aca-f81cee1b1265"
   },
   "outputs": [],
   "source": [
    "import os\n",
    "import time\n",
    "import pickle\n",
    "import pandas as pd\n",
    "import numpy as np\n",
    "import pywt\n",
    "\n",
    "from scipy import signal\n",
    "from scipy.signal import welch\n",
    "from scipy.integrate import simps\n",
    "from scipy.stats import f_oneway\n",
    "\n",
    "from sklearn.model_selection import train_test_split\n",
    "from sklearn.preprocessing import StandardScaler\n",
    "from sklearn.svm import SVC\n",
    "from sklearn.neighbors import KNeighborsClassifier\n",
    "from sklearn.neural_network import MLPClassifier\n",
    "from sklearn import model_selection\n",
    "from sklearn.metrics import classification_report, confusion_matrix\n",
    "import itertools\n",
    "from sklearn.metrics import accuracy_score\n",
    "from sklearn.metrics import f1_score\n",
    "from sklearn.metrics import precision_recall_curve\n",
    "\n",
    "from sklearn.decomposition import FastICA\n",
    "\n",
    "import mne\n",
    "from mne.preprocessing import (ICA, create_eog_epochs, create_ecg_epochs, corrmap)\n",
    "from mne.time_frequency import psd_welch\n",
    "from mne.decoding import cross_val_multiscore\n",
    "\n",
    "from fooof import FOOOFGroup\n",
    "from fooof.bands import Bands\n",
    "from fooof.analysis import get_band_peak_fg\n",
    "from fooof.plts.spectra import plot_spectrum\n",
    "\n",
    "import matplotlib.pyplot as plt\n",
    "from matplotlib import cm\n",
    "import seaborn as sns\n",
    "%matplotlib inline"
   ]
  },
  {
   "cell_type": "code",
   "execution_count": 34,
   "metadata": {},
   "outputs": [],
   "source": [
    "root_folder = 'C:/Users/thiag/OneDrive - Georgia Institute of Technology/DEAP'\n",
    "\n",
    "\n",
    "npy_folder = os.path.join(os.getcwd(), 'results', 'npy')\n",
    "feats_folder = os.path.join(os.getcwd(), 'results', 'EEG_features')\n",
    "\n",
    "\n",
    "if not os.path.exists(feats_folder):\n",
    "    os.makedirs(feats_folder, exist_ok=True)"
   ]
  },
  {
   "cell_type": "markdown",
   "metadata": {
    "id": "o_aflOWKGbi6"
   },
   "source": [
    "# Load dataset\n",
    "The EEG and peripheral physiological signals of 32 participants were recorded as each watched 40 music videos. Participants rated each video in terms of the levels of arousal, valence, dominance, and liking. The data was downsampled (to 128Hz), preprocessed and segmented in pickled Python formats."
   ]
  },
  {
   "cell_type": "code",
   "execution_count": 4,
   "metadata": {
    "id": "nvA40VzlLpvj"
   },
   "outputs": [],
   "source": [
    "# Function to load data from each participant file\n",
    "def read_eeg_signal_from_file(filename):\n",
    "    x = pickle._Unpickler(open(filename, 'rb'))\n",
    "    x.encoding = 'latin1'\n",
    "    p = x.load()\n",
    "    return p"
   ]
  },
  {
   "cell_type": "code",
   "execution_count": 5,
   "metadata": {
    "colab": {
     "base_uri": "https://localhost:8080/"
    },
    "id": "xXtdo39GnE74",
    "outputId": "22b5a4d3-38da-4a40-a8dd-b20dec5d94f6"
   },
   "outputs": [
    {
     "name": "stdout",
     "output_type": "stream",
     "text": [
      "['01', '02', '03', '04', '05', '06', '07', '08', '09', '10', '11', '12', '13', '14', '15', '16', '17', '18', '19', '20', '21', '22']\n"
     ]
    }
   ],
   "source": [
    "# Load only 22/32 participants with frontal videos recorded\n",
    "files = []\n",
    "for n in range(1, 23): \n",
    "    s = ''\n",
    "    if n < 10:\n",
    "        s += '0'\n",
    "    s += str(n)\n",
    "    files.append(s)\n",
    "print(files)"
   ]
  },
  {
   "cell_type": "markdown",
   "metadata": {
    "id": "GZ1uxeBNaYPW"
   },
   "source": [
    "Each participant file contains two arrays: a \"data\" array (40 trials x 40 channels x 8064 data) and a \"label\" array (40 trials x 4 subjective ratings: valence, arousal, dominance, liking). We combine the data files into 2 new arrays with 880 trials for 22/32 participants (participants with frontal videos recorded)."
   ]
  },
  {
   "cell_type": "code",
   "execution_count": 6,
   "metadata": {
    "id": "_-88ra8rMgLu"
   },
   "outputs": [
    {
     "name": "stdout",
     "output_type": "stream",
     "text": [
      "Labels - previous:  (22, 40, 4)\n",
      "Data - previous:  (22, 40, 40, 8064)\n"
     ]
    }
   ],
   "source": [
    "# 22x40 = 880 trials for 22 participants\n",
    "labels = []\n",
    "data = []\n",
    "\n",
    "for i in files: \n",
    "  filename = \"C:/Users/thiag/OneDrive - Georgia Institute of Technology/DEAP/data_preprocessed_python/s\" + i + \".dat\"\n",
    "  trial = read_eeg_signal_from_file(filename)\n",
    "  labels.append(trial['labels'])\n",
    "  data.append(trial['data'])\n",
    "   \n",
    "    \n",
    "# Re-shape arrays into desired shapes\n",
    "labels = np.array(labels)\n",
    "print(\"Labels - previous: \", labels.shape) # trial x label\n",
    "labels = labels.flatten()\n",
    "labels = labels.reshape(880, 4)\n",
    "\n",
    "data = np.array(data)\n",
    "print(\"Data - previous: \", data.shape) # trial x channel x data   \n",
    "data = data.flatten()\n",
    "data = data.reshape(880, 40, 8064)"
   ]
  },
  {
   "cell_type": "code",
   "execution_count": 7,
   "metadata": {
    "colab": {
     "base_uri": "https://localhost:8080/"
    },
    "id": "C1WcNjuRUGaJ",
    "outputId": "7a29067e-48b1-4387-f239-787a91dc4cf3"
   },
   "outputs": [
    {
     "name": "stdout",
     "output_type": "stream",
     "text": [
      "Labels:  (880, 4)\n",
      "Data:  (880, 40, 8064)\n"
     ]
    }
   ],
   "source": [
    "# Double-check the new arrays\n",
    "print(\"Labels: \", labels.shape) # trial x label\n",
    "print(\"Data: \", data.shape) # trial x channel x data"
   ]
  },
  {
   "cell_type": "markdown",
   "metadata": {
    "id": "HbF8zptv1vNb"
   },
   "source": [
    "# Explore and pre-process data"
   ]
  },
  {
   "cell_type": "markdown",
   "metadata": {
    "id": "213JmBn3LpQW"
   },
   "source": [
    "## Labels"
   ]
  },
  {
   "cell_type": "markdown",
   "metadata": {
    "id": "44LeXIJKwFZQ"
   },
   "source": [
    "#### Get Valence and Arousal ratings\n",
    "Valence describes the extent to which an emotion is positive or negative, whereas Arousal refers to its intensity, i.e., the strength of the associated emotional state."
   ]
  },
  {
   "cell_type": "code",
   "execution_count": 8,
   "metadata": {
    "colab": {
     "base_uri": "https://localhost:8080/"
    },
    "id": "maidqUjXRcLk",
    "outputId": "e52293a2-1c00-4c61-ae9f-c683c8b3705d"
   },
   "outputs": [
    {
     "name": "stdout",
     "output_type": "stream",
     "text": [
      "          Valence     Arousal\n",
      "count  880.000000  880.000000\n",
      "mean     5.218034    5.238898\n",
      "std      2.093837    1.879631\n",
      "min      1.000000    1.000000\n",
      "25%      3.650000    3.895000\n",
      "50%      5.040000    5.490000\n",
      "75%      7.040000    6.795000\n",
      "max      9.000000    9.000000\n"
     ]
    }
   ],
   "source": [
    "# Only extract Valence and Arousal ratings\n",
    "df_label_ratings = pd.DataFrame({'Valence': labels[:,0], 'Arousal': labels[:,1]})\n",
    "print(df_label_ratings.describe())"
   ]
  },
  {
   "cell_type": "code",
   "execution_count": 9,
   "metadata": {
    "colab": {
     "base_uri": "https://localhost:8080/"
    },
    "id": "ykoCgtKgr_FG",
    "outputId": "7344704c-b058-4b65-ca82-4e44dbbeef76"
   },
   "outputs": [
    {
     "name": "stdout",
     "output_type": "stream",
     "text": [
      "    Valence  Arousal\n",
      "0      7.71     7.60\n",
      "1      8.10     7.31\n",
      "2      8.58     7.54\n",
      "3      4.94     6.01\n",
      "4      6.96     3.92\n",
      "5      8.27     3.92\n",
      "6      7.44     3.73\n",
      "7      7.32     2.55\n",
      "8      4.04     3.29\n",
      "9      1.99     4.86\n",
      "10     2.99     2.36\n",
      "11     2.71     2.77\n",
      "12     1.95     3.12\n",
      "13     4.18     2.24\n",
      "14     3.17     8.08\n"
     ]
    }
   ],
   "source": [
    "print(df_label_ratings.head(15))"
   ]
  },
  {
   "cell_type": "code",
   "execution_count": 10,
   "metadata": {
    "colab": {
     "base_uri": "https://localhost:8080/",
     "height": 282
    },
    "id": "sdaqvn_7gr0o",
    "outputId": "b9d81086-6e4a-4b66-a189-01c12f8829df"
   },
   "outputs": [
    {
     "data": {
      "text/plain": [
       "<AxesSubplot:>"
      ]
     },
     "execution_count": 10,
     "metadata": {},
     "output_type": "execute_result"
    },
    {
     "data": {
      "image/png": "[encoded data removed]",
      "text/plain": [
       "<Figure size 432x288 with 1 Axes>"
      ]
     },
     "metadata": {
      "needs_background": "light"
     },
     "output_type": "display_data"
    }
   ],
   "source": [
    "# Plot the first 40 data rows (first participant)\n",
    "df_label_ratings.iloc[0:880].plot(style=['o','rx'])"
   ]
  },
  {
   "cell_type": "markdown",
   "metadata": {
    "id": "MbR-yzBmklEv"
   },
   "source": [
    "#### Check positive/negative cases\n",
    "\n",
    "The combinations of Valence and Arousal can be converted to emotional states: High Arousal Positive Valence (Excited, Happy), Low Arousal Positive Valence (Calm, Relaxed), High Arousal Negative Valence (Angry, Nervous), and Low Arousal Negative Valence (Sad, Bored)."
   ]
  },
  {
   "cell_type": "code",
   "execution_count": 11,
   "metadata": {
    "id": "Mkys576y1YEE"
   },
   "outputs": [],
   "source": [
    "# High Arousal Positive Valence dataset\n",
    "df_hahv = df_label_ratings[(df_label_ratings['Valence'] >= np.median(labels[:,0])) & (df_label_ratings['Arousal'] >= np.median(labels[:,1]))]\n",
    "# Low Arousal Positive Valence dataset\n",
    "df_lahv = df_label_ratings[(df_label_ratings['Valence'] >= np.median(labels[:,0])) & (df_label_ratings['Arousal'] < np.median(labels[:,1]))]\n",
    "# High Arousal Negative Valence dataset\n",
    "df_halv = df_label_ratings[(df_label_ratings['Valence'] < np.median(labels[:,0])) & (df_label_ratings['Arousal'] >= np.median(labels[:,1]))]\n",
    "# Low Arousal Negative Valence dataset\n",
    "df_lalv = df_label_ratings[(df_label_ratings['Valence'] < np.median(labels[:,0])) & (df_label_ratings['Arousal'] < np.median(labels[:,1]))]"
   ]
  },
  {
   "cell_type": "code",
   "execution_count": 12,
   "metadata": {
    "colab": {
     "base_uri": "https://localhost:8080/"
    },
    "id": "XtQo4dfl9sT9",
    "outputId": "8c872ac3-88f2-484f-9905-2128c37279db"
   },
   "outputs": [
    {
     "name": "stdout",
     "output_type": "stream",
     "text": [
      "Positive Valence: 457\n",
      "Negative Valence: 423\n",
      "High Arousal: 442\n",
      "Low Arousal: 438\n"
     ]
    }
   ],
   "source": [
    "# Check nummber of trials per each group\n",
    "print(\"Positive Valence:\", str(len(df_hahv) + len(df_lahv)))\n",
    "print(\"Negative Valence:\", str(len(df_halv) + len(df_lalv)))\n",
    "print(\"High Arousal:\", str(len(df_hahv) + len(df_halv)))\n",
    "print(\"Low Arousal:\", str(len(df_lahv) + len(df_lalv)))"
   ]
  },
  {
   "cell_type": "code",
   "execution_count": 13,
   "metadata": {
    "colab": {
     "base_uri": "https://localhost:8080/"
    },
    "id": "UFilc1tEthVU",
    "outputId": "7148f13b-197c-4df2-f1b4-c8a7cce654e4"
   },
   "outputs": [
    {
     "name": "stdout",
     "output_type": "stream",
     "text": [
      "High Arousal Positive Valence: 242\n",
      "Low Arousal Positive Valence: 215\n",
      "High Arousal Negative Valence: 200\n",
      "Low Arousal Negative Valence: 223\n"
     ]
    }
   ],
   "source": [
    "# Check nummber of trials per each group\n",
    "print(\"High Arousal Positive Valence:\", str(len(df_hahv)))\n",
    "print(\"Low Arousal Positive Valence:\", str(len(df_lahv)))\n",
    "print(\"High Arousal Negative Valence:\", str(len(df_halv)))\n",
    "print(\"Low Arousal Negative Valence:\", str(len(df_lalv)))"
   ]
  },
  {
   "cell_type": "code",
   "execution_count": 14,
   "metadata": {
    "colab": {
     "base_uri": "https://localhost:8080/"
    },
    "id": "RcBIRKAB6KVr",
    "outputId": "6ee41535-c422-4a73-a396-56b4406cf000"
   },
   "outputs": [
    {
     "name": "stdout",
     "output_type": "stream",
     "text": [
      "HAHV\n",
      "Valence: Mean 7.12 STD 1.04\n",
      "Arousal: Mean 6.81 STD 0.84\n",
      "\n",
      "LAHV:\n",
      "Valence: Mean 6.67 STD 1.09\n",
      "Arousal: Mean 3.87 STD 1.09\n",
      "\n",
      "HALV:\n",
      "Valence: Mean 3.19 STD 1.23\n",
      "Arousal: Mean 6.79 STD 0.96\n",
      "\n",
      "LALV:\n",
      "Valence: Mean 3.57 STD 1.12\n",
      "Arousal: Mean 3.47 STD 1.19\n"
     ]
    }
   ],
   "source": [
    "# Get mean and std of each group\n",
    "print(\"HAHV\")\n",
    "print(\"Valence:\", \"Mean\", np.round(df_hahv['Valence'].mean(),2), \"STD\", np.round(df_hahv['Valence'].std(),2))\n",
    "print(\"Arousal:\", \"Mean\", np.round(df_hahv['Arousal'].mean(),2), \"STD\", np.round(df_hahv['Arousal'].std(),2))\n",
    "print()\n",
    "print(\"LAHV:\")\n",
    "print(\"Valence:\", \"Mean\", np.round(df_lahv['Valence'].mean(),2), \"STD\", np.round(df_lahv['Valence'].std(),2))\n",
    "print(\"Arousal:\", \"Mean\", np.round(df_lahv['Arousal'].mean(),2), \"STD\", np.round(df_lahv['Arousal'].std(),2))\n",
    "print()\n",
    "print(\"HALV:\")\n",
    "print(\"Valence:\", \"Mean\", np.round(df_halv['Valence'].mean(),2), \"STD\", np.round(df_halv['Valence'].std(),2))\n",
    "print(\"Arousal:\", \"Mean\", np.round(df_halv['Arousal'].mean(),2), \"STD\", np.round(df_halv['Arousal'].std(),2))\n",
    "print()\n",
    "print(\"LALV:\")\n",
    "print(\"Valence:\", \"Mean\", np.round(df_lalv['Valence'].mean(),2), \"STD\", np.round(df_lalv['Valence'].std(),2))\n",
    "print(\"Arousal:\", \"Mean\", np.round(df_lalv['Arousal'].mean(),2), \"STD\", np.round(df_lalv['Arousal'].std(),2))"
   ]
  },
  {
   "cell_type": "code",
   "execution_count": 15,
   "metadata": {
    "colab": {
     "base_uri": "https://localhost:8080/",
     "height": 862
    },
    "id": "SOdF1o_T4nlG",
    "outputId": "29c8503a-c33d-4c91-ee7d-ceb41d2e4d05"
   },
   "outputs": [
    {
     "data": {
      "text/plain": [
       "{'whiskers': [<matplotlib.lines.Line2D at 0x27180933c40>,\n",
       "  <matplotlib.lines.Line2D at 0x27180933fd0>,\n",
       "  <matplotlib.lines.Line2D at 0x271809485b0>,\n",
       "  <matplotlib.lines.Line2D at 0x27180948940>,\n",
       "  <matplotlib.lines.Line2D at 0x27180954ee0>,\n",
       "  <matplotlib.lines.Line2D at 0x271809602b0>,\n",
       "  <matplotlib.lines.Line2D at 0x2718096c850>,\n",
       "  <matplotlib.lines.Line2D at 0x2718096cbe0>],\n",
       " 'caps': [<matplotlib.lines.Line2D at 0x2718093e3a0>,\n",
       "  <matplotlib.lines.Line2D at 0x2718093e730>,\n",
       "  <matplotlib.lines.Line2D at 0x27180948cd0>,\n",
       "  <matplotlib.lines.Line2D at 0x271809540a0>,\n",
       "  <matplotlib.lines.Line2D at 0x27180960640>,\n",
       "  <matplotlib.lines.Line2D at 0x271809609d0>,\n",
       "  <matplotlib.lines.Line2D at 0x2718096cf70>,\n",
       "  <matplotlib.lines.Line2D at 0x27180978370>],\n",
       " 'boxes': [<matplotlib.lines.Line2D at 0x271809338b0>,\n",
       "  <matplotlib.lines.Line2D at 0x27180948220>,\n",
       "  <matplotlib.lines.Line2D at 0x27180954b50>,\n",
       "  <matplotlib.lines.Line2D at 0x2718096c4c0>],\n",
       " 'medians': [<matplotlib.lines.Line2D at 0x2718093eac0>,\n",
       "  <matplotlib.lines.Line2D at 0x27180954430>,\n",
       "  <matplotlib.lines.Line2D at 0x27180960d60>,\n",
       "  <matplotlib.lines.Line2D at 0x27180978700>],\n",
       " 'fliers': [<matplotlib.lines.Line2D at 0x2718093ee50>,\n",
       "  <matplotlib.lines.Line2D at 0x271809547c0>,\n",
       "  <matplotlib.lines.Line2D at 0x2718096c130>,\n",
       "  <matplotlib.lines.Line2D at 0x27180978a90>],\n",
       " 'means': []}"
      ]
     },
     "execution_count": 15,
     "metadata": {},
     "output_type": "execute_result"
    },
    {
     "data": {
      "image/png": "[encoded data removed]",
      "text/plain": [
       "<Figure size 864x288 with 2 Axes>"
      ]
     },
     "metadata": {
      "needs_background": "light"
     },
     "output_type": "display_data"
    }
   ],
   "source": [
    "# Valence and Arousal ratings between groups\n",
    "fig, axs = plt.subplots(1, 2, figsize=(12,4))\n",
    "\n",
    "axs[0].set_title(\"Valence\")\n",
    "axs[0].set_ylim(1, 9)\n",
    "axs[0].boxplot([df_hahv['Valence'], df_lahv['Valence'], df_halv['Valence'], df_lalv['Valence']], labels=['HAHV','LAHV','HALV', 'LALV'])\n",
    "\n",
    "axs[1].set_title(\"Arousal\")\n",
    "axs[1].set_ylim(1, 9)\n",
    "axs[1].boxplot([df_hahv['Arousal'], df_lahv['Arousal'], df_halv['Arousal'], df_lalv['Arousal']], labels=['HAHV','LAHV','HALV', 'LALV'])"
   ]
  },
  {
   "cell_type": "code",
   "execution_count": 25,
   "metadata": {
    "colab": {
     "base_uri": "https://localhost:8080/",
     "height": 754
    },
    "id": "7UAnUqheDOI-",
    "outputId": "e2cab8a5-5849-4dd0-d825-c4380453a002"
   },
   "outputs": [
    {
     "data": {
      "text/plain": [
       "{'whiskers': [<matplotlib.lines.Line2D at 0x19580f9d6d0>,\n",
       "  <matplotlib.lines.Line2D at 0x19580f9da60>,\n",
       "  <matplotlib.lines.Line2D at 0x19580fb7040>,\n",
       "  <matplotlib.lines.Line2D at 0x19580fb73d0>],\n",
       " 'caps': [<matplotlib.lines.Line2D at 0x19580f9ddf0>,\n",
       "  <matplotlib.lines.Line2D at 0x19580fac1c0>,\n",
       "  <matplotlib.lines.Line2D at 0x19580fb7760>,\n",
       "  <matplotlib.lines.Line2D at 0x19580fb7af0>],\n",
       " 'boxes': [<matplotlib.lines.Line2D at 0x19580f9d340>,\n",
       "  <matplotlib.lines.Line2D at 0x19580facc70>],\n",
       " 'medians': [<matplotlib.lines.Line2D at 0x19580fac550>,\n",
       "  <matplotlib.lines.Line2D at 0x19580fb7e80>],\n",
       " 'fliers': [<matplotlib.lines.Line2D at 0x19580fac8e0>,\n",
       "  <matplotlib.lines.Line2D at 0x19580fc1250>],\n",
       " 'means': []}"
      ]
     },
     "execution_count": 25,
     "metadata": {},
     "output_type": "execute_result"
    },
    {
     "data": {
      "image/png": "[encoded data removed]",
      "text/plain": [
       "<Figure size 864x576 with 4 Axes>"
      ]
     },
     "metadata": {
      "needs_background": "light"
     },
     "output_type": "display_data"
    }
   ],
   "source": [
    "# Valence and Arousal ratings per group\n",
    "fig, axs = plt.subplots(2, 2, figsize=(12,8))\n",
    "\n",
    "axs[0,0].set_title(\"HAHV\")\n",
    "axs[0,0].set_ylim(1, 9)\n",
    "axs[0,0].boxplot([df_hahv['Valence'], df_hahv['Arousal']], labels=['Valence','Arousal'])\n",
    "\n",
    "axs[0,1].set_title(\"LAHV\")\n",
    "axs[0,1].set_ylim(1, 9)\n",
    "axs[0,1].boxplot([df_lahv['Valence'], df_lahv['Arousal']], labels=['Valence','Arousal'])\n",
    "\n",
    "axs[1,0].set_title(\"HALV\")\n",
    "axs[1,0].set_ylim(1, 9)\n",
    "axs[1,0].boxplot([df_halv['Valence'], df_halv['Arousal']], labels=['Valence','Arousal'])\n",
    "\n",
    "axs[1,1].set_title(\"LALV\")\n",
    "axs[1,1].set_ylim(1, 9)\n",
    "axs[1,1].boxplot([df_lalv['Valence'], df_lalv['Arousal']], labels=['Valence','Arousal'])"
   ]
  },
  {
   "cell_type": "markdown",
   "metadata": {
    "id": "EMULqzxuv5rG"
   },
   "source": [
    "#### One hot encoding"
   ]
  },
  {
   "cell_type": "code",
   "execution_count": 26,
   "metadata": {
    "id": "ODyfQxmdkHph"
   },
   "outputs": [],
   "source": [
    "# Function to check if each trial has positive or negative valence\n",
    "def positive_valence(trial):\n",
    "    return 1 if labels[trial,0] >= np.median(labels[:,0]) else 0 \n",
    "# Function to check if each trial has high or low arousal\n",
    "def high_arousal(trial):\n",
    "    return 1 if labels[trial,1] >= np.median(labels[:,1]) else 0"
   ]
  },
  {
   "cell_type": "code",
   "execution_count": 27,
   "metadata": {
    "colab": {
     "base_uri": "https://localhost:8080/"
    },
    "id": "g9J20dcmwWAs",
    "outputId": "80904415-c4eb-44ec-d85d-dd8cf0ef3822"
   },
   "outputs": [
    {
     "name": "stdout",
     "output_type": "stream",
     "text": [
      "       Positive Valence  High Arousal\n",
      "count        880.000000    880.000000\n",
      "mean           0.519318      0.502273\n",
      "std            0.499911      0.500279\n",
      "min            0.000000      0.000000\n",
      "25%            0.000000      0.000000\n",
      "50%            1.000000      1.000000\n",
      "75%            1.000000      1.000000\n",
      "max            1.000000      1.000000\n"
     ]
    }
   ],
   "source": [
    "# Convert all ratings to boolean values\n",
    "labels_encoded = []\n",
    "for i in range (len(labels)):\n",
    "  labels_encoded.append([positive_valence(i), high_arousal(i)])\n",
    "labels_encoded = np.reshape(labels_encoded, (880, 2))\n",
    "df_labels = pd.DataFrame(data=labels_encoded, columns=[\"Positive Valence\", \"High Arousal\"])\n",
    "print(df_labels.describe())"
   ]
  },
  {
   "cell_type": "code",
   "execution_count": 28,
   "metadata": {
    "id": "4DWLd5HRnokl"
   },
   "outputs": [],
   "source": [
    "# Dataset with only Valence column\n",
    "df_valence = df_labels['Positive Valence']\n",
    "# Dataset with only Arousal column\n",
    "df_arousal = df_labels['High Arousal']"
   ]
  },
  {
   "cell_type": "markdown",
   "metadata": {
    "id": "waFpwzunvEl_"
   },
   "source": [
    "## EEG data"
   ]
  },
  {
   "cell_type": "markdown",
   "metadata": {
    "id": "qJuZ48FormXW"
   },
   "source": [
    "### Separate EEG and non-EEG data\n",
    "\n",
    "The dataset includes 32 EEG channels and 8 peripheral physiological channels. The peripheral signals include: electrooculogram (EOG), electromyograms (EMG) of Zygomaticus and Trapezius muscles, GSR, respiration amplitude, blood volume by plethysmograph, skin temperature."
   ]
  },
  {
   "cell_type": "code",
   "execution_count": 16,
   "metadata": {},
   "outputs": [],
   "source": [
    "eeg_channels = np.array([\"Fp1\", \"AF3\", \"F3\", \"F7\", \"FC5\", \"FC1\", \"C3\", \"T7\", \"CP5\", \"CP1\", \"P3\", \"P7\", \"PO3\", \"O1\", \"Oz\", \"Pz\", \"Fp2\", \"AF4\", \"Fz\", \"F4\", \"F8\", \"FC6\", \"FC2\", \"Cz\", \"C4\", \"T8\", \"CP6\", \"CP2\", \"P4\", \"P8\", \"PO4\", \"O2\"])\n",
    "peripheral_channels = np.array([\"hEOG\", \"vEOG\", \"zEMG\", \"tEMG\", \"GSR\", \"Respiration belt\", \"Plethysmograph\", \"Temperature\"])"
   ]
  },
  {
   "cell_type": "code",
   "execution_count": 17,
   "metadata": {},
   "outputs": [
    {
     "name": "stdout",
     "output_type": "stream",
     "text": [
      "(880, 32, 8064)\n"
     ]
    }
   ],
   "source": [
    "eeg_data = []\n",
    "for i in range (len(data)):\n",
    "  for j in range (len(eeg_channels)):\n",
    "    eeg_data.append(data[i,j])\n",
    "eeg_data = np.reshape(eeg_data, (len(data), len(eeg_channels), len(data[0,0])))\n",
    "print(eeg_data.shape)"
   ]
  },
  {
   "cell_type": "code",
   "execution_count": 83,
   "metadata": {},
   "outputs": [],
   "source": [
    "# Compute ICA\n",
    "n_ICs = 32\n",
    "ica = FastICA(n_components=n_ICs, max_iter=100)"
   ]
  },
  {
   "cell_type": "code",
   "execution_count": 84,
   "metadata": {},
   "outputs": [
    {
     "name": "stdout",
     "output_type": "stream",
     "text": [
      "0\n"
     ]
    },
    {
     "name": "stderr",
     "output_type": "stream",
     "text": [
      "c:\\Users\\thiag\\anaconda3\\lib\\site-packages\\sklearn\\decomposition\\_fastica.py:116: ConvergenceWarning: FastICA did not converge. Consider increasing tolerance or the maximum number of iterations.\n",
      "  warnings.warn(\n"
     ]
    },
    {
     "name": "stdout",
     "output_type": "stream",
     "text": [
      "1\n"
     ]
    },
    {
     "name": "stderr",
     "output_type": "stream",
     "text": [
      "c:\\Users\\thiag\\anaconda3\\lib\\site-packages\\sklearn\\decomposition\\_fastica.py:116: ConvergenceWarning: FastICA did not converge. Consider increasing tolerance or the maximum number of iterations.\n",
      "  warnings.warn(\n"
     ]
    },
    {
     "name": "stdout",
     "output_type": "stream",
     "text": [
      "2\n"
     ]
    },
    {
     "name": "stderr",
     "output_type": "stream",
     "text": [
      "c:\\Users\\thiag\\anaconda3\\lib\\site-packages\\sklearn\\decomposition\\_fastica.py:116: ConvergenceWarning: FastICA did not converge. Consider increasing tolerance or the maximum number of iterations.\n",
      "  warnings.warn(\n"
     ]
    },
    {
     "name": "stdout",
     "output_type": "stream",
     "text": [
      "3\n"
     ]
    },
    {
     "name": "stderr",
     "output_type": "stream",
     "text": [
      "c:\\Users\\thiag\\anaconda3\\lib\\site-packages\\sklearn\\decomposition\\_fastica.py:116: ConvergenceWarning: FastICA did not converge. Consider increasing tolerance or the maximum number of iterations.\n",
      "  warnings.warn(\n"
     ]
    },
    {
     "name": "stdout",
     "output_type": "stream",
     "text": [
      "4\n"
     ]
    },
    {
     "name": "stderr",
     "output_type": "stream",
     "text": [
      "c:\\Users\\thiag\\anaconda3\\lib\\site-packages\\sklearn\\decomposition\\_fastica.py:116: ConvergenceWarning: FastICA did not converge. Consider increasing tolerance or the maximum number of iterations.\n",
      "  warnings.warn(\n"
     ]
    },
    {
     "name": "stdout",
     "output_type": "stream",
     "text": [
      "5\n"
     ]
    },
    {
     "name": "stderr",
     "output_type": "stream",
     "text": [
      "c:\\Users\\thiag\\anaconda3\\lib\\site-packages\\sklearn\\decomposition\\_fastica.py:116: ConvergenceWarning: FastICA did not converge. Consider increasing tolerance or the maximum number of iterations.\n",
      "  warnings.warn(\n"
     ]
    },
    {
     "name": "stdout",
     "output_type": "stream",
     "text": [
      "6\n"
     ]
    },
    {
     "name": "stderr",
     "output_type": "stream",
     "text": [
      "c:\\Users\\thiag\\anaconda3\\lib\\site-packages\\sklearn\\decomposition\\_fastica.py:116: ConvergenceWarning: FastICA did not converge. Consider increasing tolerance or the maximum number of iterations.\n",
      "  warnings.warn(\n"
     ]
    },
    {
     "name": "stdout",
     "output_type": "stream",
     "text": [
      "7\n"
     ]
    },
    {
     "name": "stderr",
     "output_type": "stream",
     "text": [
      "c:\\Users\\thiag\\anaconda3\\lib\\site-packages\\sklearn\\decomposition\\_fastica.py:116: ConvergenceWarning: FastICA did not converge. Consider increasing tolerance or the maximum number of iterations.\n",
      "  warnings.warn(\n"
     ]
    },
    {
     "name": "stdout",
     "output_type": "stream",
     "text": [
      "8\n"
     ]
    },
    {
     "name": "stderr",
     "output_type": "stream",
     "text": [
      "c:\\Users\\thiag\\anaconda3\\lib\\site-packages\\sklearn\\decomposition\\_fastica.py:116: ConvergenceWarning: FastICA did not converge. Consider increasing tolerance or the maximum number of iterations.\n",
      "  warnings.warn(\n"
     ]
    },
    {
     "name": "stdout",
     "output_type": "stream",
     "text": [
      "9\n"
     ]
    },
    {
     "name": "stderr",
     "output_type": "stream",
     "text": [
      "c:\\Users\\thiag\\anaconda3\\lib\\site-packages\\sklearn\\decomposition\\_fastica.py:116: ConvergenceWarning: FastICA did not converge. Consider increasing tolerance or the maximum number of iterations.\n",
      "  warnings.warn(\n"
     ]
    },
    {
     "name": "stdout",
     "output_type": "stream",
     "text": [
      "10\n"
     ]
    },
    {
     "name": "stderr",
     "output_type": "stream",
     "text": [
      "c:\\Users\\thiag\\anaconda3\\lib\\site-packages\\sklearn\\decomposition\\_fastica.py:116: ConvergenceWarning: FastICA did not converge. Consider increasing tolerance or the maximum number of iterations.\n",
      "  warnings.warn(\n"
     ]
    },
    {
     "name": "stdout",
     "output_type": "stream",
     "text": [
      "11\n"
     ]
    },
    {
     "name": "stderr",
     "output_type": "stream",
     "text": [
      "c:\\Users\\thiag\\anaconda3\\lib\\site-packages\\sklearn\\decomposition\\_fastica.py:116: ConvergenceWarning: FastICA did not converge. Consider increasing tolerance or the maximum number of iterations.\n",
      "  warnings.warn(\n"
     ]
    },
    {
     "name": "stdout",
     "output_type": "stream",
     "text": [
      "12\n"
     ]
    },
    {
     "name": "stderr",
     "output_type": "stream",
     "text": [
      "c:\\Users\\thiag\\anaconda3\\lib\\site-packages\\sklearn\\decomposition\\_fastica.py:116: ConvergenceWarning: FastICA did not converge. Consider increasing tolerance or the maximum number of iterations.\n",
      "  warnings.warn(\n"
     ]
    },
    {
     "name": "stdout",
     "output_type": "stream",
     "text": [
      "13\n"
     ]
    },
    {
     "name": "stderr",
     "output_type": "stream",
     "text": [
      "c:\\Users\\thiag\\anaconda3\\lib\\site-packages\\sklearn\\decomposition\\_fastica.py:116: ConvergenceWarning: FastICA did not converge. Consider increasing tolerance or the maximum number of iterations.\n",
      "  warnings.warn(\n"
     ]
    },
    {
     "name": "stdout",
     "output_type": "stream",
     "text": [
      "14\n"
     ]
    },
    {
     "name": "stderr",
     "output_type": "stream",
     "text": [
      "c:\\Users\\thiag\\anaconda3\\lib\\site-packages\\sklearn\\decomposition\\_fastica.py:116: ConvergenceWarning: FastICA did not converge. Consider increasing tolerance or the maximum number of iterations.\n",
      "  warnings.warn(\n"
     ]
    },
    {
     "name": "stdout",
     "output_type": "stream",
     "text": [
      "15\n"
     ]
    },
    {
     "name": "stderr",
     "output_type": "stream",
     "text": [
      "c:\\Users\\thiag\\anaconda3\\lib\\site-packages\\sklearn\\decomposition\\_fastica.py:116: ConvergenceWarning: FastICA did not converge. Consider increasing tolerance or the maximum number of iterations.\n",
      "  warnings.warn(\n"
     ]
    },
    {
     "name": "stdout",
     "output_type": "stream",
     "text": [
      "16\n"
     ]
    },
    {
     "name": "stderr",
     "output_type": "stream",
     "text": [
      "c:\\Users\\thiag\\anaconda3\\lib\\site-packages\\sklearn\\decomposition\\_fastica.py:116: ConvergenceWarning: FastICA did not converge. Consider increasing tolerance or the maximum number of iterations.\n",
      "  warnings.warn(\n"
     ]
    },
    {
     "name": "stdout",
     "output_type": "stream",
     "text": [
      "17\n"
     ]
    },
    {
     "name": "stderr",
     "output_type": "stream",
     "text": [
      "c:\\Users\\thiag\\anaconda3\\lib\\site-packages\\sklearn\\decomposition\\_fastica.py:116: ConvergenceWarning: FastICA did not converge. Consider increasing tolerance or the maximum number of iterations.\n",
      "  warnings.warn(\n"
     ]
    },
    {
     "name": "stdout",
     "output_type": "stream",
     "text": [
      "18\n"
     ]
    },
    {
     "name": "stderr",
     "output_type": "stream",
     "text": [
      "c:\\Users\\thiag\\anaconda3\\lib\\site-packages\\sklearn\\decomposition\\_fastica.py:116: ConvergenceWarning: FastICA did not converge. Consider increasing tolerance or the maximum number of iterations.\n",
      "  warnings.warn(\n"
     ]
    },
    {
     "name": "stdout",
     "output_type": "stream",
     "text": [
      "19\n"
     ]
    },
    {
     "name": "stderr",
     "output_type": "stream",
     "text": [
      "c:\\Users\\thiag\\anaconda3\\lib\\site-packages\\sklearn\\decomposition\\_fastica.py:116: ConvergenceWarning: FastICA did not converge. Consider increasing tolerance or the maximum number of iterations.\n",
      "  warnings.warn(\n"
     ]
    },
    {
     "name": "stdout",
     "output_type": "stream",
     "text": [
      "20\n"
     ]
    },
    {
     "name": "stderr",
     "output_type": "stream",
     "text": [
      "c:\\Users\\thiag\\anaconda3\\lib\\site-packages\\sklearn\\decomposition\\_fastica.py:116: ConvergenceWarning: FastICA did not converge. Consider increasing tolerance or the maximum number of iterations.\n",
      "  warnings.warn(\n"
     ]
    },
    {
     "name": "stdout",
     "output_type": "stream",
     "text": [
      "21\n"
     ]
    },
    {
     "name": "stderr",
     "output_type": "stream",
     "text": [
      "c:\\Users\\thiag\\anaconda3\\lib\\site-packages\\sklearn\\decomposition\\_fastica.py:116: ConvergenceWarning: FastICA did not converge. Consider increasing tolerance or the maximum number of iterations.\n",
      "  warnings.warn(\n"
     ]
    },
    {
     "name": "stdout",
     "output_type": "stream",
     "text": [
      "22\n"
     ]
    },
    {
     "name": "stderr",
     "output_type": "stream",
     "text": [
      "c:\\Users\\thiag\\anaconda3\\lib\\site-packages\\sklearn\\decomposition\\_fastica.py:116: ConvergenceWarning: FastICA did not converge. Consider increasing tolerance or the maximum number of iterations.\n",
      "  warnings.warn(\n"
     ]
    },
    {
     "name": "stdout",
     "output_type": "stream",
     "text": [
      "23\n"
     ]
    },
    {
     "name": "stderr",
     "output_type": "stream",
     "text": [
      "c:\\Users\\thiag\\anaconda3\\lib\\site-packages\\sklearn\\decomposition\\_fastica.py:116: ConvergenceWarning: FastICA did not converge. Consider increasing tolerance or the maximum number of iterations.\n",
      "  warnings.warn(\n"
     ]
    },
    {
     "name": "stdout",
     "output_type": "stream",
     "text": [
      "24\n"
     ]
    },
    {
     "name": "stderr",
     "output_type": "stream",
     "text": [
      "c:\\Users\\thiag\\anaconda3\\lib\\site-packages\\sklearn\\decomposition\\_fastica.py:116: ConvergenceWarning: FastICA did not converge. Consider increasing tolerance or the maximum number of iterations.\n",
      "  warnings.warn(\n"
     ]
    },
    {
     "name": "stdout",
     "output_type": "stream",
     "text": [
      "25\n"
     ]
    },
    {
     "name": "stderr",
     "output_type": "stream",
     "text": [
      "c:\\Users\\thiag\\anaconda3\\lib\\site-packages\\sklearn\\decomposition\\_fastica.py:116: ConvergenceWarning: FastICA did not converge. Consider increasing tolerance or the maximum number of iterations.\n",
      "  warnings.warn(\n"
     ]
    },
    {
     "name": "stdout",
     "output_type": "stream",
     "text": [
      "26\n"
     ]
    },
    {
     "name": "stderr",
     "output_type": "stream",
     "text": [
      "c:\\Users\\thiag\\anaconda3\\lib\\site-packages\\sklearn\\decomposition\\_fastica.py:116: ConvergenceWarning: FastICA did not converge. Consider increasing tolerance or the maximum number of iterations.\n",
      "  warnings.warn(\n"
     ]
    },
    {
     "name": "stdout",
     "output_type": "stream",
     "text": [
      "27\n"
     ]
    },
    {
     "name": "stderr",
     "output_type": "stream",
     "text": [
      "c:\\Users\\thiag\\anaconda3\\lib\\site-packages\\sklearn\\decomposition\\_fastica.py:116: ConvergenceWarning: FastICA did not converge. Consider increasing tolerance or the maximum number of iterations.\n",
      "  warnings.warn(\n"
     ]
    },
    {
     "name": "stdout",
     "output_type": "stream",
     "text": [
      "28\n"
     ]
    },
    {
     "ename": "KeyboardInterrupt",
     "evalue": "",
     "output_type": "error",
     "traceback": [
      "\u001b[1;31m---------------------------------------------------------------------------\u001b[0m",
      "\u001b[1;31mKeyboardInterrupt\u001b[0m                         Traceback (most recent call last)",
      "\u001b[1;32m~\\AppData\\Local\\Temp/ipykernel_11116/3711127360.py\u001b[0m in \u001b[0;36m<module>\u001b[1;34m\u001b[0m\n\u001b[0;32m      2\u001b[0m \u001b[1;32mfor\u001b[0m \u001b[0midx\u001b[0m\u001b[1;33m,\u001b[0m \u001b[0mepoch\u001b[0m \u001b[1;32min\u001b[0m \u001b[0menumerate\u001b[0m\u001b[1;33m(\u001b[0m\u001b[0meeg_data\u001b[0m\u001b[1;33m)\u001b[0m\u001b[1;33m:\u001b[0m\u001b[1;33m\u001b[0m\u001b[1;33m\u001b[0m\u001b[0m\n\u001b[0;32m      3\u001b[0m     \u001b[0mprint\u001b[0m\u001b[1;33m(\u001b[0m\u001b[0midx\u001b[0m\u001b[1;33m)\u001b[0m\u001b[1;33m\u001b[0m\u001b[1;33m\u001b[0m\u001b[0m\n\u001b[1;32m----> 4\u001b[1;33m     \u001b[0mic\u001b[0m \u001b[1;33m=\u001b[0m \u001b[0mica\u001b[0m\u001b[1;33m.\u001b[0m\u001b[0mfit_transform\u001b[0m\u001b[1;33m(\u001b[0m\u001b[0mepoch\u001b[0m\u001b[1;33m.\u001b[0m\u001b[0mT\u001b[0m\u001b[1;33m)\u001b[0m\u001b[1;33m\u001b[0m\u001b[1;33m\u001b[0m\u001b[0m\n\u001b[0m\u001b[0;32m      5\u001b[0m     \u001b[0meeg_ic\u001b[0m\u001b[1;33m[\u001b[0m\u001b[0midx\u001b[0m\u001b[1;33m]\u001b[0m \u001b[1;33m=\u001b[0m \u001b[0mic\u001b[0m\u001b[1;33m.\u001b[0m\u001b[0mT\u001b[0m\u001b[1;33m\u001b[0m\u001b[1;33m\u001b[0m\u001b[0m\n\u001b[0;32m      6\u001b[0m \u001b[0mprint\u001b[0m\u001b[1;33m(\u001b[0m\u001b[0meeg_ic\u001b[0m\u001b[1;33m.\u001b[0m\u001b[0mshape\u001b[0m\u001b[1;33m)\u001b[0m\u001b[1;33m\u001b[0m\u001b[1;33m\u001b[0m\u001b[0m\n",
      "\u001b[1;32mc:\\Users\\thiag\\anaconda3\\lib\\site-packages\\sklearn\\decomposition\\_fastica.py\u001b[0m in \u001b[0;36mfit_transform\u001b[1;34m(self, X, y)\u001b[0m\n\u001b[0;32m    613\u001b[0m             \u001b[0mestimated\u001b[0m \u001b[0munmixing\u001b[0m \u001b[0mmatrix\u001b[0m\u001b[1;33m.\u001b[0m\u001b[1;33m\u001b[0m\u001b[1;33m\u001b[0m\u001b[0m\n\u001b[0;32m    614\u001b[0m         \"\"\"\n\u001b[1;32m--> 615\u001b[1;33m         \u001b[1;32mreturn\u001b[0m \u001b[0mself\u001b[0m\u001b[1;33m.\u001b[0m\u001b[0m_fit\u001b[0m\u001b[1;33m(\u001b[0m\u001b[0mX\u001b[0m\u001b[1;33m,\u001b[0m \u001b[0mcompute_sources\u001b[0m\u001b[1;33m=\u001b[0m\u001b[1;32mTrue\u001b[0m\u001b[1;33m)\u001b[0m\u001b[1;33m\u001b[0m\u001b[1;33m\u001b[0m\u001b[0m\n\u001b[0m\u001b[0;32m    616\u001b[0m \u001b[1;33m\u001b[0m\u001b[0m\n\u001b[0;32m    617\u001b[0m     \u001b[1;32mdef\u001b[0m \u001b[0mfit\u001b[0m\u001b[1;33m(\u001b[0m\u001b[0mself\u001b[0m\u001b[1;33m,\u001b[0m \u001b[0mX\u001b[0m\u001b[1;33m,\u001b[0m \u001b[0my\u001b[0m\u001b[1;33m=\u001b[0m\u001b[1;32mNone\u001b[0m\u001b[1;33m)\u001b[0m\u001b[1;33m:\u001b[0m\u001b[1;33m\u001b[0m\u001b[1;33m\u001b[0m\u001b[0m\n",
      "\u001b[1;32mc:\\Users\\thiag\\anaconda3\\lib\\site-packages\\sklearn\\decomposition\\_fastica.py\u001b[0m in \u001b[0;36m_fit\u001b[1;34m(self, X, compute_sources)\u001b[0m\n\u001b[0;32m    564\u001b[0m \u001b[1;33m\u001b[0m\u001b[0m\n\u001b[0;32m    565\u001b[0m         \u001b[1;32mif\u001b[0m \u001b[0mself\u001b[0m\u001b[1;33m.\u001b[0m\u001b[0malgorithm\u001b[0m \u001b[1;33m==\u001b[0m \u001b[1;34m\"parallel\"\u001b[0m\u001b[1;33m:\u001b[0m\u001b[1;33m\u001b[0m\u001b[1;33m\u001b[0m\u001b[0m\n\u001b[1;32m--> 566\u001b[1;33m             \u001b[0mW\u001b[0m\u001b[1;33m,\u001b[0m \u001b[0mn_iter\u001b[0m \u001b[1;33m=\u001b[0m \u001b[0m_ica_par\u001b[0m\u001b[1;33m(\u001b[0m\u001b[0mX1\u001b[0m\u001b[1;33m,\u001b[0m \u001b[1;33m**\u001b[0m\u001b[0mkwargs\u001b[0m\u001b[1;33m)\u001b[0m\u001b[1;33m\u001b[0m\u001b[1;33m\u001b[0m\u001b[0m\n\u001b[0m\u001b[0;32m    567\u001b[0m         \u001b[1;32melif\u001b[0m \u001b[0mself\u001b[0m\u001b[1;33m.\u001b[0m\u001b[0malgorithm\u001b[0m \u001b[1;33m==\u001b[0m \u001b[1;34m\"deflation\"\u001b[0m\u001b[1;33m:\u001b[0m\u001b[1;33m\u001b[0m\u001b[1;33m\u001b[0m\u001b[0m\n\u001b[0;32m    568\u001b[0m             \u001b[0mW\u001b[0m\u001b[1;33m,\u001b[0m \u001b[0mn_iter\u001b[0m \u001b[1;33m=\u001b[0m \u001b[0m_ica_def\u001b[0m\u001b[1;33m(\u001b[0m\u001b[0mX1\u001b[0m\u001b[1;33m,\u001b[0m \u001b[1;33m**\u001b[0m\u001b[0mkwargs\u001b[0m\u001b[1;33m)\u001b[0m\u001b[1;33m\u001b[0m\u001b[1;33m\u001b[0m\u001b[0m\n",
      "\u001b[1;32mc:\\Users\\thiag\\anaconda3\\lib\\site-packages\\sklearn\\decomposition\\_fastica.py\u001b[0m in \u001b[0;36m_ica_par\u001b[1;34m(***failed resolving arguments***)\u001b[0m\n\u001b[0;32m    105\u001b[0m     \u001b[0mp_\u001b[0m \u001b[1;33m=\u001b[0m \u001b[0mfloat\u001b[0m\u001b[1;33m(\u001b[0m\u001b[0mX\u001b[0m\u001b[1;33m.\u001b[0m\u001b[0mshape\u001b[0m\u001b[1;33m[\u001b[0m\u001b[1;36m1\u001b[0m\u001b[1;33m]\u001b[0m\u001b[1;33m)\u001b[0m\u001b[1;33m\u001b[0m\u001b[1;33m\u001b[0m\u001b[0m\n\u001b[0;32m    106\u001b[0m     \u001b[1;32mfor\u001b[0m \u001b[0mii\u001b[0m \u001b[1;32min\u001b[0m \u001b[0mrange\u001b[0m\u001b[1;33m(\u001b[0m\u001b[0mmax_iter\u001b[0m\u001b[1;33m)\u001b[0m\u001b[1;33m:\u001b[0m\u001b[1;33m\u001b[0m\u001b[1;33m\u001b[0m\u001b[0m\n\u001b[1;32m--> 107\u001b[1;33m         \u001b[0mgwtx\u001b[0m\u001b[1;33m,\u001b[0m \u001b[0mg_wtx\u001b[0m \u001b[1;33m=\u001b[0m \u001b[0mg\u001b[0m\u001b[1;33m(\u001b[0m\u001b[0mnp\u001b[0m\u001b[1;33m.\u001b[0m\u001b[0mdot\u001b[0m\u001b[1;33m(\u001b[0m\u001b[0mW\u001b[0m\u001b[1;33m,\u001b[0m \u001b[0mX\u001b[0m\u001b[1;33m)\u001b[0m\u001b[1;33m,\u001b[0m \u001b[0mfun_args\u001b[0m\u001b[1;33m)\u001b[0m\u001b[1;33m\u001b[0m\u001b[1;33m\u001b[0m\u001b[0m\n\u001b[0m\u001b[0;32m    108\u001b[0m         \u001b[0mW1\u001b[0m \u001b[1;33m=\u001b[0m \u001b[0m_sym_decorrelation\u001b[0m\u001b[1;33m(\u001b[0m\u001b[0mnp\u001b[0m\u001b[1;33m.\u001b[0m\u001b[0mdot\u001b[0m\u001b[1;33m(\u001b[0m\u001b[0mgwtx\u001b[0m\u001b[1;33m,\u001b[0m \u001b[0mX\u001b[0m\u001b[1;33m.\u001b[0m\u001b[0mT\u001b[0m\u001b[1;33m)\u001b[0m \u001b[1;33m/\u001b[0m \u001b[0mp_\u001b[0m \u001b[1;33m-\u001b[0m \u001b[0mg_wtx\u001b[0m\u001b[1;33m[\u001b[0m\u001b[1;33m:\u001b[0m\u001b[1;33m,\u001b[0m \u001b[0mnp\u001b[0m\u001b[1;33m.\u001b[0m\u001b[0mnewaxis\u001b[0m\u001b[1;33m]\u001b[0m \u001b[1;33m*\u001b[0m \u001b[0mW\u001b[0m\u001b[1;33m)\u001b[0m\u001b[1;33m\u001b[0m\u001b[1;33m\u001b[0m\u001b[0m\n\u001b[0;32m    109\u001b[0m         \u001b[1;32mdel\u001b[0m \u001b[0mgwtx\u001b[0m\u001b[1;33m,\u001b[0m \u001b[0mg_wtx\u001b[0m\u001b[1;33m\u001b[0m\u001b[1;33m\u001b[0m\u001b[0m\n",
      "\u001b[1;32mc:\\Users\\thiag\\anaconda3\\lib\\site-packages\\sklearn\\decomposition\\_fastica.py\u001b[0m in \u001b[0;36m_logcosh\u001b[1;34m(x, fun_args)\u001b[0m\n\u001b[0;32m    129\u001b[0m \u001b[1;33m\u001b[0m\u001b[0m\n\u001b[0;32m    130\u001b[0m     \u001b[0mx\u001b[0m \u001b[1;33m*=\u001b[0m \u001b[0malpha\u001b[0m\u001b[1;33m\u001b[0m\u001b[1;33m\u001b[0m\u001b[0m\n\u001b[1;32m--> 131\u001b[1;33m     \u001b[0mgx\u001b[0m \u001b[1;33m=\u001b[0m \u001b[0mnp\u001b[0m\u001b[1;33m.\u001b[0m\u001b[0mtanh\u001b[0m\u001b[1;33m(\u001b[0m\u001b[0mx\u001b[0m\u001b[1;33m,\u001b[0m \u001b[0mx\u001b[0m\u001b[1;33m)\u001b[0m  \u001b[1;31m# apply the tanh inplace\u001b[0m\u001b[1;33m\u001b[0m\u001b[1;33m\u001b[0m\u001b[0m\n\u001b[0m\u001b[0;32m    132\u001b[0m     \u001b[0mg_x\u001b[0m \u001b[1;33m=\u001b[0m \u001b[0mnp\u001b[0m\u001b[1;33m.\u001b[0m\u001b[0mempty\u001b[0m\u001b[1;33m(\u001b[0m\u001b[0mx\u001b[0m\u001b[1;33m.\u001b[0m\u001b[0mshape\u001b[0m\u001b[1;33m[\u001b[0m\u001b[1;36m0\u001b[0m\u001b[1;33m]\u001b[0m\u001b[1;33m)\u001b[0m\u001b[1;33m\u001b[0m\u001b[1;33m\u001b[0m\u001b[0m\n\u001b[0;32m    133\u001b[0m     \u001b[1;31m# XXX compute in chunks to avoid extra allocation\u001b[0m\u001b[1;33m\u001b[0m\u001b[1;33m\u001b[0m\u001b[0m\n",
      "\u001b[1;31mKeyboardInterrupt\u001b[0m: "
     ]
    }
   ],
   "source": [
    "eeg_ic = np.ndarray((eeg_data.shape[0],n_ICs,eeg_data.shape[2]))\n",
    "for idx, epoch in enumerate(eeg_data):\n",
    "    print(idx)\n",
    "    ic = ica.fit_transform(epoch.T)\n",
    "    eeg_ic[idx] = ic.T \n",
    "print(eeg_ic.shape)"
   ]
  },
  {
   "cell_type": "markdown",
   "metadata": {},
   "source": [
    "# Calculate energy of frequency bands using Discrete Wavelet Transform"
   ]
  },
  {
   "cell_type": "code",
   "execution_count": 85,
   "metadata": {},
   "outputs": [],
   "source": [
    "def wavelet_entropy(eeg_data):\n",
    "    wavelet = 'db6'\n",
    "    level = 5\n",
    "    waveletEnergy = np.ndarray((eeg_data.shape[0], eeg_data.shape[1], level+1))\n",
    "    coeffs = pywt.wavedec(eeg_data, 'db6', level=5)\n",
    "    cA5, cD5, cD4, cD3, cD2, cD1 = coeffs\n",
    "    for idx, band in enumerate(coeffs):\n",
    "        waveletEnergy[:,:,idx] = np.sum(np.power(band,2),-1)\n",
    "    waveletTotEnergy = np.sum(energy,-1)\n",
    "    normWaveletEnergy = (waveletEnergy.T/waveletTotEnergy.T).T\n",
    "    waveletEntropy = (-1*normWaveletEnergy.T*np.log(normWaveletEnergy.T)).T\n",
    "\n",
    "    return waveletEntropy\n"
   ]
  },
  {
   "cell_type": "code",
   "execution_count": 87,
   "metadata": {},
   "outputs": [
    {
     "name": "stdout",
     "output_type": "stream",
     "text": [
      "(880, 32, 6)\n"
     ]
    }
   ],
   "source": [
    "waveletEntropy = wavelet_entropy(eeg_data)\n",
    "print(waveletEntropy.shape)"
   ]
  },
  {
   "cell_type": "markdown",
   "metadata": {},
   "source": [
    "# Connectivity feature"
   ]
  },
  {
   "cell_type": "code",
   "execution_count": 28,
   "metadata": {},
   "outputs": [
    {
     "name": "stdout",
     "output_type": "stream",
     "text": [
      "(0.5, 3.5)\n"
     ]
    }
   ],
   "source": [
    "iter_freqs = ((0.5, 3.5),   # Delta\n",
    "              (3.5, 7),     # Theta\n",
    "              (7, 14),      # Alpha    \n",
    "              (14, 28),     # Beta\n",
    "              (28, 56))     # Gamma\n",
    "N_bands = len(iter_freqs)\n",
    "N_EEG_electrodes = 32\n",
    "sfreq = 128\n",
    "n_epoch = eeg_data.shape[0]"
   ]
  },
  {
   "cell_type": "code",
   "execution_count": 29,
   "metadata": {},
   "outputs": [],
   "source": [
    "def calc_bands(epoch, iter_freqs, sfreq):\n",
    "    freq_bands = np.ndarray((len(iter_freqs), epoch.shape[0], epoch.shape[1]))\n",
    "    for idx, freq in enumerate(iter_freqs):\n",
    "        filtered = mne.filter.filter_data(epoch, sfreq, freq[0], freq[1], verbose=False)\n",
    "        freq_bands[idx] = filtered\n",
    "    return freq_bands"
   ]
  },
  {
   "cell_type": "code",
   "execution_count": 30,
   "metadata": {},
   "outputs": [],
   "source": [
    "def extract_phase(array):\n",
    "    analytic_signal = signal.hilbert(array)\n",
    "    instantaneous_phase = (np.angle(analytic_signal))\n",
    "    phase = np.where(instantaneous_phase > 0, 1, -1)\n",
    "    return instantaneous_phase/np.pi, phase"
   ]
  },
  {
   "cell_type": "code",
   "execution_count": 31,
   "metadata": {},
   "outputs": [],
   "source": [
    "def PLV(data_1, data_2):\n",
    "    instant_phase_1, phase_1 = extract_phase(data_1)\n",
    "    instant_phase_2, phase_2 = extract_phase(data_2)\n",
    "    inst_phase_sum = instant_phase_1 - instant_phase_2\n",
    "    PLV = (np.exp(1j*inst_phase_sum))\n",
    "    return np.abs(np.mean(PLV))"
   ]
  },
  {
   "cell_type": "code",
   "execution_count": 32,
   "metadata": {},
   "outputs": [],
   "source": [
    "def epoch_connectivity(epoch):\n",
    "    epoch_band_connectivity = np.ones((N_EEG_electrodes,N_EEG_electrodes))\n",
    "    epoch_connectivity = np.ndarray((len(iter_freqs), N_EEG_electrodes, N_EEG_electrodes))\n",
    "    epoch_bands = calc_bands(epoch, iter_freqs, sfreq)\n",
    "    for idx_band, band in enumerate (epoch_bands):\n",
    "        for ch_i in range (0,len(band)):\n",
    "            for ch_j in range (0,len(band)):\n",
    "                    # checking if i and j indexes are not on same element\n",
    "                    if (ch_i!=ch_j):\n",
    "                        if (ch_i>ch_j):\n",
    "                            epoch_band_connectivity[ch_i][ch_j] = epoch_band_connectivity[ch_j][ch_i]\n",
    "                        else:\n",
    "                            epoch_band_connectivity[ch_i][ch_j] = PLV(band[ch_i,:], band[ch_j,:])\n",
    "        epoch_connectivity[idx_band] = epoch_band_connectivity\n",
    "    return epoch_connectivity"
   ]
  },
  {
   "cell_type": "code",
   "execution_count": 33,
   "metadata": {},
   "outputs": [
    {
     "name": "stdout",
     "output_type": "stream",
     "text": [
      "0\n",
      "1\n",
      "2\n",
      "3\n",
      "4\n",
      "5\n",
      "6\n",
      "7\n",
      "8\n",
      "9\n",
      "10\n",
      "11\n",
      "12\n",
      "13\n",
      "14\n",
      "15\n",
      "16\n",
      "17\n",
      "18\n",
      "19\n",
      "20\n",
      "21\n",
      "22\n",
      "23\n",
      "24\n",
      "25\n",
      "26\n",
      "27\n",
      "28\n",
      "29\n",
      "30\n",
      "31\n",
      "32\n",
      "33\n",
      "34\n",
      "35\n",
      "36\n",
      "37\n",
      "38\n",
      "39\n",
      "40\n",
      "41\n",
      "42\n",
      "43\n",
      "44\n",
      "45\n",
      "46\n",
      "47\n",
      "48\n",
      "49\n",
      "50\n",
      "51\n",
      "52\n",
      "53\n",
      "54\n",
      "55\n",
      "56\n",
      "57\n",
      "58\n",
      "59\n",
      "60\n",
      "61\n",
      "62\n",
      "63\n",
      "64\n",
      "65\n",
      "66\n",
      "67\n",
      "68\n",
      "69\n",
      "70\n",
      "71\n",
      "72\n",
      "73\n",
      "74\n",
      "75\n",
      "76\n",
      "77\n",
      "78\n",
      "79\n",
      "80\n",
      "81\n",
      "82\n",
      "83\n",
      "84\n",
      "85\n",
      "86\n",
      "87\n",
      "88\n",
      "89\n",
      "90\n",
      "91\n",
      "92\n",
      "93\n",
      "94\n",
      "95\n",
      "96\n",
      "97\n",
      "98\n",
      "99\n",
      "100\n",
      "101\n",
      "102\n",
      "103\n",
      "104\n",
      "105\n",
      "106\n",
      "107\n",
      "108\n",
      "109\n",
      "110\n",
      "111\n",
      "112\n",
      "113\n",
      "114\n",
      "115\n",
      "116\n",
      "117\n",
      "118\n",
      "119\n",
      "120\n",
      "121\n",
      "122\n",
      "123\n",
      "124\n",
      "125\n",
      "126\n",
      "127\n",
      "128\n",
      "129\n",
      "130\n",
      "131\n",
      "132\n",
      "133\n",
      "134\n",
      "135\n",
      "136\n",
      "137\n",
      "138\n",
      "139\n",
      "140\n",
      "141\n",
      "142\n",
      "143\n",
      "144\n",
      "145\n",
      "146\n",
      "147\n",
      "148\n",
      "149\n",
      "150\n",
      "151\n",
      "152\n",
      "153\n",
      "154\n",
      "155\n",
      "156\n",
      "157\n",
      "158\n",
      "159\n",
      "160\n",
      "161\n",
      "162\n",
      "163\n",
      "164\n",
      "165\n",
      "166\n",
      "167\n",
      "168\n",
      "169\n",
      "170\n",
      "171\n",
      "172\n",
      "173\n",
      "174\n",
      "175\n",
      "176\n",
      "177\n",
      "178\n",
      "179\n",
      "180\n",
      "181\n",
      "182\n",
      "183\n",
      "184\n",
      "185\n",
      "186\n",
      "187\n",
      "188\n",
      "189\n",
      "190\n",
      "191\n",
      "192\n",
      "193\n",
      "194\n",
      "195\n",
      "196\n",
      "197\n",
      "198\n",
      "199\n",
      "200\n",
      "201\n",
      "202\n",
      "203\n",
      "204\n",
      "205\n",
      "206\n",
      "207\n",
      "208\n",
      "209\n",
      "210\n",
      "211\n",
      "212\n",
      "213\n",
      "214\n",
      "215\n",
      "216\n",
      "217\n",
      "218\n",
      "219\n",
      "220\n",
      "221\n",
      "222\n",
      "223\n",
      "224\n",
      "225\n",
      "226\n",
      "227\n",
      "228\n",
      "229\n",
      "230\n",
      "231\n",
      "232\n",
      "233\n",
      "234\n",
      "235\n",
      "236\n",
      "237\n",
      "238\n",
      "239\n",
      "240\n",
      "241\n",
      "242\n",
      "243\n",
      "244\n",
      "245\n",
      "246\n",
      "247\n",
      "248\n",
      "249\n",
      "250\n",
      "251\n",
      "252\n",
      "253\n",
      "254\n",
      "255\n",
      "256\n",
      "257\n",
      "258\n",
      "259\n",
      "260\n",
      "261\n",
      "262\n",
      "263\n",
      "264\n",
      "265\n",
      "266\n",
      "267\n",
      "268\n",
      "269\n",
      "270\n",
      "271\n",
      "272\n",
      "273\n",
      "274\n",
      "275\n",
      "276\n",
      "277\n",
      "278\n",
      "279\n",
      "280\n",
      "281\n",
      "282\n",
      "283\n",
      "284\n",
      "285\n",
      "286\n",
      "287\n",
      "288\n",
      "289\n",
      "290\n",
      "291\n",
      "292\n",
      "293\n",
      "294\n",
      "295\n",
      "296\n",
      "297\n",
      "298\n",
      "299\n",
      "300\n",
      "301\n",
      "302\n",
      "303\n",
      "304\n",
      "305\n",
      "306\n",
      "307\n",
      "308\n",
      "309\n",
      "310\n",
      "311\n",
      "312\n",
      "313\n",
      "314\n",
      "315\n",
      "316\n",
      "317\n",
      "318\n",
      "319\n",
      "320\n",
      "321\n",
      "322\n",
      "323\n",
      "324\n",
      "325\n",
      "326\n",
      "327\n",
      "328\n",
      "329\n",
      "330\n",
      "331\n",
      "332\n",
      "333\n",
      "334\n",
      "335\n",
      "336\n",
      "337\n",
      "338\n",
      "339\n",
      "340\n",
      "341\n",
      "342\n",
      "343\n",
      "344\n",
      "345\n",
      "346\n",
      "347\n",
      "348\n",
      "349\n",
      "350\n",
      "351\n",
      "352\n",
      "353\n",
      "354\n",
      "355\n",
      "356\n",
      "357\n",
      "358\n",
      "359\n",
      "360\n",
      "361\n",
      "362\n",
      "363\n",
      "364\n",
      "365\n",
      "366\n",
      "367\n",
      "368\n",
      "369\n",
      "370\n",
      "371\n",
      "372\n",
      "373\n",
      "374\n",
      "375\n",
      "376\n",
      "377\n",
      "378\n",
      "379\n",
      "380\n",
      "381\n",
      "382\n",
      "383\n",
      "384\n",
      "385\n",
      "386\n",
      "387\n",
      "388\n",
      "389\n",
      "390\n",
      "391\n",
      "392\n",
      "393\n",
      "394\n",
      "395\n",
      "396\n",
      "397\n",
      "398\n",
      "399\n",
      "400\n",
      "401\n",
      "402\n",
      "403\n",
      "404\n",
      "405\n",
      "406\n",
      "407\n",
      "408\n",
      "409\n",
      "410\n",
      "411\n",
      "412\n",
      "413\n",
      "414\n",
      "415\n",
      "416\n",
      "417\n",
      "418\n",
      "419\n",
      "420\n",
      "421\n",
      "422\n",
      "423\n",
      "424\n",
      "425\n",
      "426\n",
      "427\n",
      "428\n",
      "429\n",
      "430\n",
      "431\n",
      "432\n",
      "433\n",
      "434\n",
      "435\n",
      "436\n",
      "437\n",
      "438\n",
      "439\n",
      "440\n",
      "441\n",
      "442\n",
      "443\n",
      "444\n",
      "445\n",
      "446\n",
      "447\n",
      "448\n",
      "449\n",
      "450\n",
      "451\n",
      "452\n",
      "453\n",
      "454\n",
      "455\n",
      "456\n",
      "457\n",
      "458\n",
      "459\n",
      "460\n",
      "461\n",
      "462\n",
      "463\n",
      "464\n",
      "465\n",
      "466\n",
      "467\n",
      "468\n",
      "469\n",
      "470\n",
      "471\n",
      "472\n",
      "473\n",
      "474\n",
      "475\n",
      "476\n",
      "477\n",
      "478\n",
      "479\n",
      "480\n",
      "481\n",
      "482\n",
      "483\n",
      "484\n",
      "485\n",
      "486\n",
      "487\n",
      "488\n",
      "489\n",
      "490\n",
      "491\n",
      "492\n",
      "493\n",
      "494\n",
      "495\n",
      "496\n",
      "497\n",
      "498\n",
      "499\n",
      "500\n",
      "501\n",
      "502\n",
      "503\n",
      "504\n",
      "505\n",
      "506\n",
      "507\n",
      "508\n",
      "509\n",
      "510\n",
      "511\n",
      "512\n",
      "513\n",
      "514\n",
      "515\n",
      "516\n",
      "517\n",
      "518\n",
      "519\n",
      "520\n",
      "521\n",
      "522\n",
      "523\n",
      "524\n",
      "525\n",
      "526\n",
      "527\n",
      "528\n",
      "529\n",
      "530\n",
      "531\n",
      "532\n",
      "533\n",
      "534\n",
      "535\n",
      "536\n",
      "537\n",
      "538\n",
      "539\n",
      "540\n",
      "541\n",
      "542\n",
      "543\n",
      "544\n",
      "545\n",
      "546\n",
      "547\n",
      "548\n",
      "549\n",
      "550\n",
      "551\n",
      "552\n",
      "553\n",
      "554\n",
      "555\n",
      "556\n",
      "557\n",
      "558\n",
      "559\n",
      "560\n",
      "561\n",
      "562\n",
      "563\n",
      "564\n",
      "565\n",
      "566\n",
      "567\n",
      "568\n",
      "569\n",
      "570\n",
      "571\n",
      "572\n",
      "573\n",
      "574\n",
      "575\n",
      "576\n",
      "577\n",
      "578\n",
      "579\n",
      "580\n",
      "581\n",
      "582\n",
      "583\n",
      "584\n",
      "585\n",
      "586\n",
      "587\n",
      "588\n",
      "589\n",
      "590\n",
      "591\n",
      "592\n",
      "593\n",
      "594\n",
      "595\n",
      "596\n",
      "597\n",
      "598\n",
      "599\n",
      "600\n",
      "601\n",
      "602\n",
      "603\n",
      "604\n",
      "605\n",
      "606\n",
      "607\n",
      "608\n",
      "609\n",
      "610\n",
      "611\n",
      "612\n",
      "613\n",
      "614\n",
      "615\n",
      "616\n",
      "617\n",
      "618\n",
      "619\n",
      "620\n",
      "621\n",
      "622\n",
      "623\n",
      "624\n",
      "625\n",
      "626\n",
      "627\n",
      "628\n",
      "629\n",
      "630\n",
      "631\n",
      "632\n",
      "633\n",
      "634\n",
      "635\n",
      "636\n",
      "637\n",
      "638\n",
      "639\n",
      "640\n",
      "641\n",
      "642\n",
      "643\n",
      "644\n",
      "645\n",
      "646\n",
      "647\n",
      "648\n",
      "649\n",
      "650\n",
      "651\n",
      "652\n",
      "653\n",
      "654\n",
      "655\n",
      "656\n",
      "657\n",
      "658\n",
      "659\n",
      "660\n",
      "661\n",
      "662\n",
      "663\n",
      "664\n",
      "665\n",
      "666\n",
      "667\n",
      "668\n",
      "669\n",
      "670\n",
      "671\n",
      "672\n",
      "673\n",
      "674\n",
      "675\n",
      "676\n",
      "677\n",
      "678\n",
      "679\n",
      "680\n",
      "681\n",
      "682\n",
      "683\n",
      "684\n",
      "685\n",
      "686\n",
      "687\n",
      "688\n",
      "689\n",
      "690\n",
      "691\n",
      "692\n",
      "693\n",
      "694\n",
      "695\n",
      "696\n",
      "697\n",
      "698\n",
      "699\n",
      "700\n",
      "701\n",
      "702\n",
      "703\n",
      "704\n",
      "705\n",
      "706\n",
      "707\n",
      "708\n",
      "709\n",
      "710\n",
      "711\n",
      "712\n",
      "713\n",
      "714\n",
      "715\n",
      "716\n",
      "717\n",
      "718\n",
      "719\n",
      "720\n",
      "721\n",
      "722\n",
      "723\n",
      "724\n",
      "725\n",
      "726\n",
      "727\n",
      "728\n",
      "729\n",
      "730\n",
      "731\n",
      "732\n",
      "733\n",
      "734\n",
      "735\n",
      "736\n",
      "737\n",
      "738\n",
      "739\n",
      "740\n",
      "741\n",
      "742\n",
      "743\n",
      "744\n",
      "745\n",
      "746\n",
      "747\n",
      "748\n",
      "749\n",
      "750\n",
      "751\n",
      "752\n",
      "753\n",
      "754\n",
      "755\n",
      "756\n",
      "757\n",
      "758\n",
      "759\n",
      "760\n",
      "761\n",
      "762\n",
      "763\n",
      "764\n",
      "765\n",
      "766\n",
      "767\n",
      "768\n",
      "769\n",
      "770\n",
      "771\n",
      "772\n",
      "773\n",
      "774\n",
      "775\n",
      "776\n",
      "777\n",
      "778\n",
      "779\n",
      "780\n",
      "781\n",
      "782\n",
      "783\n",
      "784\n",
      "785\n",
      "786\n",
      "787\n",
      "788\n",
      "789\n",
      "790\n",
      "791\n",
      "792\n",
      "793\n",
      "794\n",
      "795\n",
      "796\n",
      "797\n",
      "798\n",
      "799\n",
      "800\n",
      "801\n",
      "802\n",
      "803\n",
      "804\n",
      "805\n",
      "806\n",
      "807\n",
      "808\n",
      "809\n",
      "810\n",
      "811\n",
      "812\n",
      "813\n",
      "814\n",
      "815\n",
      "816\n",
      "817\n",
      "818\n",
      "819\n",
      "820\n",
      "821\n",
      "822\n",
      "823\n",
      "824\n",
      "825\n",
      "826\n",
      "827\n",
      "828\n",
      "829\n",
      "830\n",
      "831\n",
      "832\n",
      "833\n",
      "834\n",
      "835\n",
      "836\n",
      "837\n",
      "838\n",
      "839\n",
      "840\n",
      "841\n",
      "842\n",
      "843\n",
      "844\n",
      "845\n",
      "846\n",
      "847\n",
      "848\n",
      "849\n",
      "850\n",
      "851\n",
      "852\n",
      "853\n",
      "854\n",
      "855\n",
      "856\n",
      "857\n",
      "858\n",
      "859\n",
      "860\n",
      "861\n",
      "862\n",
      "863\n",
      "864\n",
      "865\n",
      "866\n",
      "867\n",
      "868\n",
      "869\n",
      "870\n",
      "871\n",
      "872\n",
      "873\n",
      "874\n",
      "875\n",
      "876\n",
      "877\n",
      "878\n",
      "879\n"
     ]
    }
   ],
   "source": [
    "data_connectivity = np.ndarray((n_epoch, len(iter_freqs), N_EEG_electrodes, N_EEG_electrodes))\n",
    "\n",
    "# epoch = eeg_data[0]\n",
    "for idx_epoch, epoch in enumerate(eeg_data):\n",
    "    print(idx_epoch)\n",
    "    data_connectivity[idx_epoch,:,:,:] = epoch_connectivity(epoch)\n",
    "\n"
   ]
  },
  {
   "cell_type": "code",
   "execution_count": 79,
   "metadata": {},
   "outputs": [
    {
     "name": "stderr",
     "output_type": "stream",
     "text": [
      "C:\\Users\\thiag\\AppData\\Local\\Temp/ipykernel_15168/2417683405.py:3: MatplotlibDeprecationWarning: Calling add_axes() without argument is deprecated since 3.3 and will be removed two minor releases later. You may want to use add_subplot() instead.\n",
      "  pixel_plot.add_axes()\n"
     ]
    },
    {
     "data": {
      "image/png": "[encoded data removed]",
      "text/plain": [
       "<Figure size 432x288 with 2 Axes>"
      ]
     },
     "metadata": {
      "needs_background": "light"
     },
     "output_type": "display_data"
    },
    {
     "data": {
      "image/png": "[encoded data removed]",
      "text/plain": [
       "<Figure size 432x288 with 2 Axes>"
      ]
     },
     "metadata": {
      "needs_background": "light"
     },
     "output_type": "display_data"
    },
    {
     "data": {
      "image/png": "[encoded data removed]",
      "text/plain": [
       "<Figure size 432x288 with 2 Axes>"
      ]
     },
     "metadata": {
      "needs_background": "light"
     },
     "output_type": "display_data"
    },
    {
     "data": {
      "image/png": "[encoded data removed]",
      "text/plain": [
       "<Figure size 432x288 with 2 Axes>"
      ]
     },
     "metadata": {
      "needs_background": "light"
     },
     "output_type": "display_data"
    },
    {
     "data": {
      "image/png": "[encoded data removed]",
      "text/plain": [
       "<Figure size 432x288 with 2 Axes>"
      ]
     },
     "metadata": {
      "needs_background": "light"
     },
     "output_type": "display_data"
    }
   ],
   "source": [
    "epoch_connectivity = data_connectivity[0]\n",
    "for connectivity_matrix in epoch_connectivity:\n",
    "    pixel_plot = plt.figure()\n",
    "    pixel_plot.add_axes()\n",
    "    plt.title(\"pixel_plot\")\n",
    "    pixel_plot = plt.imshow(connectivity_matrix, cmap='hot', interpolation='nearest')\n",
    "    plt.colorbar(pixel_plot)\n",
    "    plt.show(pixel_plot)"
   ]
  },
  {
   "cell_type": "code",
   "execution_count": 89,
   "metadata": {},
   "outputs": [],
   "source": [
    "feats_path = os.path.join(feats_folder, 'EEG_features.npy')\n",
    "\n",
    "features = {}\n",
    "\n",
    "features['connectivity'] = data_connectivity\n",
    "features['waveletEntropy'] = waveletEntropy\n",
    "\n",
    "np.save(feats_path, features)"
   ]
  },
  {
   "cell_type": "markdown",
   "metadata": {
    "id": "Vm_iTpEy_LJy"
   },
   "source": [
    "### Process new datasets with 6 EEG regions and 4 band power values"
   ]
  },
  {
   "cell_type": "code",
   "execution_count": 55,
   "metadata": {
    "id": "uPAKkeLoX1m-"
   },
   "outputs": [],
   "source": [
    "# Transform 880 x 32 x 8064 => 880 x 128\n",
    "eeg_band_arr = []\n",
    "for i in range (len(eeg_data)):\n",
    "  for j in range (len(eeg_data[0])):\n",
    "    eeg_band_arr.append(get_band_power(i,j,\"theta\"))\n",
    "    eeg_band_arr.append(get_band_power(i,j,\"alpha\"))\n",
    "    eeg_band_arr.append(get_band_power(i,j,\"beta\"))\n",
    "    eeg_band_arr.append(get_band_power(i,j,\"gamma\"))\n",
    "eeg_band_arr = np.reshape(eeg_band_arr, (880, 128))"
   ]
  },
  {
   "cell_type": "markdown",
   "metadata": {
    "id": "2pUbENit2g6K"
   },
   "source": [
    "EEG channels are divided into 6 groups, according to their cerebral spatial locations. We combine the temmporal-left and temporal-right channels into the left and right groups. The frontal group only includes the fronto-central channels. All centro-parietal channels are included in the central group."
   ]
  },
  {
   "cell_type": "code",
   "execution_count": 56,
   "metadata": {
    "id": "eUinxvZMnN6m"
   },
   "outputs": [],
   "source": [
    "left = np.array([\"Fp1\", \"AF3\", \"F7\", \"FC5\", \"T7\"])\n",
    "right = np.array([\"Fp2\", \"AF4\", \"F8\", \"FC6\", \"T8\"])\n",
    "frontal = np.array([\"F3\", \"FC1\", \"Fz\", \"F4\", \"FC2\"])\n",
    "parietal = np.array([\"P3\", \"P7\", \"Pz\", \"P4\", \"P8\"])\n",
    "occipital = np.array([\"O1\", \"Oz\", \"O2\", \"PO3\", \"PO4\"])\n",
    "central = np.array([\"CP5\", \"CP1\", \"Cz\", \"C4\", \"C3\", \"CP6\", \"CP2\"])"
   ]
  },
  {
   "cell_type": "markdown",
   "metadata": {
    "id": "UT6wjhN-Z_eY"
   },
   "source": [
    "#### Dataframe for Theta power values"
   ]
  },
  {
   "cell_type": "code",
   "execution_count": 57,
   "metadata": {
    "colab": {
     "base_uri": "https://localhost:8080/"
    },
    "id": "zfSLIKTWaD8l",
    "outputId": "733364e1-69b4-4b2b-dfab-d6fda511ebc3"
   },
   "outputs": [
    {
     "name": "stdout",
     "output_type": "stream",
     "text": [
      "                Fp1           AF3            F3            F7           FC5  \\\n",
      "count  8.800000e+02  8.800000e+02  8.800000e+02  8.800000e+02  8.800000e+02   \n",
      "mean   5.476747e+02  1.275351e+03  9.614382e+02  2.081203e+03  9.465240e+02   \n",
      "std    1.217600e+03  3.736193e+03  3.558854e+03  5.918715e+03  2.572982e+03   \n",
      "min    2.895855e-12  5.217485e-12  8.531922e-12  1.108519e-11  4.114167e-12   \n",
      "25%    2.409321e+01  1.860138e+01  2.204631e+01  3.912328e+01  1.387218e+01   \n",
      "50%    5.845061e+01  7.275575e+01  7.399130e+01  1.053462e+02  4.300044e+01   \n",
      "75%    3.662748e+02  3.134779e+02  1.963466e+02  2.787570e+02  2.560120e+02   \n",
      "max    1.552414e+04  3.812287e+04  3.943132e+04  4.927279e+04  2.018267e+04   \n",
      "\n",
      "                FC1            C3            T7           CP5           CP1  \\\n",
      "count  8.800000e+02  8.800000e+02  8.800000e+02  8.800000e+02  8.800000e+02   \n",
      "mean   3.356400e+02  6.296681e+02  3.841360e+02  4.374546e+02  2.786658e+02   \n",
      "std    7.140925e+02  1.774593e+03  6.900685e+02  1.326672e+03  5.150939e+02   \n",
      "min    2.321902e-12  4.197735e-12  5.177377e-12  2.881030e-12  4.006213e-12   \n",
      "25%    1.467979e+01  2.565766e+01  5.306434e+01  1.793526e+01  2.791837e+01   \n",
      "50%    6.613197e+01  5.540395e+01  1.343628e+02  5.008069e+01  5.148099e+01   \n",
      "75%    3.065275e+02  2.696281e+02  4.000128e+02  2.054430e+02  2.481592e+02   \n",
      "max    8.542244e+03  2.602117e+04  7.023986e+03  1.467942e+04  5.972589e+03   \n",
      "\n",
      "       ...           FC2            Cz            C4            T8  \\\n",
      "count  ...  8.800000e+02  8.800000e+02  8.800000e+02  8.800000e+02   \n",
      "mean   ...  6.943112e+02  5.202644e+02  5.699225e+02  9.477042e+02   \n",
      "std    ...  1.782751e+03  1.493336e+03  2.229102e+03  2.639437e+03   \n",
      "min    ...  3.088596e-12  1.737452e-12  2.045050e-12  5.735842e-12   \n",
      "25%    ...  3.661734e+01  3.090492e+01  1.098201e+01  2.502060e+01   \n",
      "50%    ...  8.224725e+01  7.788048e+01  2.549932e+01  9.061322e+01   \n",
      "75%    ...  2.327203e+02  3.371528e+02  1.311600e+02  4.375865e+02   \n",
      "max    ...  1.861722e+04  1.640847e+04  2.482637e+04  2.803871e+04   \n",
      "\n",
      "                CP6           CP2            P4            P8           PO4  \\\n",
      "count  8.800000e+02  8.800000e+02  8.800000e+02  8.800000e+02  8.800000e+02   \n",
      "mean   5.754783e+02  3.753618e+02  6.235180e+02  2.220864e+02  8.101956e+02   \n",
      "std    1.793347e+03  7.664979e+02  1.647595e+03  4.987195e+02  1.937348e+03   \n",
      "min    2.665075e-12  2.230971e-12  5.547972e-12  5.096006e-12  5.862282e-12   \n",
      "25%    2.541919e+01  2.290101e+01  2.578426e+01  1.926577e+01  2.749293e+01   \n",
      "50%    9.205180e+01  7.374162e+01  7.863668e+01  8.009464e+01  6.629124e+01   \n",
      "75%    2.692621e+02  2.998243e+02  2.711625e+02  2.018902e+02  4.632547e+02   \n",
      "max    1.990844e+04  7.210747e+03  1.756807e+04  5.487312e+03  1.716702e+04   \n",
      "\n",
      "                 O2  \n",
      "count  8.800000e+02  \n",
      "mean   4.449974e+02  \n",
      "std    1.285504e+03  \n",
      "min    5.181077e-12  \n",
      "25%    1.806568e+01  \n",
      "50%    5.937799e+01  \n",
      "75%    1.377714e+02  \n",
      "max    1.231403e+04  \n",
      "\n",
      "[8 rows x 32 columns]\n"
     ]
    }
   ],
   "source": [
    "# Transform 880 x 32 x 8064 => 880 x 32 \n",
    "eeg_theta = []\n",
    "for i in range (len(eeg_data)):\n",
    "  for j in range (len(eeg_data[0])):\n",
    "    eeg_theta.append(get_band_power(i,j,\"theta\"))\n",
    "eeg_theta = np.reshape(eeg_theta, (880, 32))\n",
    "\n",
    "df_theta = pd.DataFrame(data = eeg_theta, columns=eeg_channels)\n",
    "print(df_theta.describe())"
   ]
  },
  {
   "cell_type": "code",
   "execution_count": 58,
   "metadata": {
    "colab": {
     "base_uri": "https://localhost:8080/"
    },
    "id": "Qi6l0sMbbB9b",
    "outputId": "04922c86-08a0-45ae-960a-0757cdee077e"
   },
   "outputs": [
    {
     "name": "stdout",
     "output_type": "stream",
     "text": [
      "            CP5           CP1            Cz            C4            C3  \\\n",
      "0  2.881030e-12  1.102969e-11  7.516943e-12  2.045050e-12  4.197735e-12   \n",
      "1  3.869735e-11  3.822071e-11  3.480808e-12  3.943074e-12  5.063776e-11   \n",
      "2  3.711943e+00  1.890259e+00  2.386166e+00  3.942938e+00  4.284358e+00   \n",
      "3  4.004765e+00  1.883543e+00  7.414694e+00  3.498076e+00  4.171965e+00   \n",
      "4  1.857737e+00  1.447578e+00  1.993286e+00  1.803010e+00  1.798486e+00   \n",
      "\n",
      "            CP6           CP2  \n",
      "0  3.026707e-12  3.933774e-12  \n",
      "1  2.117855e-11  6.831691e-12  \n",
      "2  2.503685e+00  1.974655e+00  \n",
      "3  2.529543e+00  1.736048e+00  \n",
      "4  1.496299e+00  1.577524e+00  \n"
     ]
    }
   ],
   "source": [
    "# Only print central channels\n",
    "print(df_theta[central].head(5)) "
   ]
  },
  {
   "cell_type": "markdown",
   "metadata": {
    "id": "3M5NAOt2cnsK"
   },
   "source": [
    "#### Dataframe for Alpha power values"
   ]
  },
  {
   "cell_type": "code",
   "execution_count": 59,
   "metadata": {
    "colab": {
     "base_uri": "https://localhost:8080/"
    },
    "id": "AE0PyVhqcnsO",
    "outputId": "c65861d6-0b5d-4e73-c4d4-1b163e511837"
   },
   "outputs": [
    {
     "name": "stdout",
     "output_type": "stream",
     "text": [
      "                Fp1           AF3            F3            F7           FC5  \\\n",
      "count  8.800000e+02  8.800000e+02  8.800000e+02  8.800000e+02  8.800000e+02   \n",
      "mean   1.827583e+02  4.329846e+02  3.417030e+02  7.873711e+02  3.147217e+02   \n",
      "std    3.976195e+02  1.257601e+03  1.216980e+03  2.308054e+03  8.258155e+02   \n",
      "min    8.517343e-12  2.410982e-11  4.107240e-11  4.240856e-11  7.586702e-12   \n",
      "25%    1.419147e+01  1.160664e+01  1.198029e+01  2.027352e+01  1.002601e+01   \n",
      "50%    3.325528e+01  3.057807e+01  3.480832e+01  4.343559e+01  1.869576e+01   \n",
      "75%    1.431223e+02  1.132199e+02  7.668653e+01  9.853214e+01  8.089379e+01   \n",
      "max    5.627907e+03  1.238070e+04  1.276472e+04  2.084307e+04  6.575781e+03   \n",
      "\n",
      "                FC1            C3            T7           CP5           CP1  \\\n",
      "count  8.800000e+02  8.800000e+02  8.800000e+02  8.800000e+02  8.800000e+02   \n",
      "mean   1.212650e+02  2.177801e+02  1.345378e+02  1.526536e+02  9.738677e+01   \n",
      "std    2.395057e+02  5.892251e+02  2.123138e+02  4.538132e+02  1.710052e+02   \n",
      "min    1.215121e-11  1.589492e-11  1.682954e-11  1.307967e-11  1.687838e-11   \n",
      "25%    8.427429e+00  1.391780e+01  2.411070e+01  1.068494e+01  1.322867e+01   \n",
      "50%    2.879035e+01  2.535560e+01  5.509653e+01  1.999405e+01  2.219098e+01   \n",
      "75%    1.314059e+02  8.581102e+01  1.500179e+02  7.454849e+01  9.638160e+01   \n",
      "max    3.030078e+03  9.215550e+03  2.142437e+03  4.750235e+03  2.148109e+03   \n",
      "\n",
      "       ...           FC2            Cz            C4            T8  \\\n",
      "count  ...  8.800000e+02  8.800000e+02  8.800000e+02  8.800000e+02   \n",
      "mean   ...  2.420106e+02  2.038891e+02  2.402513e+02  3.454595e+02   \n",
      "std    ...  6.072568e+02  6.316503e+02  9.627396e+02  9.242191e+02   \n",
      "min    ...  6.728193e-12  4.416610e-12  1.263026e-11  2.692597e-11   \n",
      "25%    ...  1.453591e+01  1.567780e+01  7.153680e+00  1.820510e+01   \n",
      "50%    ...  3.334970e+01  3.124362e+01  1.475788e+01  3.662730e+01   \n",
      "75%    ...  9.745630e+01  1.103854e+02  4.603946e+01  1.637193e+02   \n",
      "max    ...  6.038452e+03  6.881486e+03  1.050157e+04  9.022269e+03   \n",
      "\n",
      "                CP6           CP2            P4            P8           PO4  \\\n",
      "count  8.800000e+02  8.800000e+02  8.800000e+02  8.800000e+02  8.800000e+02   \n",
      "mean   2.315786e+02  1.380177e+02  2.124152e+02  9.123816e+01  2.785764e+02   \n",
      "std    7.677492e+02  2.788888e+02  5.565288e+02  2.127834e+02  6.423477e+02   \n",
      "min    1.331064e-11  7.405856e-12  2.412341e-11  2.456554e-11  2.110533e-11   \n",
      "25%    1.260248e+01  1.463358e+01  1.660399e+01  1.182508e+01  1.538992e+01   \n",
      "50%    4.061070e+01  3.267298e+01  3.393937e+01  3.374439e+01  2.839433e+01   \n",
      "75%    9.769104e+01  9.852233e+01  9.799460e+01  7.924713e+01  1.525944e+02   \n",
      "max    8.394200e+03  2.368538e+03  5.666733e+03  2.323500e+03  5.542263e+03   \n",
      "\n",
      "                 O2  \n",
      "count  8.800000e+02  \n",
      "mean   1.699381e+02  \n",
      "std    4.763468e+02  \n",
      "min    1.475856e-11  \n",
      "25%    9.851048e+00  \n",
      "50%    2.631770e+01  \n",
      "75%    5.216791e+01  \n",
      "max    3.966715e+03  \n",
      "\n",
      "[8 rows x 32 columns]\n"
     ]
    }
   ],
   "source": [
    "# Transform 880 x 32 x 8064 => 880 x 32 \n",
    "eeg_alpha = []\n",
    "for i in range (len(eeg_data)):\n",
    "  for j in range (len(eeg_data[0])):\n",
    "    eeg_alpha.append(get_band_power(i,j,\"alpha\"))\n",
    "eeg_alpha = np.reshape(eeg_alpha, (880, 32))\n",
    "\n",
    "df_alpha = pd.DataFrame(data = eeg_alpha, columns=eeg_channels)\n",
    "print(df_alpha.describe())"
   ]
  },
  {
   "cell_type": "code",
   "execution_count": 60,
   "metadata": {
    "colab": {
     "base_uri": "https://localhost:8080/"
    },
    "id": "ismaJTpAcnsP",
    "outputId": "1a0b5554-27d6-4a51-bec8-e67d5cc15119"
   },
   "outputs": [
    {
     "name": "stdout",
     "output_type": "stream",
     "text": [
      "             O1            Oz            O2           PO3           PO4\n",
      "0  1.958276e-11  1.063586e-11  1.475856e-11  2.995791e-11  2.110533e-11\n",
      "1  4.541230e-11  5.876929e-11  1.456718e-10  1.336689e-10  2.411633e-10\n",
      "2  6.263437e+00  5.958844e+00  8.209320e+00  7.656804e+00  9.179372e+00\n",
      "3  5.632504e+00  5.341003e+00  6.541218e+00  6.627711e+00  6.922430e+00\n",
      "4  4.457119e+00  4.057350e+00  5.195625e+00  5.767454e+00  5.225959e+00\n"
     ]
    }
   ],
   "source": [
    "# Only print occipital channels\n",
    "print(df_alpha[occipital].head(5)) "
   ]
  },
  {
   "cell_type": "markdown",
   "metadata": {
    "id": "hdjUxI0hdi0v"
   },
   "source": [
    "#### Dataframe for Beta power values"
   ]
  },
  {
   "cell_type": "code",
   "execution_count": 61,
   "metadata": {
    "colab": {
     "base_uri": "https://localhost:8080/"
    },
    "id": "ppP9mP-odi06",
    "outputId": "7918660d-c893-4c91-bbdc-df2cef4a4696"
   },
   "outputs": [
    {
     "name": "stdout",
     "output_type": "stream",
     "text": [
      "                Fp1           AF3            F3            F7           FC5  \\\n",
      "count  8.800000e+02  8.800000e+02  8.800000e+02  8.800000e+02  8.800000e+02   \n",
      "mean   1.015774e+02  2.639131e+02  2.354640e+02  4.653608e+02  1.797685e+02   \n",
      "std    1.983515e+02  7.964053e+02  7.883804e+02  1.519033e+03  4.581587e+02   \n",
      "min    2.388058e-10  9.313548e-09  5.034426e-09  7.639419e-09  4.872687e-09   \n",
      "25%    1.808682e+01  1.198300e+01  1.072901e+01  2.209180e+01  1.120456e+01   \n",
      "50%    3.472251e+01  2.512552e+01  3.628217e+01  3.828849e+01  2.447575e+01   \n",
      "75%    8.583555e+01  1.269000e+02  6.071346e+01  6.669544e+01  5.144377e+01   \n",
      "max    3.528485e+03  5.784160e+03  5.841476e+03  1.484870e+04  3.094688e+03   \n",
      "\n",
      "                FC1            C3            T7           CP5           CP1  \\\n",
      "count  8.800000e+02  8.800000e+02  8.800000e+02  8.800000e+02  8.800000e+02   \n",
      "mean   7.904511e+01  1.223781e+02  8.830371e+01  1.005122e+02  5.609785e+01   \n",
      "std    1.430195e+02  2.926379e+02  9.904145e+01  3.007599e+02  9.193969e+01   \n",
      "min    5.310574e-09  2.340258e-09  1.778529e-09  1.318220e-09  1.297529e-09   \n",
      "25%    8.837606e+00  1.197633e+01  2.623280e+01  9.524082e+00  9.311401e+00   \n",
      "50%    1.768479e+01  2.359410e+01  4.917584e+01  1.802369e+01  1.619279e+01   \n",
      "75%    7.760233e+01  4.926963e+01  1.138339e+02  4.362186e+01  4.767346e+01   \n",
      "max    1.702543e+03  5.187442e+03  6.346457e+02  2.216870e+03  1.238024e+03   \n",
      "\n",
      "       ...           FC2            Cz            C4            T8  \\\n",
      "count  ...  8.800000e+02  8.800000e+02  8.800000e+02  8.800000e+02   \n",
      "mean   ...  1.472987e+02  1.400261e+02  1.796219e+02  2.295530e+02   \n",
      "std    ...  3.849492e+02  4.634879e+02  7.221928e+02  6.007464e+02   \n",
      "min    ...  1.937739e-09  2.422720e-09  4.198956e-09  9.255647e-09   \n",
      "25%    ...  1.078456e+01  1.315739e+01  7.007521e+00  2.099842e+01   \n",
      "50%    ...  2.409314e+01  2.612019e+01  1.310706e+01  3.529686e+01   \n",
      "75%    ...  7.380056e+01  5.405973e+01  2.631806e+01  1.029866e+02   \n",
      "max    ...  2.786622e+03  4.842538e+03  7.489481e+03  4.064419e+03   \n",
      "\n",
      "                CP6           CP2            P4            P8           PO4  \\\n",
      "count  8.800000e+02  8.800000e+02  8.800000e+02  8.800000e+02  8.800000e+02   \n",
      "mean   1.657180e+02  9.447921e+01  1.249554e+02  6.801328e+01  1.604469e+02   \n",
      "std    5.722439e+02  1.963112e+02  3.411133e+02  1.569588e+02  3.754773e+02   \n",
      "min    1.191121e-09  5.283386e-10  4.685530e-09  2.739612e-09  2.053303e-09   \n",
      "25%    1.067894e+01  1.230549e+01  1.267610e+01  1.247873e+01  1.452454e+01   \n",
      "50%    3.296497e+01  2.261971e+01  2.417027e+01  2.484803e+01  2.401303e+01   \n",
      "75%    6.140672e+01  6.304374e+01  6.878189e+01  6.338337e+01  7.721108e+01   \n",
      "max    5.955637e+03  1.265235e+03  2.533795e+03  1.653744e+03  2.516334e+03   \n",
      "\n",
      "                 O2  \n",
      "count  8.800000e+02  \n",
      "mean   1.221694e+02  \n",
      "std    3.270303e+02  \n",
      "min    8.740311e-10  \n",
      "25%    1.107759e+01  \n",
      "50%    1.981535e+01  \n",
      "75%    4.098895e+01  \n",
      "max    2.454760e+03  \n",
      "\n",
      "[8 rows x 32 columns]\n"
     ]
    }
   ],
   "source": [
    "# Transform 880 x 32 x 8064 => 880 x 32 \n",
    "eeg_beta = []\n",
    "for i in range (len(eeg_data)):\n",
    "  for j in range (len(eeg_data[0])):\n",
    "    eeg_beta.append(get_band_power(i,j,\"beta\"))\n",
    "eeg_beta = np.reshape(eeg_beta, (880, 32))\n",
    "\n",
    "df_beta = pd.DataFrame(data = eeg_beta, columns=eeg_channels)\n",
    "print(df_beta.describe())"
   ]
  },
  {
   "cell_type": "code",
   "execution_count": 62,
   "metadata": {
    "colab": {
     "base_uri": "https://localhost:8080/"
    },
    "id": "bSX3gljYdi07",
    "outputId": "af462c03-a595-48b4-818b-00bb2a28630c"
   },
   "outputs": [
    {
     "name": "stdout",
     "output_type": "stream",
     "text": [
      "             F3           FC1            Fz            F4           FC2\n",
      "0  1.064947e-08  5.310574e-09  2.966548e-09  1.301296e-09  1.937739e-09\n",
      "1  3.288307e-08  2.519619e-08  3.693918e-08  4.365469e-08  2.993975e-08\n",
      "2  9.839357e+00  4.390210e+00  7.598063e+00  9.444911e+00  6.377253e+00\n",
      "3  7.032711e+00  3.946574e+00  6.481246e+00  6.763315e+00  5.341841e+00\n",
      "4  6.021147e+00  3.145262e+00  5.356596e+00  5.797735e+00  4.608033e+00\n"
     ]
    }
   ],
   "source": [
    "# Only print frontal channels\n",
    "print(df_beta[frontal].head(5)) "
   ]
  },
  {
   "cell_type": "markdown",
   "metadata": {
    "id": "wN4162ixeK9w"
   },
   "source": [
    "#### Dataframe for Gamma power values"
   ]
  },
  {
   "cell_type": "code",
   "execution_count": 63,
   "metadata": {
    "colab": {
     "base_uri": "https://localhost:8080/"
    },
    "id": "SrkOeQvheK90",
    "outputId": "2e332e68-57b3-48ab-eab9-5d23b03fdcc9"
   },
   "outputs": [
    {
     "name": "stdout",
     "output_type": "stream",
     "text": [
      "                Fp1           AF3            F3            F7           FC5  \\\n",
      "count  8.800000e+02  8.800000e+02  8.800000e+02  8.800000e+02  8.800000e+02   \n",
      "mean   6.435339e+01  2.096995e+02  1.946003e+02  1.599305e+02  1.241909e+02   \n",
      "std    1.612193e+02  7.714513e+02  7.533771e+02  5.928338e+02  4.064010e+02   \n",
      "min    5.683412e-09  8.261575e-08  6.465818e-08  1.371773e-07  4.939536e-08   \n",
      "25%    9.012946e+00  5.500269e+00  5.077370e+00  1.119272e+01  5.261965e+00   \n",
      "50%    2.067978e+01  1.455904e+01  1.540315e+01  1.849035e+01  1.354138e+01   \n",
      "75%    4.835953e+01  7.474244e+01  3.809379e+01  4.398563e+01  4.454889e+01   \n",
      "max    3.213256e+03  6.060540e+03  5.758757e+03  6.348177e+03  3.472516e+03   \n",
      "\n",
      "                FC1            C3            T7           CP5           CP1  \\\n",
      "count  8.800000e+02  8.800000e+02  8.800000e+02  8.800000e+02  8.800000e+02   \n",
      "mean   5.618456e+01  7.456514e+01  5.326980e+01  8.052702e+01  3.272222e+01   \n",
      "std    1.412331e+02  2.143452e+02  7.125322e+01  2.920911e+02  7.771802e+01   \n",
      "min    4.188344e-08  3.136329e-08  4.349290e-08  1.436029e-08  1.549287e-08   \n",
      "25%    2.819869e+00  4.802622e+00  1.485424e+01  2.981876e+00  2.888243e+00   \n",
      "50%    7.557131e+00  1.008718e+01  3.044892e+01  8.468518e+00  7.401460e+00   \n",
      "75%    3.471806e+01  4.073794e+01  6.723548e+01  2.032684e+01  2.272594e+01   \n",
      "max    1.413986e+03  4.376357e+03  8.099356e+02  2.294562e+03  1.011985e+03   \n",
      "\n",
      "       ...           FC2            Cz            C4            T8  \\\n",
      "count  ...  8.800000e+02  8.800000e+02  8.800000e+02  8.800000e+02   \n",
      "mean   ...  1.005548e+02  5.829317e+01  7.731887e+01  1.582687e+02   \n",
      "std    ...  3.640311e+02  1.799451e+02  2.858481e+02  5.105937e+02   \n",
      "min    ...  2.253085e-08  1.704014e-08  3.907543e-08  9.962590e-08   \n",
      "25%    ...  4.055624e+00  4.115357e+00  2.374699e+00  9.619028e+00   \n",
      "50%    ...  1.066431e+01  9.297769e+00  4.811743e+00  2.031895e+01   \n",
      "75%    ...  3.568828e+01  2.717165e+01  1.469524e+01  5.366946e+01   \n",
      "max    ...  2.829052e+03  1.892813e+03  3.054309e+03  3.954520e+03   \n",
      "\n",
      "                CP6           CP2            P4            P8           PO4  \\\n",
      "count  8.800000e+02  8.800000e+02  8.800000e+02  8.800000e+02  8.800000e+02   \n",
      "mean   7.545529e+01  6.332934e+01  9.001359e+01  3.327970e+01  9.985482e+01   \n",
      "std    2.326837e+02  1.692275e+02  3.165158e+02  6.487793e+01  3.237127e+02   \n",
      "min    1.849228e-08  1.517050e-08  6.907498e-08  5.604745e-08  4.047859e-08   \n",
      "25%    4.168590e+00  3.899669e+00  4.436697e+00  4.792611e+00  5.660221e+00   \n",
      "50%    1.188402e+01  9.581570e+00  9.679291e+00  1.265609e+01  1.139727e+01   \n",
      "75%    3.310593e+01  3.220580e+01  3.577935e+01  3.007596e+01  3.732720e+01   \n",
      "max    2.405615e+03  1.426462e+03  2.446766e+03  6.475336e+02  2.505826e+03   \n",
      "\n",
      "                 O2  \n",
      "count  8.800000e+02  \n",
      "mean   7.822749e+01  \n",
      "std    2.418839e+02  \n",
      "min    2.392527e-08  \n",
      "25%    4.285074e+00  \n",
      "50%    9.613644e+00  \n",
      "75%    2.034034e+01  \n",
      "max    1.794802e+03  \n",
      "\n",
      "[8 rows x 32 columns]\n"
     ]
    }
   ],
   "source": [
    "# Transform 880 x 32 x 8064 => 880 x 32 \n",
    "eeg_gamma = []\n",
    "for i in range (len(eeg_data)):\n",
    "  for j in range (len(eeg_data[0])):\n",
    "    eeg_gamma.append(get_band_power(i,j,\"gamma\"))\n",
    "eeg_gamma = np.reshape(eeg_gamma, (880, 32))\n",
    "\n",
    "df_gamma = pd.DataFrame(data = eeg_gamma, columns=eeg_channels)\n",
    "print(df_gamma.describe())"
   ]
  },
  {
   "cell_type": "code",
   "execution_count": 64,
   "metadata": {
    "colab": {
     "base_uri": "https://localhost:8080/"
    },
    "id": "FMH5JAIkeK91",
    "outputId": "a06f0cfa-0e51-4b5f-a1d1-6e5b6d136191"
   },
   "outputs": [
    {
     "name": "stdout",
     "output_type": "stream",
     "text": [
      "             P3            P7            Pz            P4            P8\n",
      "0  1.807680e-08  1.430477e-08  4.173796e-08  6.907498e-08  6.513504e-08\n",
      "1  9.428286e-07  1.790268e-07  2.180208e-07  1.251983e-06  8.399015e-07\n",
      "2  1.405996e+00  2.340776e+00  6.149348e-01  1.759804e+00  1.651851e+00\n",
      "3  1.127093e+00  1.381447e+00  5.556367e-01  1.406085e+00  8.040019e-01\n",
      "4  1.031171e+00  1.626731e+00  5.353514e-01  1.275852e+00  1.514359e+00\n"
     ]
    }
   ],
   "source": [
    "# Only print parietal channels\n",
    "print(df_gamma[parietal].head(5)) "
   ]
  },
  {
   "cell_type": "markdown",
   "metadata": {
    "id": "eQlRP4LrOMlk"
   },
   "source": [
    "# Train-test split and feature scaling"
   ]
  },
  {
   "cell_type": "code",
   "execution_count": 65,
   "metadata": {
    "id": "Wmoxv3CbaGTL"
   },
   "outputs": [],
   "source": [
    "# Split the data into training/testing sets\n",
    "def split_train_test(x, y):\n",
    "  x_train, x_test, y_train, y_test = train_test_split(x, y, test_size=0.30, random_state=42)\n",
    "  return x_train, x_test, y_train, y_test"
   ]
  },
  {
   "cell_type": "code",
   "execution_count": 66,
   "metadata": {
    "id": "Jk7-M20caZ6r"
   },
   "outputs": [],
   "source": [
    "# Feature scaling\n",
    "def feature_scaling(train, test):\n",
    "  sc = StandardScaler()\n",
    "  train = sc.fit_transform(train)\n",
    "  test = sc.transform(test)\n",
    "  return train, test"
   ]
  },
  {
   "cell_type": "markdown",
   "metadata": {
    "id": "CbCztoUDVgmR"
   },
   "source": [
    "# Cross-validation to select classifier"
   ]
  },
  {
   "cell_type": "code",
   "execution_count": 67,
   "metadata": {
    "id": "oPxDs36P6IGn"
   },
   "outputs": [],
   "source": [
    "band_names = np.array([\"theta\", \"alpha\", \"beta\", \"gamma\"])\n",
    "channel_names = np.array([\"left\", \"frontal\", \"right\", \"central\", \"parietal\", \"occipital\"])\n",
    "label_names = np.array([\"valence\", \"arousal\"])"
   ]
  },
  {
   "cell_type": "code",
   "execution_count": 68,
   "metadata": {
    "id": "vVJeIrFx6Kjg"
   },
   "outputs": [],
   "source": [
    "# Testing different kernels (linear, sigmoid, rbf, poly) to select the most optimal one\n",
    "clf_svm = SVC(kernel = 'linear', random_state = 42, probability=True)"
   ]
  },
  {
   "cell_type": "code",
   "execution_count": 69,
   "metadata": {
    "id": "HNlNfGunJLgz"
   },
   "outputs": [],
   "source": [
    "# Testing different k (odd) numbers, algorithm (auto, ball_tree, kd_tree) and weight (uniform, distance) to select the most optimal one\n",
    "clf_knn = KNeighborsClassifier(n_neighbors=5, weights='distance', algorithm='auto')"
   ]
  },
  {
   "cell_type": "code",
   "execution_count": 70,
   "metadata": {
    "id": "g5i16sQRJLq1"
   },
   "outputs": [],
   "source": [
    "# Testing different learning rate (alpha), solver (adam, sgd, lbfgs) and activation (relu, tanh, logistic) to select the most optimal one\n",
    "clf_mlp = MLPClassifier(solver='adam', activation='tanh', alpha=0.3, max_iter=400)"
   ]
  },
  {
   "cell_type": "code",
   "execution_count": 71,
   "metadata": {
    "id": "KJOYrhOcWspv"
   },
   "outputs": [],
   "source": [
    "models = []\n",
    "models.append(('SVM', clf_svm))\n",
    "models.append(('k-NN', clf_knn))\n",
    "models.append(('MLP', clf_mlp))"
   ]
  },
  {
   "cell_type": "code",
   "execution_count": 72,
   "metadata": {
    "id": "0H1idT6uX0EU"
   },
   "outputs": [],
   "source": [
    "import time\n",
    "def cross_validate_clf(df_x, df_y, scoring):\n",
    "  # Train-test split \n",
    "  x_train, x_test, y_train, y_test = split_train_test(df_x, df_y)\n",
    "  # Feature scaling\n",
    "  x_train, x_test = feature_scaling(x_train, x_test)\n",
    "\n",
    "  names = []\n",
    "  means = []\n",
    "  stds = []\n",
    "  times = []\n",
    "\n",
    "  # Apply CV\n",
    "  for name, model in models:\n",
    "      start_time = time.time()\n",
    "      kfold = model_selection.KFold(n_splits=5)\n",
    "      cv_results = model_selection.cross_val_score(model, x_train, y_train, cv=kfold, scoring=scoring)\n",
    "      t = (time.time() - start_time)\n",
    "      times.append(t)\n",
    "      means.append(cv_results.mean())\n",
    "      stds.append(cv_results.std())\n",
    "      names.append(name)\n",
    "\n",
    "  return names, means, stds, times"
   ]
  },
  {
   "cell_type": "markdown",
   "metadata": {
    "id": "n1qYAemsZVGI"
   },
   "source": [
    "### Arousal - Accuracy"
   ]
  },
  {
   "cell_type": "code",
   "execution_count": 73,
   "metadata": {
    "colab": {
     "base_uri": "https://localhost:8080/"
    },
    "id": "1N_P0km2_DPq",
    "outputId": "43ed66ba-8fe9-46e0-d4bc-b8ad20d33066"
   },
   "outputs": [
    {
     "data": {
      "text/plain": [
       "(['SVM', 'k-NN', 'MLP'],\n",
       " [0.5843692630474692, 0.5778258589037504, 0.6087070548124836],\n",
       " [0.032803098748839236, 0.04320218476063625, 0.028135572932913896],\n",
       " [0.6263551712036133, 0.021908998489379883, 7.324799299240112])"
      ]
     },
     "execution_count": 73,
     "metadata": {},
     "output_type": "execute_result"
    }
   ],
   "source": [
    "cross_validate_clf(eeg_band_arr, df_arousal, 'accuracy')"
   ]
  },
  {
   "cell_type": "markdown",
   "metadata": {
    "id": "rJGy_VeJMRbc"
   },
   "source": [
    "### Arousal - F1"
   ]
  },
  {
   "cell_type": "code",
   "execution_count": 74,
   "metadata": {
    "colab": {
     "base_uri": "https://localhost:8080/"
    },
    "id": "prUzbWXlAhoj",
    "outputId": "df0757e1-6c68-4786-a4b1-f5564446eddd"
   },
   "outputs": [
    {
     "data": {
      "text/plain": [
       "(['SVM', 'k-NN', 'MLP'],\n",
       " [0.5960453014998469, 0.5833709946418661, 0.5961481543265224],\n",
       " [0.06255872576643338, 0.05391467878516152, 0.04624599740377395],\n",
       " [0.6329193115234375, 0.021943330764770508, 6.00750470161438])"
      ]
     },
     "execution_count": 74,
     "metadata": {},
     "output_type": "execute_result"
    }
   ],
   "source": [
    "cross_validate_clf(eeg_band_arr, df_arousal, 'f1')"
   ]
  },
  {
   "cell_type": "markdown",
   "metadata": {
    "id": "aZkugf5yMbfG"
   },
   "source": [
    "### Valence - Accuracy"
   ]
  },
  {
   "cell_type": "code",
   "execution_count": 75,
   "metadata": {
    "colab": {
     "base_uri": "https://localhost:8080/"
    },
    "id": "bYhN3X0UA-HK",
    "outputId": "d23384b2-3fe4-4f17-97e8-52cd45efd46c"
   },
   "outputs": [
    {
     "name": "stderr",
     "output_type": "stream",
     "text": [
      "C:\\Users\\thiag\\anaconda3\\lib\\site-packages\\sklearn\\neural_network\\_multilayer_perceptron.py:692: ConvergenceWarning: Stochastic Optimizer: Maximum iterations (400) reached and the optimization hasn't converged yet.\n",
      "  warnings.warn(\n"
     ]
    },
    {
     "data": {
      "text/plain": [
       "(['SVM', 'k-NN', 'MLP'],\n",
       " [0.5780881195908733, 0.6168895882507213, 0.6235116706005769],\n",
       " [0.055211667742540715, 0.04800198845377898, 0.07658034966859832],\n",
       " [0.8078408241271973, 0.02194070816040039, 7.143908262252808])"
      ]
     },
     "execution_count": 75,
     "metadata": {},
     "output_type": "execute_result"
    }
   ],
   "source": [
    "cross_validate_clf(eeg_band_arr, df_valence, 'accuracy')"
   ]
  },
  {
   "cell_type": "markdown",
   "metadata": {
    "id": "TAIvhiHIMfZK"
   },
   "source": [
    "### Valence - F1"
   ]
  },
  {
   "cell_type": "code",
   "execution_count": 76,
   "metadata": {
    "colab": {
     "base_uri": "https://localhost:8080/"
    },
    "id": "fbRKJeeUBEoP",
    "outputId": "0cb9f5b9-8741-4f12-d2b8-274030535f4b"
   },
   "outputs": [
    {
     "data": {
      "text/plain": [
       "(['SVM', 'k-NN', 'MLP'],\n",
       " [0.568831883151483, 0.6273460955324547, 0.6394544320576468],\n",
       " [0.054174021396036345, 0.06063848893766251, 0.1009260082233974],\n",
       " [0.7360608577728271, 0.021913528442382812, 6.022967100143433])"
      ]
     },
     "execution_count": 76,
     "metadata": {},
     "output_type": "execute_result"
    }
   ],
   "source": [
    "cross_validate_clf(eeg_band_arr, df_valence, 'f1')"
   ]
  },
  {
   "cell_type": "markdown",
   "metadata": {
    "id": "Tuz9KEva1TSX"
   },
   "source": [
    "# Apply classifier"
   ]
  },
  {
   "cell_type": "markdown",
   "metadata": {
    "id": "yOuzoYWn_4wj"
   },
   "source": [
    "## Functions to run classifiers"
   ]
  },
  {
   "cell_type": "code",
   "execution_count": 77,
   "metadata": {
    "id": "4huP8jJb1koq"
   },
   "outputs": [],
   "source": [
    "def run_clf_cv(band, channel, label, clf):\n",
    "  if (band == \"theta\"):\n",
    "    df_x = df_theta\n",
    "  elif (band == \"alpha\"):\n",
    "    df_x = df_alpha\n",
    "  elif (band == \"beta\"):\n",
    "    df_x = df_beta\n",
    "  elif (band == \"gamma\"):\n",
    "    df_x = df_gamma\n",
    "\n",
    "  if (channel == \"left\"):\n",
    "    df_x = df_x[left]\n",
    "  elif (channel == \"right\"):\n",
    "    df_x = df_x[right]\n",
    "  elif (channel == \"frontal\"):\n",
    "    df_x = df_x[frontal]\n",
    "  elif (channel == \"central\"):\n",
    "    df_x = df_x[central]\n",
    "  elif (channel == \"parietal\"):\n",
    "    df_x = df_x[parietal]\n",
    "  elif (channel == \"occipital\"):\n",
    "    df_x = df_x[occipital]\n",
    "\n",
    "  df_y = df_arousal if (label == \"arousal\") else df_valence\n",
    "\n",
    "  # Train-test split\n",
    "  x_train, x_test, y_train, y_test = split_train_test(df_x, df_y)\n",
    "  \n",
    "  # Apply CV\n",
    "  x_for_kfold = np.array(x_train)            \n",
    "  y_for_kfold = np.array(y_train)\n",
    "  kfold = model_selection.KFold(n_splits=5)\n",
    "\n",
    "  for i, j in kfold.split(x_for_kfold):\n",
    "   x_train2, x_test2 = x_for_kfold[i], x_for_kfold[j]\n",
    "   y_train2, y_test2 = y_for_kfold[i], y_for_kfold[j]\n",
    "  \n",
    "  # Feature scaling\n",
    "  x_train2, x_test2 = feature_scaling(x_train2, x_test2)\n",
    "\n",
    "  if (clf == \"svm\"):\n",
    "    clf_svm.fit(x_train2, y_train2)\n",
    "    y_predict = clf_svm.predict(x_test2)\n",
    "  elif (clf == \"knn\"):\n",
    "    clf_knn.fit(x_train2, y_train2)\n",
    "    y_predict = clf_knn.predict(x_test2)\n",
    "  elif (clf == \"mlp\"):\n",
    "    clf_mlp.fit(x_train2, y_train2)\n",
    "    y_predict = clf_mlp.predict(x_test2)\n",
    "\n",
    "  return y_test2, y_predict"
   ]
  },
  {
   "cell_type": "code",
   "execution_count": 78,
   "metadata": {
    "id": "kNIJkN5dlhi2"
   },
   "outputs": [],
   "source": [
    "def get_accuracy(band, channel, label, clf):\n",
    "  y_test2, y_predict = run_clf_cv(band, channel, label, clf)\n",
    "  return np.round(accuracy_score(y_test2, y_predict)*100,2)"
   ]
  },
  {
   "cell_type": "code",
   "execution_count": 79,
   "metadata": {
    "id": "iJuy1ANE_EJZ"
   },
   "outputs": [],
   "source": [
    "def print_accuracy(label, clf):\n",
    "  arr = []\n",
    "  for i in range (len(band_names)):\n",
    "    for j in range (len(channel_names)): \n",
    "      arr.append(get_accuracy(band_names[i], channel_names[j], label, clf))\n",
    "  arr = np.reshape(arr, (4,6))\n",
    "  df = pd.DataFrame(data = arr, index=band_names, columns=channel_names)\n",
    "\n",
    "  print(\"Top 3 EEG regions with highest scores\")\n",
    "  print(df.apply(lambda s: s.abs()).max().nlargest(3))\n",
    "  print()\n",
    "  print(\"Top 2 bands with highest scores\")\n",
    "  print(df.apply(lambda s: s.abs()).max(axis=1).nlargest(2))\n",
    "  print()\n",
    "  print(\"EEG region with highest scores per each band\")\n",
    "  print(df.idxmax(axis=1))\n",
    "  print()\n",
    "  print(\"Band with highest scores per each EEG region\")\n",
    "  print(df.idxmax())\n",
    "  print()\n",
    "  print(df)"
   ]
  },
  {
   "cell_type": "code",
   "execution_count": 80,
   "metadata": {
    "id": "HEw2OqPSi3OI"
   },
   "outputs": [],
   "source": [
    "def get_f1(band, channel, label, clf):\n",
    "  y_test2, y_predict = run_clf_cv(band, channel, label, clf)\n",
    "  return np.round(f1_score(y_test2, y_predict)*100,2)"
   ]
  },
  {
   "cell_type": "code",
   "execution_count": 81,
   "metadata": {
    "id": "VJRPq7NNi3OI"
   },
   "outputs": [],
   "source": [
    "def print_f1(label, clf):\n",
    "  arr = []\n",
    "  for i in range (len(band_names)):\n",
    "    for j in range (len(channel_names)): \n",
    "      arr.append(get_f1(band_names[i], channel_names[j], label, clf))\n",
    "  arr = np.reshape(arr, (4,6))\n",
    "  df = pd.DataFrame(data = arr, index=band_names, columns=channel_names)\n",
    "\n",
    "  print(\"Top 3 EEG regions with highest scores\")\n",
    "  print(df.apply(lambda s: s.abs()).max().nlargest(3))\n",
    "  print()\n",
    "  print(\"Top 2 bands with highest scores\")\n",
    "  print(df.apply(lambda s: s.abs()).max(axis=1).nlargest(2))\n",
    "  print()\n",
    "  print(\"EEG region with highest scores per each band\")\n",
    "  print(df.idxmax(axis=1))\n",
    "  print()\n",
    "  print(\"Band with highest scores per each EEG regions\")\n",
    "  print(df.idxmax())\n",
    "  print()\n",
    "  print(df)"
   ]
  },
  {
   "cell_type": "code",
   "execution_count": 82,
   "metadata": {
    "id": "8Ejnm0aSnORY"
   },
   "outputs": [],
   "source": [
    "def plot_cm(band, channel, label, clf):\n",
    "  y_test2, y_predict = run_clf_cv(band, channel, label, clf)\n",
    "  cm = confusion_matrix(y_test2, y_predict)\n",
    "  print(cm)\n",
    "  cr = classification_report(y_test2, y_predict)\n",
    "  print(cr)\n",
    "\n",
    "  plt.figure()\n",
    "  plt.imshow(cm, interpolation='nearest', cmap=plt.cm.Blues)\n",
    "  plt.colorbar()\n",
    "\n",
    "  if (label == \"valence\"):\n",
    "    classes = df_valence.unique().tolist()\n",
    "  if (label == \"arousal\"):\n",
    "    classes = df_arousal.unique().tolist()\n",
    "\n",
    "  tick_marks = np.arange(len(classes))\n",
    "  plt.xticks(tick_marks, classes, rotation=45)\n",
    "  plt.yticks(tick_marks, classes)\n",
    "\n",
    "  thresh = cm.max() / 2.\n",
    "  for i, j in itertools.product(range(cm.shape[0]), range(cm.shape[1])):\n",
    "      plt.text(j, i, format(cm[i, j], 'd'),\n",
    "               horizontalalignment=\"center\",\n",
    "               color=\"white\" if cm[i, j] > thresh else \"black\")\n",
    "\n",
    "  plt.tight_layout()\n",
    "  plt.ylabel('True label')\n",
    "  plt.xlabel('Predicted label')\n"
   ]
  },
  {
   "cell_type": "markdown",
   "metadata": {
    "id": "0yRqQN3AJE64"
   },
   "source": [
    "## Accuracy results"
   ]
  },
  {
   "cell_type": "markdown",
   "metadata": {
    "id": "Qu8s_8E4Lq6X"
   },
   "source": [
    "### Valence"
   ]
  },
  {
   "cell_type": "code",
   "execution_count": 83,
   "metadata": {
    "colab": {
     "base_uri": "https://localhost:8080/"
    },
    "id": "jYWZW53wLq6h",
    "outputId": "a5031725-4293-4315-9733-49ef260fc410"
   },
   "outputs": [
    {
     "name": "stdout",
     "output_type": "stream",
     "text": [
      "Top 3 EEG regions with highest scores\n",
      "left       69.11\n",
      "right      69.11\n",
      "central    67.48\n",
      "dtype: float64\n",
      "\n",
      "Top 2 bands with highest scores\n",
      "beta     69.11\n",
      "gamma    69.11\n",
      "dtype: float64\n",
      "\n",
      "EEG region with highest scores per each band\n",
      "theta    central\n",
      "alpha    central\n",
      "beta        left\n",
      "gamma      right\n",
      "dtype: object\n",
      "\n",
      "Band with highest scores per each EEG region\n",
      "left          beta\n",
      "frontal       beta\n",
      "right        gamma\n",
      "central      theta\n",
      "parietal      beta\n",
      "occipital     beta\n",
      "dtype: object\n",
      "\n",
      "        left  frontal  right  central  parietal  occipital\n",
      "theta  58.54    64.23  56.91    67.48     57.72      54.47\n",
      "alpha  59.35    51.22  60.16    65.04     62.60      55.28\n",
      "beta   69.11    65.04  66.67    60.98     65.85      64.23\n",
      "gamma  60.16    60.98  69.11    61.79     60.98      62.60\n"
     ]
    }
   ],
   "source": [
    "# Only use k-NN in case of Valence after CV\n",
    "print_accuracy('valence', 'knn')"
   ]
  },
  {
   "cell_type": "markdown",
   "metadata": {
    "id": "uHawo_dHLyUB"
   },
   "source": [
    "### Arousal"
   ]
  },
  {
   "cell_type": "code",
   "execution_count": 84,
   "metadata": {
    "colab": {
     "base_uri": "https://localhost:8080/"
    },
    "id": "od5jlrK5LyUC",
    "outputId": "2ad743ac-164c-4371-82cf-54d02d19e8ff"
   },
   "outputs": [
    {
     "name": "stdout",
     "output_type": "stream",
     "text": [
      "Top 3 EEG regions with highest scores\n",
      "parietal    60.98\n",
      "left        60.16\n",
      "central     58.54\n",
      "dtype: float64\n",
      "\n",
      "Top 2 bands with highest scores\n",
      "theta    60.98\n",
      "beta     60.98\n",
      "dtype: float64\n",
      "\n",
      "EEG region with highest scores per each band\n",
      "theta    parietal\n",
      "alpha     central\n",
      "beta     parietal\n",
      "gamma        left\n",
      "dtype: object\n",
      "\n",
      "Band with highest scores per each EEG region\n",
      "left         gamma\n",
      "frontal      theta\n",
      "right        theta\n",
      "central      theta\n",
      "parietal     theta\n",
      "occipital    alpha\n",
      "dtype: object\n",
      "\n",
      "        left  frontal  right  central  parietal  occipital\n",
      "theta  52.03    56.10  51.22    58.54     60.98      51.22\n",
      "alpha  54.47    54.47  51.22    58.54     57.72      52.03\n",
      "beta   51.22    50.41  47.97    52.85     60.98      48.78\n",
      "gamma  60.16    50.41  44.72    52.03     60.16      45.53\n"
     ]
    }
   ],
   "source": [
    "# Only use MLP in case of Arousal after CV\n",
    "print_accuracy('arousal', 'mlp')"
   ]
  },
  {
   "cell_type": "markdown",
   "metadata": {
    "id": "XyIcBbhfi3N7"
   },
   "source": [
    "## F1 score results"
   ]
  },
  {
   "cell_type": "markdown",
   "metadata": {
    "id": "icTQXIOKi3OI"
   },
   "source": [
    "### Valence"
   ]
  },
  {
   "cell_type": "code",
   "execution_count": 85,
   "metadata": {
    "colab": {
     "base_uri": "https://localhost:8080/"
    },
    "id": "6_be6CxQi3OI",
    "outputId": "a4b61479-ca0a-40b0-e7be-80647fb8498d"
   },
   "outputs": [
    {
     "name": "stdout",
     "output_type": "stream",
     "text": [
      "Top 3 EEG regions with highest scores\n",
      "right      73.24\n",
      "central    71.83\n",
      "left       69.84\n",
      "dtype: float64\n",
      "\n",
      "Top 2 bands with highest scores\n",
      "gamma    73.24\n",
      "theta    71.83\n",
      "dtype: float64\n",
      "\n",
      "EEG region with highest scores per each band\n",
      "theta    central\n",
      "alpha    central\n",
      "beta       right\n",
      "gamma      right\n",
      "dtype: object\n",
      "\n",
      "Band with highest scores per each EEG regions\n",
      "left          beta\n",
      "frontal      theta\n",
      "right        gamma\n",
      "central      theta\n",
      "parietal      beta\n",
      "occipital     beta\n",
      "dtype: object\n",
      "\n",
      "        left  frontal  right  central  parietal  occipital\n",
      "theta  61.65    69.44  61.31    71.83     61.76      58.82\n",
      "alpha  62.12    53.12  64.23    68.61     65.67      58.65\n",
      "beta   69.84    68.61  71.72    63.64     68.66      68.57\n",
      "gamma  62.60    63.64  73.24    66.67     65.22      68.49\n"
     ]
    }
   ],
   "source": [
    "# Only use k-NN in case of Valence after CV\n",
    "print_f1('valence', 'knn')"
   ]
  },
  {
   "cell_type": "markdown",
   "metadata": {
    "id": "-gyBySB0i3OJ"
   },
   "source": [
    "### Arousal"
   ]
  },
  {
   "cell_type": "code",
   "execution_count": 86,
   "metadata": {
    "colab": {
     "base_uri": "https://localhost:8080/"
    },
    "id": "3_iNn2Uji3OJ",
    "outputId": "613fb238-429e-4bb5-ec5b-ed78322f2ebf"
   },
   "outputs": [
    {
     "name": "stdout",
     "output_type": "stream",
     "text": [
      "Top 3 EEG regions with highest scores\n",
      "parietal     67.11\n",
      "central      64.90\n",
      "occipital    64.67\n",
      "dtype: float64\n",
      "\n",
      "Top 2 bands with highest scores\n",
      "theta    67.11\n",
      "alpha    64.86\n",
      "dtype: float64\n",
      "\n",
      "EEG region with highest scores per each band\n",
      "theta     parietal\n",
      "alpha      central\n",
      "beta     occipital\n",
      "gamma      central\n",
      "dtype: object\n",
      "\n",
      "Band with highest scores per each EEG regions\n",
      "left         theta\n",
      "frontal      alpha\n",
      "right        theta\n",
      "central      theta\n",
      "parietal     theta\n",
      "occipital    alpha\n",
      "dtype: object\n",
      "\n",
      "        left  frontal  right  central  parietal  occipital\n",
      "theta  63.69    54.87  62.96    64.90     67.11      63.86\n",
      "alpha  63.69    61.64  62.96    64.86     58.91      64.67\n",
      "beta   50.85    58.57  59.63    60.81     55.65      63.03\n",
      "gamma  56.36    55.17  53.33    59.31     54.87      46.38\n"
     ]
    }
   ],
   "source": [
    "# Only use MLP in case of Arousal after CV\n",
    "print_f1('arousal', 'mlp')"
   ]
  },
  {
   "cell_type": "markdown",
   "metadata": {
    "id": "NrxRO1B94cRL"
   },
   "source": [
    "## Plot results"
   ]
  },
  {
   "cell_type": "markdown",
   "metadata": {
    "id": "4sDlo8Qe5ajN"
   },
   "source": [
    "#### Top combinations for Valence"
   ]
  },
  {
   "cell_type": "code",
   "execution_count": 87,
   "metadata": {
    "colab": {
     "base_uri": "https://localhost:8080/",
     "height": 493
    },
    "id": "wNa-HXUCsRka",
    "outputId": "2c712fde-fd4b-42ae-ceda-e6f400865bc4"
   },
   "outputs": [
    {
     "name": "stdout",
     "output_type": "stream",
     "text": [
      "[[32 21]\n",
      " [19 51]]\n",
      "              precision    recall  f1-score   support\n",
      "\n",
      "           0       0.63      0.60      0.62        53\n",
      "           1       0.71      0.73      0.72        70\n",
      "\n",
      "    accuracy                           0.67       123\n",
      "   macro avg       0.67      0.67      0.67       123\n",
      "weighted avg       0.67      0.67      0.67       123\n",
      "\n"
     ]
    },
    {
     "data": {
      "image/png": "[encoded data removed]",
      "text/plain": [
       "<Figure size 432x288 with 2 Axes>"
      ]
     },
     "metadata": {},
     "output_type": "display_data"
    }
   ],
   "source": [
    "plot_cm('theta', 'central', 'valence', 'knn')"
   ]
  },
  {
   "cell_type": "code",
   "execution_count": 88,
   "metadata": {
    "colab": {
     "base_uri": "https://localhost:8080/",
     "height": 493
    },
    "id": "W1E0jYbun33I",
    "outputId": "031e2755-530a-4a17-a644-efd75187198f"
   },
   "outputs": [
    {
     "name": "stdout",
     "output_type": "stream",
     "text": [
      "[[41 12]\n",
      " [26 44]]\n",
      "              precision    recall  f1-score   support\n",
      "\n",
      "           0       0.61      0.77      0.68        53\n",
      "           1       0.79      0.63      0.70        70\n",
      "\n",
      "    accuracy                           0.69       123\n",
      "   macro avg       0.70      0.70      0.69       123\n",
      "weighted avg       0.71      0.69      0.69       123\n",
      "\n"
     ]
    },
    {
     "data": {
      "image/png": "[encoded data removed]",
      "text/plain": [
       "<Figure size 432x288 with 2 Axes>"
      ]
     },
     "metadata": {},
     "output_type": "display_data"
    }
   ],
   "source": [
    "plot_cm('beta', 'left', 'valence', 'knn')"
   ]
  },
  {
   "cell_type": "code",
   "execution_count": 89,
   "metadata": {
    "colab": {
     "base_uri": "https://localhost:8080/",
     "height": 493
    },
    "id": "BFmooDTooPAK",
    "outputId": "d2c25449-9db7-4967-8146-a90586d0f353"
   },
   "outputs": [
    {
     "name": "stdout",
     "output_type": "stream",
     "text": [
      "[[33 20]\n",
      " [18 52]]\n",
      "              precision    recall  f1-score   support\n",
      "\n",
      "           0       0.65      0.62      0.63        53\n",
      "           1       0.72      0.74      0.73        70\n",
      "\n",
      "    accuracy                           0.69       123\n",
      "   macro avg       0.68      0.68      0.68       123\n",
      "weighted avg       0.69      0.69      0.69       123\n",
      "\n"
     ]
    },
    {
     "data": {
      "image/png": "[encoded data removed]",
      "text/plain": [
       "<Figure size 432x288 with 2 Axes>"
      ]
     },
     "metadata": {},
     "output_type": "display_data"
    }
   ],
   "source": [
    "plot_cm('gamma', 'right', 'valence', 'knn')"
   ]
  },
  {
   "cell_type": "markdown",
   "metadata": {
    "id": "3ett55kG5krG"
   },
   "source": [
    "#### Top combinations for Arousal"
   ]
  },
  {
   "cell_type": "code",
   "execution_count": 90,
   "metadata": {
    "colab": {
     "base_uri": "https://localhost:8080/",
     "height": 493
    },
    "id": "4ZMYZN_CskYA",
    "outputId": "91e8a872-2dd7-418d-ebaa-728132611450"
   },
   "outputs": [
    {
     "name": "stdout",
     "output_type": "stream",
     "text": [
      "[[21 40]\n",
      " [12 50]]\n",
      "              precision    recall  f1-score   support\n",
      "\n",
      "           0       0.64      0.34      0.45        61\n",
      "           1       0.56      0.81      0.66        62\n",
      "\n",
      "    accuracy                           0.58       123\n",
      "   macro avg       0.60      0.58      0.55       123\n",
      "weighted avg       0.60      0.58      0.55       123\n",
      "\n"
     ]
    },
    {
     "data": {
      "image/png": "[encoded data removed]",
      "text/plain": [
       "<Figure size 432x288 with 2 Axes>"
      ]
     },
     "metadata": {},
     "output_type": "display_data"
    }
   ],
   "source": [
    "plot_cm('alpha', 'central', 'arousal', 'mlp')"
   ]
  },
  {
   "cell_type": "code",
   "execution_count": 91,
   "metadata": {
    "colab": {
     "base_uri": "https://localhost:8080/",
     "height": 493
    },
    "id": "pnYfcidcML5Y",
    "outputId": "9681bc9f-1cd8-4107-8d9a-b59751ab4d6f"
   },
   "outputs": [
    {
     "name": "stdout",
     "output_type": "stream",
     "text": [
      "[[26 35]\n",
      " [14 48]]\n",
      "              precision    recall  f1-score   support\n",
      "\n",
      "           0       0.65      0.43      0.51        61\n",
      "           1       0.58      0.77      0.66        62\n",
      "\n",
      "    accuracy                           0.60       123\n",
      "   macro avg       0.61      0.60      0.59       123\n",
      "weighted avg       0.61      0.60      0.59       123\n",
      "\n"
     ]
    },
    {
     "data": {
      "image/png": "[encoded data removed]",
      "text/plain": [
       "<Figure size 432x288 with 2 Axes>"
      ]
     },
     "metadata": {},
     "output_type": "display_data"
    }
   ],
   "source": [
    "plot_cm('theta', 'parietal', 'arousal', 'mlp')"
   ]
  }
 ],
 "metadata": {
  "colab": {
   "collapsed_sections": [
    "o_aflOWKGbi6",
    "44LeXIJKwFZQ",
    "MbR-yzBmklEv",
    "EMULqzxuv5rG",
    "qJuZ48FormXW",
    "PQL4IVupDmQg",
    "bSIWwDsNHauz",
    "AwdusXNJGfqg",
    "IO2bKkvRGx6-",
    "gS3uZ_ADGdkm",
    "VFh9c8v5IoM9",
    "XBF3IrqHMRn9",
    "XCq7PAqOMAej",
    "Ubyhu_2QpF3h",
    "UDyMmKX6e3wl",
    "UT6wjhN-Z_eY",
    "3M5NAOt2cnsK",
    "hdjUxI0hdi0v",
    "wN4162ixeK9w",
    "eQlRP4LrOMlk",
    "n1qYAemsZVGI",
    "rJGy_VeJMRbc",
    "aZkugf5yMbfG",
    "TAIvhiHIMfZK",
    "yOuzoYWn_4wj",
    "Qu8s_8E4Lq6X",
    "uHawo_dHLyUB",
    "icTQXIOKi3OI",
    "-gyBySB0i3OJ",
    "NrxRO1B94cRL"
   ],
   "name": "eeg-based-emotion-classification.ipynb",
   "provenance": []
  },
  "kernelspec": {
   "display_name": "Python 3.9.7 ('base')",
   "language": "python",
   "name": "python3"
  },
  "language_info": {
   "codemirror_mode": {
    "name": "ipython",
    "version": 3
   },
   "file_extension": ".py",
   "mimetype": "text/x-python",
   "name": "python",
   "nbconvert_exporter": "python",
   "pygments_lexer": "ipython3",
   "version": "3.9.7"
  },
  "vscode": {
   "interpreter": {
    "hash": "83e92b1f3f21fdb4659571439a9645cff8fd2717e8d35e987f7eae31f7f6dd34"
   }
  }
 },
 "nbformat": 4,
 "nbformat_minor": 1
}
