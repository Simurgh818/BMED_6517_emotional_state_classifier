{
 "cells": [
  {
   "cell_type": "markdown",
   "id": "b94cd3bc-d94f-4b8d-b5d6-78abeb6c2048",
   "metadata": {},
   "source": [
    "# Emotional State Classifier on a multimodal physiological Dataset.\n",
    "\n",
    "### Sina Dabiri\n",
    "### sdabiri3@gatech.edu, sdabiri@emory.edu\n",
    "### Version 1.0"
   ]
  },
  {
   "cell_type": "code",
   "execution_count": 1,
   "id": "b19c7f25-f4de-43fa-8c6a-17c73effc06e",
   "metadata": {},
   "outputs": [],
   "source": [
    "import numpy as np\n",
    "import pandas as pd\n",
    "import matplotlib.pyplot as plt\n",
    "import seaborn as sns"
   ]
  },
  {
   "cell_type": "code",
   "execution_count": 2,
   "id": "d769c80d-0b78-4955-95b5-1619adc7b3ea",
   "metadata": {},
   "outputs": [],
   "source": [
    "import os\n",
    "import sys\n",
    "import mne\n",
    "import time\n",
    "import pickle\n",
    "import argparse"
   ]
  },
  {
   "cell_type": "code",
   "execution_count": 3,
   "id": "5e48175a-3bd5-406e-889e-5f1cdfdc01c0",
   "metadata": {},
   "outputs": [],
   "source": [
    "from mne.preprocessing import ICA, create_eog_epochs\n",
    "from scipy.stats import skew, kurtosis\n",
    "from scipy.signal import argrelextrema\n",
    "import heartpy as hp\n",
    "import pprint"
   ]
  },
  {
   "cell_type": "code",
   "execution_count": 8,
   "id": "b5e3a6cb-ac33-48be-89e4-2f5dcc5809c7",
   "metadata": {},
   "outputs": [
    {
     "data": {
      "text/plain": [
       "'C:\\\\Users\\\\sinad\\\\OneDrive - Georgia Institute of Technology\\\\BMED 6517 ML Biosci\\\\Project\\\\emotional_state_classifier\\\\BMED_6517_emotional_state_classifier'"
      ]
     },
     "execution_count": 8,
     "metadata": {},
     "output_type": "execute_result"
    }
   ],
   "source": [
    "pwd"
   ]
  },
  {
   "cell_type": "code",
   "execution_count": 9,
   "id": "ace124cc-b5dd-4f66-89ad-7b2bc141d439",
   "metadata": {},
   "outputs": [],
   "source": [
    "# Setting the path for root directory for DEAP dataset, data folder, participants ratings, and EEG channel lists\n",
    "\n",
    "root_folder = 'C:\\\\Users\\\\sinad\\OneDrive - Georgia Institute of Technology\\\\BMED 6517 ML Biosci\\\\Project\\\\emotional_state_classifier\\\\DEAP\\\\DEAP'\n",
    "data_folder = root_folder + '\\data_original'\n",
    "ratings_csv_path = root_folder + '\\Metadata\\metadata_csv\\participant_ratings.csv'\n",
    "DEAP_EEG_channels_xlsx_path = root_folder + '\\Metadata\\DEAP_EEG_channels.xlsx'"
   ]
  },
  {
   "cell_type": "code",
   "execution_count": 10,
   "id": "76a1d34a-2cc8-4336-972c-56085c2f8ab2",
   "metadata": {},
   "outputs": [
    {
     "name": "stdout",
     "output_type": "stream",
     "text": [
      "C:\\Users\\sinad\\OneDrive - Georgia Institute of Technology\\BMED 6517 ML Biosci\\Project\\emotional_state_classifier\\BMED_6517_emotional_state_classifier\\results\\npy\n"
     ]
    }
   ],
   "source": [
    "npy_folder = os.path.join(os.getcwd(), 'results', 'npy')\n",
    "print(npy_folder)\n",
    "\n",
    "for folder in [npy_folder]:\n",
    "    if not os.path.exists(folder):\n",
    "        os.makedirs(folder, exist_ok=True)"
   ]
  },
  {
   "cell_type": "code",
   "execution_count": 14,
   "id": "ce684682-42f1-45d2-8db5-e87eea705de5",
   "metadata": {},
   "outputs": [],
   "source": [
    "N_trials = 40\n",
    "N_EEG_electrodes = 32\n",
    "N_BIPOLAR = 16\n",
    "sfreq = 128"
   ]
  },
  {
   "cell_type": "code",
   "execution_count": 25,
   "id": "63ca44b2-6f1a-4a6c-b686-61505accb568",
   "metadata": {},
   "outputs": [],
   "source": [
    "def epoch_bdf(subject_id):\n",
    "    npy_plet_path = os.path.join(npy_folder, 's{:02}_plet.npy'.format(subject_id))\n",
    "    npy_GSR_path = os.path.join(npy_folder, 's{:02}_GSR.npy'.format(subject_id))\n",
    "\n",
    "    print('\\n----------------------------------------------------\\n')\n",
    "    print('extracting bipolar data for Subject {:02}'.format(subject_id))\n",
    "\n",
    "    bdf_file_name = 's{:02d}.bdf'.format(subject_id)\n",
    "    bdf_file_path = os.path.join(data_folder, bdf_file_name)\n",
    "\n",
    "    print('Loading .bdf file {}'.format(bdf_file_path))\n",
    "    raw = mne.io.read_raw_bdf(bdf_file_path, preload=True, verbose=False).load_data()\n",
    "\n",
    "    ch_names = raw.ch_names\n",
    "    eeg_channels = ch_names[:N_EEG_electrodes]\n",
    "    non_eeg_channels = ch_names[N_EEG_electrodes:]\n",
    "    stim_ch_name = ch_names[-1]\n",
    "    stim_channels = [ stim_ch_name ]\n",
    "\n",
    "    raw_copy = raw.copy()\n",
    "    raw_stim = raw_copy.pick_channels(stim_channels)\n",
    "    raw.pick_channels(non_eeg_channels)\n",
    "    print(\"Done!\")\n",
    "\n",
    "    #####################################################\n",
    "    print('Getting events from the status channel')\n",
    "    events = mne.find_events(raw_stim, stim_channel=stim_ch_name, verbose=True)\n",
    "    if subject_id<=23:\n",
    "        # Subject 1-22 and Subjects 23-28 have 48 channels.\n",
    "        # Subjects 29-32 have 49 channels.\n",
    "        # For Subjects 1-22 and Subject 23, the stimuli channel has the name 'Status'\n",
    "        # For Subjects 24-28, the stimuli channel has the name ''\n",
    "        # For Subjects 29-32, the stimuli channels have the names '-0' and '-1'\n",
    "        pass\n",
    "    else:\n",
    "        # The values of the stimuli channel have to be changed for Subjects 24-32\n",
    "        # Trigger channel has a non-zero initial value of 1703680 (consider using initial_event=True to detect this event)\n",
    "        events[:,2] -= 1703680 # subtracting initial value\n",
    "        events[:,2] = events[:,2] % 65536 # getting modulo with 65536\n",
    "\n",
    "    print('')\n",
    "    event_IDs = np.unique(events[:,2])\n",
    "    for event_id in event_IDs:\n",
    "        col = events[:,2]\n",
    "        print('Event ID {} : {:05}'.format(event_id, np.sum( 1.0*(col==event_id) ) ) )\n",
    "    inds_new_trial = np.where(events[:,2] == 4)[0]\n",
    "    events_new_trial = events[inds_new_trial,:]\n",
    "    baseline = (0, 0)\n",
    "    print('Epoching the data, into [-5sec, +60sec] epochs')\n",
    "    epochs = mne.Epochs(raw, events_new_trial, event_id=4, tmin=-5.0, tmax=60.0, picks=non_eeg_channels, baseline=baseline, preload=True)\n",
    "\n",
    "    \n",
    "    epochs_copy = epochs.copy()\n",
    "    print('Downsampling epoched data to 128 Hz')\n",
    "    epochs_downsampled = epochs_copy.resample(sfreq)\n",
    "\n",
    "    data = epochs.get_data()\n",
    "    data_downsampled = epochs_downsampled.get_data()\n",
    "    print('Original epoched data shape: {}'.format(data.shape))\n",
    "    print('Downsampled epoched data shape: {}'.format(data_downsampled.shape))\n",
    "\n",
    "    #############################\n",
    "\n",
    "    ratings = pd.read_csv(ratings_csv_path)\n",
    "    is_subject =  (ratings['Participant_id'] == subject_id)\n",
    "    ratings_subj = ratings[is_subject]\n",
    "    trial_pick_indices = []\n",
    "    print('\\nPreparing EEG trial reordering, from presentation order, to video (Experiment_id) order')\n",
    "    for i in range(N_trials):\n",
    "        exp_id = i+1\n",
    "        is_exp = (ratings['Experiment_id'] == exp_id)\n",
    "        trial_id = ratings_subj[is_exp]['Trial'].values[0]\n",
    "        trial_pick_indices.append(trial_id - 1)\n",
    "        print('Picking source (raw) trial #{:02} to fill target (npy) trial #{:02} | Experiment_id: {:02}'.format(trial_id, exp_id, exp_id))\n",
    "\n",
    "    #############################    \n",
    "\n",
    "    # Store clean and reordered data to numpy array\n",
    "    epoch_duration = data_downsampled.shape[-1]\n",
    "    data_npy = np.zeros((N_trials, N_BIPOLAR, epoch_duration))\n",
    "    print(data_npy.shape)\n",
    "    print('\\nStoring the final EEG data in a numpy array of shape {}'.format(data_npy.shape))\n",
    "    print(len(trial_pick_indices))\n",
    "    for trial_source, trial_target in zip(trial_pick_indices, range(N_trials)):\n",
    "        data_trial = data_downsampled[trial_source]\n",
    "        # print(data_trial.shape)\n",
    "        # print(data_npy[trial_target,:,:].shape)\n",
    "        data_npy[trial_target,:,:] = data_trial.copy()\n",
    "    print('Saving the final EEG data in a .npy file')\n",
    "    np.save(npy_plet_path, data_npy[:,13,:])\n",
    "    np.save(npy_GSR_path, data_npy[:,8:9,:])\n",
    "\n",
    "    print('Raw physiological data has been epoched, downsampled, trial-reordered and channel-reordered.')\n",
    "    print('Finished.') \n",
    "    return raw, epochs, epochs_downsampled, data_npy"
   ]
  },
  {
   "cell_type": "code",
   "execution_count": 26,
   "id": "950bf0fc-84ee-43bf-a23b-0475a805cf36",
   "metadata": {},
   "outputs": [
    {
     "name": "stdout",
     "output_type": "stream",
     "text": [
      "\n",
      "----------------------------------------------------\n",
      "\n",
      "extracting bipolar data for Subject 01\n",
      "Loading .bdf file C:\\Users\\sinad\\OneDrive - Georgia Institute of Technology\\BMED 6517 ML Biosci\\Project\\emotional_state_classifier\\DEAP\\DEAP\\data_original\\s01.bdf\n",
      "Done!\n",
      "Getting events from the status channel\n",
      "Trigger channel has a non-zero initial value of 65536 (consider using initial_event=True to detect this event)\n",
      "Removing orphaned offset at the beginning of the file.\n",
      "13760 events found\n",
      "Event IDs: [1 2 3 4 5 6 7]\n",
      "\n",
      "Event ID 1 : 162.0\n",
      "Event ID 2 : 002.0\n",
      "Event ID 3 : 040.0\n",
      "Event ID 4 : 040.0\n",
      "Event ID 5 : 040.0\n",
      "Event ID 6 : 13475.0\n",
      "Event ID 7 : 001.0\n",
      "Epoching the data, into [-5sec, +60sec] epochs\n",
      "Not setting metadata\n",
      "40 matching events found\n",
      "Applying baseline correction (mode: mean)\n",
      "0 projection items activated\n",
      "Using data from preloaded Raw for 40 events and 33281 original time points ...\n",
      "0 bad epochs dropped\n",
      "Downsampling epoched data to 128 Hz\n",
      "Original epoched data shape: (40, 16, 33281)\n",
      "Downsampled epoched data shape: (40, 16, 33281)\n",
      "\n",
      "Preparing EEG trial reordering, from presentation order, to video (Experiment_id) order\n",
      "Picking source (raw) trial #24 to fill target (npy) trial #01 | Experiment_id: 01\n",
      "Picking source (raw) trial #36 to fill target (npy) trial #02 | Experiment_id: 02\n",
      "Picking source (raw) trial #32 to fill target (npy) trial #03 | Experiment_id: 03\n",
      "Picking source (raw) trial #03 to fill target (npy) trial #04 | Experiment_id: 04\n",
      "Picking source (raw) trial #01 to fill target (npy) trial #05 | Experiment_id: 05\n",
      "Picking source (raw) trial #11 to fill target (npy) trial #06 | Experiment_id: 06\n",
      "Picking source (raw) trial #25 to fill target (npy) trial #07 | Experiment_id: 07\n",
      "Picking source (raw) trial #31 to fill target (npy) trial #08 | Experiment_id: 08\n",
      "Picking source (raw) trial #39 to fill target (npy) trial #09 | Experiment_id: 09\n",
      "Picking source (raw) trial #12 to fill target (npy) trial #10 | Experiment_id: 10\n",
      "Picking source (raw) trial #21 to fill target (npy) trial #11 | Experiment_id: 11\n",
      "Picking source (raw) trial #27 to fill target (npy) trial #12 | Experiment_id: 12\n",
      "Picking source (raw) trial #09 to fill target (npy) trial #13 | Experiment_id: 13\n",
      "Picking source (raw) trial #19 to fill target (npy) trial #14 | Experiment_id: 14\n",
      "Picking source (raw) trial #15 to fill target (npy) trial #15 | Experiment_id: 15\n",
      "Picking source (raw) trial #28 to fill target (npy) trial #16 | Experiment_id: 16\n",
      "Picking source (raw) trial #16 to fill target (npy) trial #17 | Experiment_id: 17\n",
      "Picking source (raw) trial #02 to fill target (npy) trial #18 | Experiment_id: 18\n",
      "Picking source (raw) trial #35 to fill target (npy) trial #19 | Experiment_id: 19\n",
      "Picking source (raw) trial #05 to fill target (npy) trial #20 | Experiment_id: 20\n",
      "Picking source (raw) trial #37 to fill target (npy) trial #21 | Experiment_id: 21\n",
      "Picking source (raw) trial #14 to fill target (npy) trial #22 | Experiment_id: 22\n",
      "Picking source (raw) trial #38 to fill target (npy) trial #23 | Experiment_id: 23\n",
      "Picking source (raw) trial #04 to fill target (npy) trial #24 | Experiment_id: 24\n"
     ]
    },
    {
     "name": "stderr",
     "output_type": "stream",
     "text": [
      "C:\\Users\\sinad\\AppData\\Local\\Temp\\ipykernel_23748\\2327304102.py:72: UserWarning: Boolean Series key will be reindexed to match DataFrame index.\n",
      "  trial_id = ratings_subj[is_exp]['Trial'].values[0]\n"
     ]
    },
    {
     "name": "stdout",
     "output_type": "stream",
     "text": [
      "Picking source (raw) trial #29 to fill target (npy) trial #25 | Experiment_id: 25\n",
      "Picking source (raw) trial #40 to fill target (npy) trial #26 | Experiment_id: 26\n",
      "Picking source (raw) trial #20 to fill target (npy) trial #27 | Experiment_id: 27\n",
      "Picking source (raw) trial #30 to fill target (npy) trial #28 | Experiment_id: 28\n",
      "Picking source (raw) trial #23 to fill target (npy) trial #29 | Experiment_id: 29\n",
      "Picking source (raw) trial #22 to fill target (npy) trial #30 | Experiment_id: 30\n",
      "Picking source (raw) trial #06 to fill target (npy) trial #31 | Experiment_id: 31\n",
      "Picking source (raw) trial #26 to fill target (npy) trial #32 | Experiment_id: 32\n",
      "Picking source (raw) trial #10 to fill target (npy) trial #33 | Experiment_id: 33\n",
      "Picking source (raw) trial #18 to fill target (npy) trial #34 | Experiment_id: 34\n",
      "Picking source (raw) trial #13 to fill target (npy) trial #35 | Experiment_id: 35\n",
      "Picking source (raw) trial #17 to fill target (npy) trial #36 | Experiment_id: 36\n",
      "Picking source (raw) trial #34 to fill target (npy) trial #37 | Experiment_id: 37\n",
      "Picking source (raw) trial #33 to fill target (npy) trial #38 | Experiment_id: 38\n",
      "Picking source (raw) trial #08 to fill target (npy) trial #39 | Experiment_id: 39\n",
      "Picking source (raw) trial #07 to fill target (npy) trial #40 | Experiment_id: 40\n",
      "(40, 16, 33281)\n",
      "\n",
      "Storing the final EEG data in a numpy array of shape (40, 16, 33281)\n",
      "40\n",
      "Saving the final EEG data in a .npy file\n",
      "Raw physiological data has been epoched, downsampled, trial-reordered and channel-reordered.\n",
      "Finished.\n"
     ]
    }
   ],
   "source": [
    "subject_id = 1\n",
    "\n",
    "raw, epochs, epochs_downsampled, data_npy = epoch_bdf(subject_id)"
   ]
  },
  {
   "cell_type": "code",
   "execution_count": 24,
   "id": "ab727fa7-39ff-485f-92a6-33b371d80804",
   "metadata": {},
   "outputs": [
    {
     "name": "stdout",
     "output_type": "stream",
     "text": [
      "<RawEDF | s01.bdf, 16 x 1980928 (3869.0 s), ~241.8 MB, data loaded>\n",
      "ch  name    type  unit        min         Q1     median         Q3        max\n",
      " 0  EXG1    EEG   µV    -259325.22    8835.91    9029.62    9285.34  258827.35\n",
      " 1  EXG2    EEG   µV    -259274.47    4996.88    7171.47    8254.78  258877.76\n",
      " 2  EXG3    EEG   µV    -259329.38    -513.51    2798.92    5126.94  259061.19\n",
      " 3  EXG4    EEG   µV    -259298.01   -3428.61   -1351.51     -25.86  258996.22\n",
      " 4  EXG5    EEG   µV    -259339.69   -4627.82   -3628.29   -2993.64  259136.47\n",
      " 5  EXG6    EEG   µV    -259303.72   -2461.51   -1757.89    -915.23  259066.22\n",
      " 6  EXG7    EEG   µV    -259327.26   -1695.26    -745.23    -220.73  259139.47\n",
      " 7  EXG8    EEG   µV    -259298.54   -6256.91   -6028.75   -4865.26  258745.88\n",
      " 8  GSR1    EEG   µV    -484375.03  2447573601.58  2958447657.61  3557665300.41  7846563625.61\n",
      " 9  GSR2    EEG   µV    -484375.03  -484375.03  -484375.03  -484375.03  -484375.03\n",
      "10  Erg1    EEG   µV       313.12     433.12     692.12    2497.37   13092.37\n",
      "11  Erg2    EEG   µV      -329.12    -320.87    -319.62    -318.12    -310.37\n",
      "12  Resp    EEG   µV    -32365.55  -10483.31   -6932.60    8654.69  256572.45\n",
      "13  Plet    EEG   µV    -2048515.98   16537.59   30844.01   44299.86  649799.45\n",
      "14  Temp    EEG   µV    8011390.93  34123056.30  34207055.22  34280054.29  34424052.44\n",
      "15  Status  STIM  NA         0.00       0.00       0.00       0.00   65536.00\n",
      "None\n"
     ]
    }
   ],
   "source": [
    "print(raw.describe())"
   ]
  },
  {
   "cell_type": "code",
   "execution_count": 27,
   "id": "1b215155-52f2-499b-8525-bb4dcb8d289f",
   "metadata": {},
   "outputs": [
    {
     "name": "stdout",
     "output_type": "stream",
     "text": [
      "['EXG1', 'EXG2', 'EXG3', 'EXG4', 'EXG5', 'EXG6', 'EXG7', 'EXG8', 'GSR1', 'GSR2', 'Erg1', 'Erg2', 'Resp', 'Plet', 'Temp', 'Status']\n"
     ]
    }
   ],
   "source": [
    "print(raw.ch_names)"
   ]
  },
  {
   "cell_type": "code",
   "execution_count": 29,
   "id": "77469f0a-999b-46af-9888-28eaec6889d4",
   "metadata": {},
   "outputs": [],
   "source": [
    "def extract_HR_features(subject_id,trial_num):\n",
    "\n",
    "    trial = trial_num\n",
    "\n",
    "    feats_folder = os.path.join(os.getcwd(), 'results', 'features_new')\n",
    "\n",
    "    plet_path = os.path.join(feats_folder, 's{:02}_plet.npy'.format(subject_id))\n",
    "    if os.path.exists(plet_path):\n",
    "        print('\\nFeatures are already saved.\\nSkipping data extraction for Subject {:02}'.format(subject_id))\n",
    "\n",
    "    print('\\nExtracting features for Subject {:02}'.format(subject_id))\n",
    "\n",
    "    # Load data\n",
    "    plet_file_path = os.path.join(npy_folder, 's{:02d}_plet.npy'.format(subject_id))\n",
    "    print('Loading preprocessed Plethysmograph from .npy file {}\\n'.format(plet_path))\n",
    "    plet_data = np.load(plet_file_path)\n",
    "\n",
    "    wd, m = hp.process(plet_data[trial,:], sample_rate = sfreq)\n",
    "\n",
    "    # set large figure\n",
    "    # plt.figure(figsize=(7,4))\n",
    "\n",
    "    # call plotter\n",
    "    hp.plotter(wd, m, figsize=(7,3))\n",
    "    plt.show()\n",
    "    \n",
    "    return m"
   ]
  },
  {
   "cell_type": "code",
   "execution_count": 30,
   "id": "ec348a80-83ce-4259-9fbc-14dee993d805",
   "metadata": {},
   "outputs": [
    {
     "name": "stdout",
     "output_type": "stream",
     "text": [
      "\n",
      "Extracting features for Subject 01\n",
      "Loading preprocessed Plethysmograph from .npy file C:\\Users\\sinad\\OneDrive - Georgia Institute of Technology\\BMED 6517 ML Biosci\\Project\\emotional_state_classifier\\BMED_6517_emotional_state_classifier\\results\\features_new\\s01_plet.npy\n",
      "\n"
     ]
    },
    {
     "name": "stderr",
     "output_type": "stream",
     "text": [
      "C:\\Users\\sinad\\anaconda3\\envs\\MLclass_EmotionalState_env\\lib\\site-packages\\heartpy\\visualizeutils.py:119: UserWarning: Matplotlib is currently using module://matplotlib_inline.backend_inline, which is a non-GUI backend, so cannot show the figure.\n",
      "  fig.show()\n"
     ]
    },
    {
     "data": {
      "image/png": "[encoded data removed]",
      "text/plain": [
       "<Figure size 700x300 with 1 Axes>"
      ]
     },
     "metadata": {},
     "output_type": "display_data"
    },
    {
     "name": "stdout",
     "output_type": "stream",
     "text": [
      "bpm: 59.155681\n",
      "ibi: 1014.272837\n",
      "sdnn: 71.712838\n",
      "sdsd: 58.072320\n",
      "rmssd: 80.236414\n",
      "pnn20: 0.695652\n",
      "pnn50: 0.391304\n",
      "hr_mad: 39.062500\n",
      "sd1: 56.694517\n",
      "sd2: 72.648937\n",
      "s: 12939.580440\n",
      "sd1/sd2: 0.780390\n",
      "breathingrate: 0.233333\n"
     ]
    }
   ],
   "source": [
    "trial_num = 1\n",
    "\n",
    "HR_feat = extract_HR_features(subject_id, trial_num)\n",
    "for measure in HR_feat.keys():\n",
    "    print('%s: %f' %(measure, HR_feat[measure]))"
   ]
  },
  {
   "cell_type": "code",
   "execution_count": 31,
   "id": "625f6b45-4116-4d9c-8d19-ed873aa1144b",
   "metadata": {},
   "outputs": [],
   "source": [
    "def extract_GSR_features(subject_id,trial_num):\n",
    "\n",
    "    trial = trial_num\n",
    "\n",
    "    feats_folder = os.path.join(os.getcwd(), 'results', 'features_new')\n",
    "\n",
    "    GSR_path = os.path.join(feats_folder, 's{:02}_GSR.npy'.format(subject_id))\n",
    "    if os.path.exists(GSR_path):\n",
    "        print('\\nFeatures are already saved.\\nSkipping data extraction for Subject {:02}'.format(subject_id))\n",
    "\n",
    "    print('\\nExtracting features for Subject {:02}'.format(subject_id))\n",
    "\n",
    "    # Load data\n",
    "    GSR_file_path = os.path.join(npy_folder, 's{:02d}_GSR.npy'.format(subject_id))\n",
    "    print('Loading preprocessed GSR from .npy file {}\\n'.format(GSR_path))\n",
    "    GSR_data = np.load(GSR_file_path)\n",
    "    \n",
    "    plt.figure(figsize=(7,3))\n",
    "    plt.plot(GSR_data[trial,:])\n",
    "    plt.show()\n",
    "    \n",
    "    features = statistics_feature(GSR_data)\n",
    "    return features\n"
   ]
  },
  {
   "cell_type": "code",
   "execution_count": 32,
   "id": "a4163779-f5e5-43d4-b4af-bdf7f330d005",
   "metadata": {},
   "outputs": [],
   "source": [
    "def statistics_feature(data):\n",
    "    mean = np.mean(data)\n",
    "    std = np.std(data)\n",
    "    Skew = skew(data)\n",
    "    kurt = kurtosis(data)\n",
    "    mean_fst_absdiff = np.mean(abs(np.diff(data)))\n",
    "    mean_snd_absdiff = np.mean(abs(np.diff(np.diff(data))))\n",
    "    mean_fst_diff = np.mean(np.diff(data))\n",
    "    mean_snd_diff = np.mean(np.diff(np.diff(data)))\n",
    "    mean_neg_diff = np.mean(np.diff(data)[np.where(np.diff(data)<0)])\n",
    "    proportion_neg_diff = len(np.where(np.diff(data)<0)[0])/(len(np.diff(data)))\n",
    "    number_local_min = len(argrelextrema(data,np.less)[0])\n",
    "    number_local_max = len(argrelextrema(data,np.greater)[0])\n",
    "    f1 = [mean,std,Skew,kurt]\n",
    "    f2 = [mean_fst_absdiff,mean_snd_absdiff,mean_fst_diff,mean_snd_diff,mean_neg_diff,proportion_neg_diff]\n",
    "    f3 = [number_local_min,number_local_max]\n",
    "    f = f1+f2+f3\n",
    "    names = ['meam','std','skew','kurtosis','me.1absdf','me.2absdf','me.1df','me.2df','me.negdf','ro.negdf','num.argmi','num.argma']\n",
    "    GSR_features = dict(zip(names, f))\n",
    "    return GSR_features"
   ]
  },
  {
   "cell_type": "code",
   "execution_count": 33,
   "id": "c6efb011-65d9-46db-a885-614f0ba0be7d",
   "metadata": {},
   "outputs": [
    {
     "name": "stdout",
     "output_type": "stream",
     "text": [
      "\n",
      "Extracting features for Subject 01\n",
      "Loading preprocessed GSR from .npy file C:\\Users\\sinad\\OneDrive - Georgia Institute of Technology\\BMED 6517 ML Biosci\\Project\\emotional_state_classifier\\BMED_6517_emotional_state_classifier\\results\\features_new\\s01_GSR.npy\n",
      "\n"
     ]
    },
    {
     "data": {
      "image/png": "[encoded data removed]",
      "text/plain": [
       "<Figure size 700x300 with 1 Axes>"
      ]
     },
     "metadata": {},
     "output_type": "display_data"
    },
    {
     "name": "stdout",
     "output_type": "stream",
     "text": [
      "meam:  -87.59641822091699\n",
      "std:  294.0487151490621\n",
      "skew:  [-2.39560108 -2.40043561 -2.41145399 ... -1.65117167 -1.65221311\n",
      " -1.65231884]\n",
      "kurtosis:  [5.6887228  5.7144277  5.76456597 ... 7.02355337 7.03162694 7.02968144]\n",
      "me.1absdf:  0.14531665260398158\n",
      "me.2absdf:  0.21027775264994175\n",
      "me.1df:  -0.013164466971615543\n",
      "me.2df:  -5.868019764148659e-06\n",
      "me.negdf:  -0.13358709463732224\n",
      "ro.negdf:  4934.625\n",
      "num.argmi:  94144\n",
      "num.argma:  95237\n"
     ]
    }
   ],
   "source": [
    "gsr_feat = extract_GSR_features(subject_id, trial_num)\n",
    "#pprint.pprint(gsr_feat)\n",
    "\n",
    "for measure in gsr_feat.keys():\n",
    "    print('%s: ' %(measure),gsr_feat[measure])"
   ]
  },
  {
   "cell_type": "code",
   "execution_count": 34,
   "id": "79fd570f-6a2f-41d4-b8e2-23246e62f82a",
   "metadata": {},
   "outputs": [],
   "source": [
    "from mne.preprocessing import ICA, create_eog_epochs"
   ]
  },
  {
   "cell_type": "code",
   "execution_count": 35,
   "id": "53959da5-829c-47e5-856c-1fce0bba6b41",
   "metadata": {},
   "outputs": [],
   "source": [
    "root_folder = 'C:/Users/sinad/OneDrive - Georgia Institute of Technology/BMED 6517 ML Biosci/Project/emotional_state_classifier/DEAP/DEAP/data_original'\n",
    "ratings_csv_path = 'C:/Users/sinad/OneDrive - Georgia Institute of Technology/BMED 6517 ML Biosci/Project/emotional_state_classifier/DEAP/DEAP/Metadata/metadata_csv/participant_ratings.csv' # os.path.join(os.getcwd(), 'metadata_csv', 'participant_ratings.csv')\n",
    "DEAP_EEG_channels_xlsx_path = 'C:/Users/sinad/OneDrive - Georgia Institute of Technology/BMED 6517 ML Biosci/Project/emotional_state_classifier/DEAP/DEAP/Metadata/DEAP_EEG_channels.xlsx'"
   ]
  },
  {
   "cell_type": "code",
   "execution_count": 36,
   "id": "5b2de143-bac6-4775-9830-a3d165ca0a32",
   "metadata": {},
   "outputs": [],
   "source": [
    "N_trials = 40\n",
    "N_EEG_electrodes = 32\n",
    "N_ICA = N_EEG_electrodes - 1"
   ]
  },
  {
   "cell_type": "code",
   "execution_count": 37,
   "id": "f8367f35-31b7-4973-a44a-14dec9052122",
   "metadata": {},
   "outputs": [],
   "source": [
    "ICA_components_folder = os.path.join(os.getcwd(), 'results', 'ICA_components')\n",
    "ICA_models_folder = os.path.join(os.getcwd(), 'results', 'ICA_models')\n",
    "PSD_folder = os.path.join(os.getcwd(), 'results', 'PSD')\n",
    "mneraw_as_pkl_folder = os.path.join(os.getcwd(), 'results', 'pkl')\n",
    "npy_folder = os.path.join(os.getcwd(), 'results', 'npy')"
   ]
  },
  {
   "cell_type": "code",
   "execution_count": 38,
   "id": "934bcaee-2f83-4978-83e0-21927d152883",
   "metadata": {},
   "outputs": [],
   "source": [
    "for folder in [ICA_components_folder, ICA_models_folder, PSD_folder, mneraw_as_pkl_folder, npy_folder]:\n",
    "\tif not os.path.exists(folder):\n",
    "\t\tos.makedirs(folder, exist_ok=True)\n",
    "\n",
    "def clean_bdf(subject_id):\n",
    "\n",
    "\tnpy_path = os.path.join(npy_folder, 's{:02}.npy'.format(subject_id))\n",
    "\tif os.path.exists(npy_path):\n",
    "\t\tprint('\\nFile has already been preprocessed.\\nSkipping EEG .bdf preprocessing for Subject {:02}'.format(subject_id))\n",
    "\t\treturn 0\n",
    "\n",
    "\tprint('\\n----------------------------------------------------\\n')\n",
    "\tprint('Cleaning data for Subject {:02}'.format(subject_id))\n",
    "\n",
    "\tbdf_file_name = 's{:02d}.bdf'.format(subject_id)\n",
    "\tbdf_file_path = os.path.join(root_folder, bdf_file_name)\n",
    "\t\n",
    "\tprint('Loading .bdf file {}'.format(bdf_file_path))\n",
    "\traw = mne.io.read_raw_bdf(bdf_file_path, preload=True, verbose=False).load_data()\n",
    "\tch_names = raw.ch_names\n",
    "\teeg_channels = ch_names[:N_EEG_electrodes]\n",
    "\tnon_eeg_channels = ch_names[N_EEG_electrodes:]\n",
    "\tstim_ch_name = ch_names[-1]\n",
    "\tstim_channels = [ stim_ch_name ]\n",
    "\n",
    "\traw_copy = raw.copy()\n",
    "\traw_stim = raw_copy.pick_channels(stim_channels)\n",
    "\traw.pick_channels(eeg_channels)\n",
    "\tprint('Setting montage with BioSemi32 electrode locations')\n",
    "\tbiosemi_montage = mne.channels.make_standard_montage(kind='biosemi32', head_size=0.095)\n",
    "\traw.set_montage(biosemi_montage)\n",
    "\tprint('Applying notch filter (50Hz) and bandpass filter (4-45Hz)')\n",
    "\traw.notch_filter(np.arange(50, 251, 50), n_jobs=1, fir_design='firwin')\n",
    "\traw.filter(4, 45, fir_design='firwin')\n",
    "\n",
    "\t####################################\n",
    "\t# https://mne.tools/dev/generated/mne.set_eeg_reference.html\n",
    "\t# https://mne.tools/stable/auto_tutorials/preprocessing/plot_55_setting_eeg_reference.html\n",
    "\t# https://mne.tools/dev/auto_examples/preprocessing/plot_rereference_eeg.html\n",
    "\t# http://predictablynoisy.com/mne-python/auto_tutorials/plot_eeg_erp.html\n",
    "\n",
    "\t# **************\n",
    "\t# No reference. This assumes that the EEG has already been referenced properly.\n",
    "\t# This explicitly prevents MNE from adding a default EEG reference.\n",
    "\t# raw.set_eeg_reference([])\n",
    "\t# **************\n",
    "\t# Re-reference from an average reference to the mean of channels T7 and T8.\n",
    "\t# raw.set_eeg_reference(['T7', 'T8'])\n",
    "\t# **************\n",
    "\t# Average reference. This is normally added by default, but can also be added explicitly.\n",
    "\tprint('Re-referencing all electrodes to the common average reference')\n",
    "\traw.set_eeg_reference()\n",
    "\t#####################################################\n",
    "\tprint('Getting events from the status channel')\n",
    "\tevents = mne.find_events(raw_stim, stim_channel=stim_ch_name, verbose=True)\n",
    "\tif subject_id<=23:\n",
    "\t\t# Subject 1-22 and Subjects 23-28 have 48 channels.\n",
    "\t\t# Subjects 29-32 have 49 channels.\n",
    "\t\t# For Subjects 1-22 and Subject 23, the stimuli channel has the name 'Status'\n",
    "\t\t# For Subjects 24-28, the stimuli channel has the name ''\n",
    "\t\t# For Subjects 29-32, the stimuli channels have the names '-0' and '-1'\n",
    "\t\tpass\n",
    "\telse:\n",
    "\t\t# The values of the stimuli channel have to be changed for Subjects 24-32\n",
    "\t\t# Trigger channel has a non-zero initial value of 1703680 (consider using initial_event=True to detect this event)\n",
    "\t\tevents[:,2] -= 1703680 # subtracting initial value\n",
    "\t\tevents[:,2] = events[:,2] % 65536 # getting modulo with 65536\n",
    "\t\n",
    "\tprint('')\n",
    "\tevent_IDs = np.unique(events[:,2])\n",
    "\tfor event_id in event_IDs:\n",
    "\t\tcol = events[:,2]\n",
    "\t\tprint('Event ID {} : {:05}'.format(event_id, np.sum( 1.0*(col==event_id) ) ) )\n",
    "\tinds_new_trial = np.where(events[:,2] == 4)[0]\n",
    "\tevents_new_trial = events[inds_new_trial,:]\n",
    "\tbaseline = (0, 0)\n",
    "\tprint('Epoching the data, into [-5sec, +60sec] epochs')\n",
    "\tepochs = mne.Epochs(raw, events_new_trial, event_id=4, tmin=-5.0, tmax=60.0, picks=eeg_channels, baseline=baseline, preload=True)\n",
    "\n",
    "\tprint('Fitting ICA to the epoched data, using {} ICA components'.format(N_ICA))\n",
    "\tica = ICA(n_components=N_ICA, method='fastica', random_state=23)\n",
    "\tica.fit(epochs)\n",
    "\tICA_model_file = os.path.join(ICA_models_folder, 's{:02}_ICA_model.pkl'.format(subject_id))\n",
    "\twith open(ICA_model_file, 'wb') as pkl_file:\n",
    "\t\tpickle.dump(ica, pkl_file)\n",
    "\t# ica.plot_sources(epochs)\n",
    "\tprint('Plotting ICA components')\n",
    "\tfig = ica.plot_components()\n",
    "\tcnt = 1\n",
    "\tfor fig_x in fig:\n",
    "\t\tprint(fig_x)\n",
    "\t\tfig_ICA_path = os.path.join(ICA_components_folder, 's{:02}_ICA_components_{}.png'.format(subject_id, cnt))\n",
    "\t\tfig_x.savefig(fig_ICA_path)\n",
    "\t\tcnt += 1\n",
    "\t# Inspect frontal channels to check artifact removal \n",
    "\t# ica.plot_overlay(raw, picks=['Fp1'])\n",
    "\t# ica.plot_overlay(raw, picks=['Fp2'])\n",
    "\t# ica.plot_overlay(raw, picks=['AF3'])\n",
    "\t# ica.plot_overlay(raw, picks=['AF4'])\n",
    "\tN_excluded_channels = len(ica.exclude)\n",
    "\tprint('Excluding {:02} ICA component(s): {}'.format(N_excluded_channels, ica.exclude))\n",
    "\tepochs_clean = ica.apply(epochs.copy())\n",
    "\n",
    "\t#############################\n",
    "\n",
    "\tprint('Plotting PSD of epoched data')\n",
    "\tfig = epochs_clean.plot_psd(fmin=4, fmax=45, area_mode='range', average=False, picks=eeg_channels, spatial_colors=True)\n",
    "\tfig_PSD_path = os.path.join(PSD_folder, 's{:02}_PSD.png'.format(subject_id))\n",
    "\tfig.savefig(fig_PSD_path)\n",
    "\n",
    "\tprint('Saving ICA epoched data as .pkl file')\n",
    "\tmneraw_pkl_path = os.path.join(mneraw_as_pkl_folder, 's{:02}.pkl'.format(subject_id))\n",
    "\twith open(mneraw_pkl_path, 'wb') as pkl_file:\n",
    "\t\tpickle.dump(epochs_clean, pkl_file)\n",
    "\n",
    "\tepochs_clean_copy = epochs_clean.copy()\n",
    "\tprint('Downsampling epoched data to 128Hz')\n",
    "\tepochs_clean_downsampled = epochs_clean_copy.resample(sfreq=128.0)\n",
    "\n",
    "\tprint('Plotting PSD of epoched downsampled data')\n",
    "\tfig = epochs_clean_downsampled.plot_psd(fmin=4, fmax=45, area_mode='range', average=False, picks=eeg_channels, spatial_colors=True)\n",
    "\tfig_PSD_path = os.path.join(PSD_folder, 's{:02}_PSD_downsampled.png'.format(subject_id))\n",
    "\tfig.savefig(fig_PSD_path)\n",
    "\n",
    "\tdata = epochs_clean.get_data()\n",
    "\tdata_downsampled = epochs_clean_downsampled.get_data()\n",
    "\tprint('Original epoched data shape: {}'.format(data.shape))\n",
    "\tprint('Downsampled epoched data shape: {}'.format(data_downsampled.shape))\n",
    "\t\n",
    "\t###########################################\n",
    "\t\n",
    "\tEEG_channels_table = pd.read_excel(DEAP_EEG_channels_xlsx_path)\n",
    "\tEEG_channels_geneva = EEG_channels_table['Channel_name_Geneva'].values\n",
    "\tchannel_pick_indices = []\n",
    "\tprint('\\nPreparing EEG channel reordering to comply with the Geneva order')\n",
    "\tfor (geneva_ch_index, geneva_ch_name) in zip(range(N_EEG_electrodes), EEG_channels_geneva):\n",
    "\t\tbdf_ch_index = eeg_channels.index(geneva_ch_name)\n",
    "\t\tchannel_pick_indices.append(bdf_ch_index)\n",
    "\t\tprint('Picking source (raw) channel #{:02} to fill target (npy) channel #{:02} | Electrode position: {}'.format(bdf_ch_index + 1, geneva_ch_index + 1, geneva_ch_name))\n",
    "\n",
    "\tratings = pd.read_csv(ratings_csv_path)\n",
    "\tis_subject =  (ratings['Participant_id'] == subject_id)\n",
    "\tratings_subj = ratings[is_subject]\n",
    "\ttrial_pick_indices = []\n",
    "\tprint('\\nPreparing EEG trial reordering, from presentation order, to video (Experiment_id) order')\n",
    "\tfor i in range(N_trials):\n",
    "\t\texp_id = i+1\n",
    "\t\tis_exp = (ratings['Experiment_id'] == exp_id)\n",
    "\t\ttrial_id = ratings_subj[is_exp]['Trial'].values[0]\n",
    "\t\ttrial_pick_indices.append(trial_id - 1)\n",
    "\t\tprint('Picking source (raw) trial #{:02} to fill target (npy) trial #{:02} | Experiment_id: {:02}'.format(trial_id, exp_id, exp_id))\n",
    "\t\n",
    "\t# Store clean and reordered data to numpy array\n",
    "\tepoch_duration = data_downsampled.shape[-1]\n",
    "\tdata_npy = np.zeros((N_trials, N_EEG_electrodes, epoch_duration))\n",
    "\tprint('\\nStoring the final EEG data in a numpy array of shape {}'.format(data_npy.shape))\n",
    "\tfor trial_source, trial_target in zip(trial_pick_indices, range(N_trials)):\n",
    "\t\tdata_trial = data_downsampled[trial_source]\n",
    "\t\tdata_trial_reordered_channels = data_trial[channel_pick_indices,:]\n",
    "\t\tdata_npy[trial_target,:,:] = data_trial_reordered_channels.copy()\n",
    "\tprint('Saving the final EEG data in a .npy file')\n",
    "\tnp.save(npy_path, data_npy)\n",
    "\t\n",
    "\tprint('Raw EEG has been filtered, common average referenced, epoched, artifact-rejected, downsampled, trial-reordered and channel-reordered.')\n",
    "\tprint('Finished.')"
   ]
  },
  {
   "cell_type": "code",
   "execution_count": 21,
   "id": "c0a2c574-ac0c-410f-acfd-dfb779da418b",
   "metadata": {},
   "outputs": [],
   "source": []
  },
  {
   "cell_type": "code",
   "execution_count": 39,
   "id": "3b59acf0-1df4-463e-93f5-aa49f3cb8887",
   "metadata": {},
   "outputs": [
    {
     "name": "stderr",
     "output_type": "stream",
     "text": [
      "usage: ipykernel_launcher.py [-h] [--subject_id SUBJECT_ID]\n",
      "ipykernel_launcher.py: error: unrecognized arguments: -f C:\\Users\\sinad\\AppData\\Roaming\\jupyter\\runtime\\kernel-aae383f6-6cc5-4cb6-a0af-6635c5788927.json\n"
     ]
    },
    {
     "ename": "SystemExit",
     "evalue": "2",
     "output_type": "error",
     "traceback": [
      "An exception has occurred, use %tb to see the full traceback.\n",
      "\u001b[1;31mSystemExit\u001b[0m\u001b[1;31m:\u001b[0m 2\n"
     ]
    },
    {
     "name": "stderr",
     "output_type": "stream",
     "text": [
      "C:\\Users\\sinad\\anaconda3\\envs\\MLclass_EmotionalState_env\\lib\\site-packages\\IPython\\core\\interactiveshell.py:3406: UserWarning: To exit: use 'exit', 'quit', or Ctrl-D.\n",
      "  warn(\"To exit: use 'exit', 'quit', or Ctrl-D.\", stacklevel=1)\n"
     ]
    }
   ],
   "source": [
    "if __name__=='__main__':\n",
    "\tparser = argparse.ArgumentParser(description=\"Preprocessing the DEAP dataset's .bdf files\")\n",
    "\tparser.add_argument('--subject_id', type=int, default=1, help=\"Subject ID\")\n",
    "\targs = parser.parse_args()\n",
    "\n",
    "\tclean_bdf(args.subject_id)"
   ]
  },
  {
   "cell_type": "code",
   "execution_count": null,
   "id": "2a79c4e5-f8d3-4549-983d-8d72e3163f25",
   "metadata": {},
   "outputs": [],
   "source": []
  }
 ],
 "metadata": {
  "kernelspec": {
   "display_name": "Python 3 (ipykernel)",
   "language": "python",
   "name": "python3"
  },
  "language_info": {
   "codemirror_mode": {
    "name": "ipython",
    "version": 3
   },
   "file_extension": ".py",
   "mimetype": "text/x-python",
   "name": "python",
   "nbconvert_exporter": "python",
   "pygments_lexer": "ipython3",
   "version": "3.9.13"
  }
 },
 "nbformat": 4,
 "nbformat_minor": 5
}
