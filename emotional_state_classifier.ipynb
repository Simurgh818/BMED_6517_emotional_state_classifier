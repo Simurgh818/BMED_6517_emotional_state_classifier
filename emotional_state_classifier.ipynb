{
 "cells": [
  {
   "cell_type": "markdown",
   "id": "b94cd3bc-d94f-4b8d-b5d6-78abeb6c2048",
   "metadata": {},
   "source": [
    "# Emotional State Classifier on a multimodal physiological Dataset.\n",
    "\n",
    "### Sina Dabiri\n",
    "### sdabiri3@gatech.edu, sdabiri@emory.edu\n",
    "### Version 1.0"
   ]
  },
  {
   "cell_type": "code",
   "execution_count": 2,
   "id": "b19c7f25-f4de-43fa-8c6a-17c73effc06e",
   "metadata": {},
   "outputs": [],
   "source": [
    "import numpy as np\n",
    "import pandas as pd\n",
    "import matplotlib.pyplot as plt\n",
    "import seaborn as sns"
   ]
  },
  {
   "cell_type": "code",
   "execution_count": 3,
   "id": "f91d155c-edeb-4a93-95fb-b7f6bd89e53c",
   "metadata": {},
   "outputs": [
    {
     "name": "stdout",
     "output_type": "stream",
     "text": [
      "Collecting mne\n",
      "  Downloading mne-1.1.1-py3-none-any.whl (7.5 MB)\n",
      "     ---------------------------------------- 7.5/7.5 MB 13.7 MB/s eta 0:00:00\n",
      "Requirement already satisfied: numpy>=1.15.4 in c:\\users\\sinad\\anaconda3\\envs\\emotional_state_env\\lib\\site-packages (from mne) (1.23.1)\n",
      "Requirement already satisfied: jinja2 in c:\\users\\sinad\\anaconda3\\envs\\emotional_state_env\\lib\\site-packages (from mne) (3.0.3)\n",
      "Requirement already satisfied: decorator in c:\\users\\sinad\\anaconda3\\envs\\emotional_state_env\\lib\\site-packages (from mne) (5.1.1)\n",
      "Requirement already satisfied: matplotlib in c:\\users\\sinad\\anaconda3\\envs\\emotional_state_env\\lib\\site-packages (from mne) (3.5.2)\n",
      "Collecting tqdm\n",
      "  Downloading tqdm-4.64.1-py2.py3-none-any.whl (78 kB)\n",
      "     ---------------------------------------- 78.5/78.5 kB 4.3 MB/s eta 0:00:00\n",
      "Collecting pooch>=1.5\n",
      "  Downloading pooch-1.6.0-py3-none-any.whl (56 kB)\n",
      "     ---------------------------------------- 56.3/56.3 kB ? eta 0:00:00\n",
      "Requirement already satisfied: scipy>=1.1.0 in c:\\users\\sinad\\anaconda3\\envs\\emotional_state_env\\lib\\site-packages (from mne) (1.9.1)\n",
      "Requirement already satisfied: packaging in c:\\users\\sinad\\anaconda3\\envs\\emotional_state_env\\lib\\site-packages (from mne) (21.3)\n",
      "Requirement already satisfied: requests>=2.19.0 in c:\\users\\sinad\\anaconda3\\envs\\emotional_state_env\\lib\\site-packages (from pooch>=1.5->mne) (2.28.1)\n",
      "Collecting appdirs>=1.3.0\n",
      "  Downloading appdirs-1.4.4-py2.py3-none-any.whl (9.6 kB)\n",
      "Requirement already satisfied: pyparsing!=3.0.5,>=2.0.2 in c:\\users\\sinad\\anaconda3\\envs\\emotional_state_env\\lib\\site-packages (from packaging->mne) (3.0.9)\n",
      "Requirement already satisfied: MarkupSafe>=2.0 in c:\\users\\sinad\\anaconda3\\envs\\emotional_state_env\\lib\\site-packages (from jinja2->mne) (2.1.1)\n",
      "Requirement already satisfied: cycler>=0.10 in c:\\users\\sinad\\anaconda3\\envs\\emotional_state_env\\lib\\site-packages (from matplotlib->mne) (0.11.0)\n",
      "Requirement already satisfied: kiwisolver>=1.0.1 in c:\\users\\sinad\\anaconda3\\envs\\emotional_state_env\\lib\\site-packages (from matplotlib->mne) (1.4.2)\n",
      "Requirement already satisfied: python-dateutil>=2.7 in c:\\users\\sinad\\anaconda3\\envs\\emotional_state_env\\lib\\site-packages (from matplotlib->mne) (2.8.2)\n",
      "Requirement already satisfied: fonttools>=4.22.0 in c:\\users\\sinad\\anaconda3\\envs\\emotional_state_env\\lib\\site-packages (from matplotlib->mne) (4.25.0)\n",
      "Requirement already satisfied: pillow>=6.2.0 in c:\\users\\sinad\\anaconda3\\envs\\emotional_state_env\\lib\\site-packages (from matplotlib->mne) (9.2.0)\n",
      "Requirement already satisfied: colorama in c:\\users\\sinad\\anaconda3\\envs\\emotional_state_env\\lib\\site-packages (from tqdm->mne) (0.4.5)\n",
      "Requirement already satisfied: six>=1.5 in c:\\users\\sinad\\anaconda3\\envs\\emotional_state_env\\lib\\site-packages (from python-dateutil>=2.7->matplotlib->mne) (1.16.0)\n",
      "Requirement already satisfied: urllib3<1.27,>=1.21.1 in c:\\users\\sinad\\anaconda3\\envs\\emotional_state_env\\lib\\site-packages (from requests>=2.19.0->pooch>=1.5->mne) (1.26.11)\n",
      "Requirement already satisfied: charset-normalizer<3,>=2 in c:\\users\\sinad\\anaconda3\\envs\\emotional_state_env\\lib\\site-packages (from requests>=2.19.0->pooch>=1.5->mne) (2.0.4)\n",
      "Requirement already satisfied: certifi>=2017.4.17 in c:\\users\\sinad\\anaconda3\\envs\\emotional_state_env\\lib\\site-packages (from requests>=2.19.0->pooch>=1.5->mne) (2022.9.24)\n",
      "Requirement already satisfied: idna<4,>=2.5 in c:\\users\\sinad\\anaconda3\\envs\\emotional_state_env\\lib\\site-packages (from requests>=2.19.0->pooch>=1.5->mne) (3.3)\n",
      "Installing collected packages: appdirs, tqdm, pooch, mne\n",
      "Successfully installed appdirs-1.4.4 mne-1.1.1 pooch-1.6.0 tqdm-4.64.1\n"
     ]
    }
   ],
   "source": [
    "!pip install mne"
   ]
  },
  {
   "cell_type": "code",
   "execution_count": 4,
   "id": "1f88c4de-8b25-4e7a-9160-2893b4133bee",
   "metadata": {},
   "outputs": [
    {
     "name": "stdout",
     "output_type": "stream",
     "text": [
      "Collecting heartpy\n",
      "  Downloading heartpy-1.2.7-py3-none-any.whl (1.0 MB)\n",
      "     ---------------------------------------- 1.0/1.0 MB 9.0 MB/s eta 0:00:00\n",
      "Requirement already satisfied: numpy>=1.17 in c:\\users\\sinad\\anaconda3\\envs\\emotional_state_env\\lib\\site-packages (from heartpy) (1.23.1)\n",
      "Requirement already satisfied: matplotlib in c:\\users\\sinad\\anaconda3\\envs\\emotional_state_env\\lib\\site-packages (from heartpy) (3.5.2)\n",
      "Requirement already satisfied: scipy in c:\\users\\sinad\\anaconda3\\envs\\emotional_state_env\\lib\\site-packages (from heartpy) (1.9.1)\n",
      "Requirement already satisfied: packaging>=20.0 in c:\\users\\sinad\\anaconda3\\envs\\emotional_state_env\\lib\\site-packages (from matplotlib->heartpy) (21.3)\n",
      "Requirement already satisfied: python-dateutil>=2.7 in c:\\users\\sinad\\anaconda3\\envs\\emotional_state_env\\lib\\site-packages (from matplotlib->heartpy) (2.8.2)\n",
      "Requirement already satisfied: kiwisolver>=1.0.1 in c:\\users\\sinad\\anaconda3\\envs\\emotional_state_env\\lib\\site-packages (from matplotlib->heartpy) (1.4.2)\n",
      "Requirement already satisfied: pillow>=6.2.0 in c:\\users\\sinad\\anaconda3\\envs\\emotional_state_env\\lib\\site-packages (from matplotlib->heartpy) (9.2.0)\n",
      "Requirement already satisfied: cycler>=0.10 in c:\\users\\sinad\\anaconda3\\envs\\emotional_state_env\\lib\\site-packages (from matplotlib->heartpy) (0.11.0)\n",
      "Requirement already satisfied: fonttools>=4.22.0 in c:\\users\\sinad\\anaconda3\\envs\\emotional_state_env\\lib\\site-packages (from matplotlib->heartpy) (4.25.0)\n",
      "Requirement already satisfied: pyparsing>=2.2.1 in c:\\users\\sinad\\anaconda3\\envs\\emotional_state_env\\lib\\site-packages (from matplotlib->heartpy) (3.0.9)\n",
      "Requirement already satisfied: six>=1.5 in c:\\users\\sinad\\anaconda3\\envs\\emotional_state_env\\lib\\site-packages (from python-dateutil>=2.7->matplotlib->heartpy) (1.16.0)\n",
      "Installing collected packages: heartpy\n",
      "Successfully installed heartpy-1.2.7\n"
     ]
    }
   ],
   "source": [
    "!pip install heartpy"
   ]
  },
  {
   "cell_type": "code",
   "execution_count": 5,
   "id": "5bd9ffdb-5d88-44a2-a8ca-bed4721d703f",
   "metadata": {},
   "outputs": [
    {
     "name": "stdout",
     "output_type": "stream",
     "text": [
      "Collecting mne_features\n",
      "  Downloading mne-features-0.2.1.tar.gz (40 kB)\n",
      "     -------------------------------------- 40.1/40.1 kB 961.6 kB/s eta 0:00:00\n",
      "  Preparing metadata (setup.py): started\n",
      "  Preparing metadata (setup.py): finished with status 'done'\n",
      "Requirement already satisfied: numpy in c:\\users\\sinad\\anaconda3\\envs\\emotional_state_env\\lib\\site-packages (from mne_features) (1.23.1)\n",
      "Requirement already satisfied: scipy in c:\\users\\sinad\\anaconda3\\envs\\emotional_state_env\\lib\\site-packages (from mne_features) (1.9.1)\n",
      "Collecting numba\n",
      "  Downloading numba-0.56.2-cp38-cp38-win_amd64.whl (2.5 MB)\n",
      "     ---------------------------------------- 2.5/2.5 MB 7.5 MB/s eta 0:00:00\n",
      "Collecting scikit-learn\n",
      "  Downloading scikit_learn-1.1.2-cp38-cp38-win_amd64.whl (7.3 MB)\n",
      "     ---------------------------------------- 7.3/7.3 MB 9.2 MB/s eta 0:00:00\n",
      "Requirement already satisfied: mne in c:\\users\\sinad\\anaconda3\\envs\\emotional_state_env\\lib\\site-packages (from mne_features) (1.1.1)\n",
      "Collecting PyWavelets\n",
      "  Downloading PyWavelets-1.4.1-cp38-cp38-win_amd64.whl (4.2 MB)\n",
      "     ---------------------------------------- 4.2/4.2 MB 12.1 MB/s eta 0:00:00\n",
      "Requirement already satisfied: pandas in c:\\users\\sinad\\anaconda3\\envs\\emotional_state_env\\lib\\site-packages (from mne_features) (1.4.4)\n",
      "Requirement already satisfied: decorator in c:\\users\\sinad\\anaconda3\\envs\\emotional_state_env\\lib\\site-packages (from mne->mne_features) (5.1.1)\n",
      "Requirement already satisfied: matplotlib in c:\\users\\sinad\\anaconda3\\envs\\emotional_state_env\\lib\\site-packages (from mne->mne_features) (3.5.2)\n",
      "Requirement already satisfied: tqdm in c:\\users\\sinad\\anaconda3\\envs\\emotional_state_env\\lib\\site-packages (from mne->mne_features) (4.64.1)\n",
      "Requirement already satisfied: packaging in c:\\users\\sinad\\anaconda3\\envs\\emotional_state_env\\lib\\site-packages (from mne->mne_features) (21.3)\n",
      "Requirement already satisfied: jinja2 in c:\\users\\sinad\\anaconda3\\envs\\emotional_state_env\\lib\\site-packages (from mne->mne_features) (3.0.3)\n",
      "Requirement already satisfied: pooch>=1.5 in c:\\users\\sinad\\anaconda3\\envs\\emotional_state_env\\lib\\site-packages (from mne->mne_features) (1.6.0)\n",
      "Collecting setuptools<60\n",
      "  Downloading setuptools-59.8.0-py3-none-any.whl (952 kB)\n",
      "     ------------------------------------- 952.8/952.8 kB 11.9 MB/s eta 0:00:00\n",
      "Collecting llvmlite<0.40,>=0.39.0dev0\n",
      "  Downloading llvmlite-0.39.1-cp38-cp38-win_amd64.whl (23.2 MB)\n",
      "     --------------------------------------- 23.2/23.2 MB 10.4 MB/s eta 0:00:00\n",
      "Requirement already satisfied: importlib-metadata in c:\\users\\sinad\\anaconda3\\envs\\emotional_state_env\\lib\\site-packages (from numba->mne_features) (4.11.3)\n",
      "Requirement already satisfied: pytz>=2020.1 in c:\\users\\sinad\\anaconda3\\envs\\emotional_state_env\\lib\\site-packages (from pandas->mne_features) (2022.1)\n",
      "Requirement already satisfied: python-dateutil>=2.8.1 in c:\\users\\sinad\\anaconda3\\envs\\emotional_state_env\\lib\\site-packages (from pandas->mne_features) (2.8.2)\n",
      "Collecting joblib>=1.0.0\n",
      "  Downloading joblib-1.2.0-py3-none-any.whl (297 kB)\n",
      "     -------------------------------------- 298.0/298.0 kB 9.0 MB/s eta 0:00:00\n",
      "Collecting threadpoolctl>=2.0.0\n",
      "  Downloading threadpoolctl-3.1.0-py3-none-any.whl (14 kB)\n",
      "Requirement already satisfied: appdirs>=1.3.0 in c:\\users\\sinad\\anaconda3\\envs\\emotional_state_env\\lib\\site-packages (from pooch>=1.5->mne->mne_features) (1.4.4)\n",
      "Requirement already satisfied: requests>=2.19.0 in c:\\users\\sinad\\anaconda3\\envs\\emotional_state_env\\lib\\site-packages (from pooch>=1.5->mne->mne_features) (2.28.1)\n",
      "Requirement already satisfied: pyparsing!=3.0.5,>=2.0.2 in c:\\users\\sinad\\anaconda3\\envs\\emotional_state_env\\lib\\site-packages (from packaging->mne->mne_features) (3.0.9)\n",
      "Requirement already satisfied: six>=1.5 in c:\\users\\sinad\\anaconda3\\envs\\emotional_state_env\\lib\\site-packages (from python-dateutil>=2.8.1->pandas->mne_features) (1.16.0)\n",
      "Requirement already satisfied: zipp>=0.5 in c:\\users\\sinad\\anaconda3\\envs\\emotional_state_env\\lib\\site-packages (from importlib-metadata->numba->mne_features) (3.8.0)\n",
      "Requirement already satisfied: MarkupSafe>=2.0 in c:\\users\\sinad\\anaconda3\\envs\\emotional_state_env\\lib\\site-packages (from jinja2->mne->mne_features) (2.1.1)\n",
      "Requirement already satisfied: pillow>=6.2.0 in c:\\users\\sinad\\anaconda3\\envs\\emotional_state_env\\lib\\site-packages (from matplotlib->mne->mne_features) (9.2.0)\n",
      "Requirement already satisfied: kiwisolver>=1.0.1 in c:\\users\\sinad\\anaconda3\\envs\\emotional_state_env\\lib\\site-packages (from matplotlib->mne->mne_features) (1.4.2)\n",
      "Requirement already satisfied: cycler>=0.10 in c:\\users\\sinad\\anaconda3\\envs\\emotional_state_env\\lib\\site-packages (from matplotlib->mne->mne_features) (0.11.0)\n",
      "Requirement already satisfied: fonttools>=4.22.0 in c:\\users\\sinad\\anaconda3\\envs\\emotional_state_env\\lib\\site-packages (from matplotlib->mne->mne_features) (4.25.0)\n",
      "Requirement already satisfied: colorama in c:\\users\\sinad\\anaconda3\\envs\\emotional_state_env\\lib\\site-packages (from tqdm->mne->mne_features) (0.4.5)\n",
      "Requirement already satisfied: charset-normalizer<3,>=2 in c:\\users\\sinad\\anaconda3\\envs\\emotional_state_env\\lib\\site-packages (from requests>=2.19.0->pooch>=1.5->mne->mne_features) (2.0.4)\n",
      "Requirement already satisfied: certifi>=2017.4.17 in c:\\users\\sinad\\anaconda3\\envs\\emotional_state_env\\lib\\site-packages (from requests>=2.19.0->pooch>=1.5->mne->mne_features) (2022.9.24)\n",
      "Requirement already satisfied: idna<4,>=2.5 in c:\\users\\sinad\\anaconda3\\envs\\emotional_state_env\\lib\\site-packages (from requests>=2.19.0->pooch>=1.5->mne->mne_features) (3.3)\n",
      "Requirement already satisfied: urllib3<1.27,>=1.21.1 in c:\\users\\sinad\\anaconda3\\envs\\emotional_state_env\\lib\\site-packages (from requests>=2.19.0->pooch>=1.5->mne->mne_features) (1.26.11)\n",
      "Building wheels for collected packages: mne_features\n",
      "  Building wheel for mne_features (setup.py): started\n",
      "  Building wheel for mne_features (setup.py): finished with status 'done'\n",
      "  Created wheel for mne_features: filename=mne_features-0.2.1-py3-none-any.whl size=26772 sha256=f997a2b71d8c0ed5acf62781cb4978fe475a43107d38368a02d245c6115190e7\n",
      "  Stored in directory: c:\\users\\sinad\\appdata\\local\\pip\\cache\\wheels\\b1\\c6\\e1\\3c49df751a193d50ae1f5ddd6d9f0c86eef8ed53b1b0ef7d9b\n",
      "Successfully built mne_features\n",
      "Installing collected packages: threadpoolctl, setuptools, PyWavelets, llvmlite, joblib, scikit-learn, numba, mne_features\n",
      "  Attempting uninstall: setuptools\n",
      "    Found existing installation: setuptools 63.4.1\n",
      "    Uninstalling setuptools-63.4.1:\n",
      "      Successfully uninstalled setuptools-63.4.1\n",
      "Successfully installed PyWavelets-1.4.1 joblib-1.2.0 llvmlite-0.39.1 mne_features-0.2.1 numba-0.56.2 scikit-learn-1.1.2 setuptools-59.8.0 threadpoolctl-3.1.0\n"
     ]
    }
   ],
   "source": [
    "!pip install mne_features"
   ]
  },
  {
   "cell_type": "code",
   "execution_count": null,
   "id": "9e58f551-e0a9-4fb8-be26-650418075b10",
   "metadata": {},
   "outputs": [],
   "source": []
  }
 ],
 "metadata": {
  "kernelspec": {
   "display_name": "Python 3 (ipykernel)",
   "language": "python",
   "name": "python3"
  },
  "language_info": {
   "codemirror_mode": {
    "name": "ipython",
    "version": 3
   },
   "file_extension": ".py",
   "mimetype": "text/x-python",
   "name": "python",
   "nbconvert_exporter": "python",
   "pygments_lexer": "ipython3",
   "version": "3.8.13"
  }
 },
 "nbformat": 4,
 "nbformat_minor": 5
}
