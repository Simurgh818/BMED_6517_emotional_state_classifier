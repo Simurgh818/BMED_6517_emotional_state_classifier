{
 "cells": [
  {
   "cell_type": "markdown",
   "id": "b94cd3bc-d94f-4b8d-b5d6-78abeb6c2048",
   "metadata": {},
   "source": [
    "# Emotional State Classifier on a multimodal physiological Dataset.\n",
    "\n",
    "### Sina Dabiri\n",
    "### sdabiri3@gatech.edu, sdabiri@emory.edu\n",
    "### Version 1.0"
   ]
  },
  {
   "cell_type": "code",
   "execution_count": 2,
   "id": "b19c7f25-f4de-43fa-8c6a-17c73effc06e",
   "metadata": {},
   "outputs": [],
   "source": [
    "import numpy as np\n",
    "import pandas as pd\n",
    "import matplotlib.pyplot as plt\n",
    "import seaborn as sns"
   ]
  },
  {
   "cell_type": "code",
   "execution_count": 7,
   "id": "d769c80d-0b78-4955-95b5-1619adc7b3ea",
   "metadata": {},
   "outputs": [],
   "source": [
    "import os\n",
    "import sys\n",
    "import mne\n",
    "import time\n",
    "import pickle\n",
    "import argparse"
   ]
  },
  {
   "cell_type": "code",
   "execution_count": 8,
   "id": "5e48175a-3bd5-406e-889e-5f1cdfdc01c0",
   "metadata": {},
   "outputs": [],
   "source": [
    "from mne.preprocessing import ICA, create_eog_epochs\n",
    "from scipy.stats import skew, kurtosis\n",
    "from scipy.signal import argrelextrema\n",
    "import heartpy as hp\n",
    "import pprint"
   ]
  },
  {
   "cell_type": "code",
   "execution_count": 9,
   "id": "ace124cc-b5dd-4f66-89ad-7b2bc141d439",
   "metadata": {},
   "outputs": [],
   "source": [
    "# Setting the path for root directory for DEAP dataset, data folder, participants ratings, and EEG channel lists\n",
    "\n",
    "root_folder = 'C:/Users/sinad/OneDrive - Georgia Institute of Technology/BMED 6517 ML Biosci/Project/emotional_state_classifier/DEAP/DEAP'\n",
    "data_folder = root_folder + '/data_original'\n",
    "ratings_csv_path = root_folder + '/Metadata/metadata_csv/participant_ratings.csv'\n",
    "DEAP_EEG_channels_xlsx_path = root_folder + '/Metadata/DEAP_EEG_channels.xlsx'"
   ]
  },
  {
   "cell_type": "code",
   "execution_count": 12,
   "id": "76a1d34a-2cc8-4336-972c-56085c2f8ab2",
   "metadata": {},
   "outputs": [
    {
     "name": "stdout",
     "output_type": "stream",
     "text": [
      "C:\\Users\\sinad\\OneDrive - Georgia Institute of Technology\\BMED 6517 ML Biosci\\Project\\emotional_state_classifier\\BMED_6517_emotional_state_classifier\\results\\npy\n"
     ]
    }
   ],
   "source": [
    "npy_folder = os.path.join(os.getcwd(), 'results', 'npy')\n",
    "print(npy_folder)\n",
    "\n",
    "for folder in [npy_folder]:\n",
    "    if not os.path.exists(folder):\n",
    "        os.makedirs(folder, exist_ok=True)"
   ]
  },
  {
   "cell_type": "code",
   "execution_count": 11,
   "id": "ce684682-42f1-45d2-8db5-e87eea705de5",
   "metadata": {},
   "outputs": [],
   "source": [
    "N_trials = 40\n",
    "N_EEG_electrodes = 32\n",
    "N_BIPOLAR = 16\n",
    "sfreq = 128"
   ]
  },
  {
   "cell_type": "code",
   "execution_count": null,
   "id": "63ca44b2-6f1a-4a6c-b686-61505accb568",
   "metadata": {},
   "outputs": [],
   "source": []
  }
 ],
 "metadata": {
  "kernelspec": {
   "display_name": "Python 3 (ipykernel)",
   "language": "python",
   "name": "python3"
  },
  "language_info": {
   "codemirror_mode": {
    "name": "ipython",
    "version": 3
   },
   "file_extension": ".py",
   "mimetype": "text/x-python",
   "name": "python",
   "nbconvert_exporter": "python",
   "pygments_lexer": "ipython3",
   "version": "3.8.13"
  }
 },
 "nbformat": 4,
 "nbformat_minor": 5
}
